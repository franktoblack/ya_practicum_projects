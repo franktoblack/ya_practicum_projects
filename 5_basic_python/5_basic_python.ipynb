{
 "cells": [
  {
   "cell_type": "markdown",
   "id": "a01e29d6",
   "metadata": {},
   "source": [
    "# Проект \"Музыка больших городов\""
   ]
  },
  {
   "cell_type": "markdown",
   "id": "35cda1da",
   "metadata": {},
   "source": [
    "На данных Яндекс Музыки необходимо сравнить поведение пользователей Москвы и Санкт-Петербурга\n",
    "\n",
    "**Цель исследования** — проверка следующих утвреждений:\n",
    "1. Активность пользователей зависит от дня недели. Причём в Москве и Петербурге это проявляется по-разному.\n",
    "2. В понедельник утром в Москве преобладают одни жанры, а в Петербурге — другие. Так же и вечером пятницы преобладают разные жанры — в зависимости от города. \n",
    "3. Москва и Петербург предпочитают разные жанры музыки. В Москве чаще слушают поп-музыку, в Петербурге — русский рэп.\n",
    "\n",
    "**Ход исследования** \n",
    " 1. Обзор данных.\n",
    " 2. Предобработка данных.\n",
    " 3. Проверка гипотез.\n"
   ]
  },
  {
   "cell_type": "markdown",
   "id": "023b4865",
   "metadata": {},
   "source": [
    "<a id='section_id'></a>\n",
    "# Содержание\n",
    "\n"
   ]
  },
  {
   "cell_type": "markdown",
   "id": "9ed125c5",
   "metadata": {},
   "source": [
    "1. [Импорт библиотек и загрузка данных](#1)\n",
    "2. [Предобработка данных](#2)\n",
    "   - 2.1 [Переименование столбцов](#2.1)\n",
    "   - 2.2 [Проверка пропусков](#2.2)\n",
    "   - 2.3 [Поиск дубликатов](#2.3)\n",
    "   - 2.4 [Вывод](#2.4)   \n",
    "3. [EDA](#3)\n",
    "   - 3.1 [Сравнение поведения пользователей двух столиц](#3.1)\n",
    "   - 3.2 [Музыка в начале и в конце недели](#3.2)\n",
    "   - 3.3 [Жанровые предпочтения в Москве и Петербурге](#3.3)\n",
    "3. [Вывод](#4)  "
   ]
  },
  {
   "cell_type": "markdown",
   "id": "a0915cce",
   "metadata": {},
   "source": [
    "<a id='1'></a>\n",
    "## 1. Импорт библиотек и загрузка данных\n",
    "[Назад к содержанию](#section_id)"
   ]
  },
  {
   "cell_type": "markdown",
   "id": "7d08e7c5",
   "metadata": {},
   "source": [
    "Импортируем библиотеки, загружаем данные, а так же выводим информацию о датасете"
   ]
  },
  {
   "cell_type": "code",
   "execution_count": 1,
   "id": "5f07d929",
   "metadata": {},
   "outputs": [
    {
     "data": {
      "text/html": [
       "<div>\n",
       "<style scoped>\n",
       "    .dataframe tbody tr th:only-of-type {\n",
       "        vertical-align: middle;\n",
       "    }\n",
       "\n",
       "    .dataframe tbody tr th {\n",
       "        vertical-align: top;\n",
       "    }\n",
       "\n",
       "    .dataframe thead th {\n",
       "        text-align: right;\n",
       "    }\n",
       "</style>\n",
       "<table border=\"1\" class=\"dataframe\">\n",
       "  <thead>\n",
       "    <tr style=\"text-align: right;\">\n",
       "      <th></th>\n",
       "      <th>userID</th>\n",
       "      <th>Track</th>\n",
       "      <th>artist</th>\n",
       "      <th>genre</th>\n",
       "      <th>City</th>\n",
       "      <th>time</th>\n",
       "      <th>Day</th>\n",
       "    </tr>\n",
       "  </thead>\n",
       "  <tbody>\n",
       "    <tr>\n",
       "      <th>0</th>\n",
       "      <td>FFB692EC</td>\n",
       "      <td>Kamigata To Boots</td>\n",
       "      <td>The Mass Missile</td>\n",
       "      <td>rock</td>\n",
       "      <td>Saint-Petersburg</td>\n",
       "      <td>20:28:33</td>\n",
       "      <td>Wednesday</td>\n",
       "    </tr>\n",
       "    <tr>\n",
       "      <th>1</th>\n",
       "      <td>55204538</td>\n",
       "      <td>Delayed Because of Accident</td>\n",
       "      <td>Andreas Rönnberg</td>\n",
       "      <td>rock</td>\n",
       "      <td>Moscow</td>\n",
       "      <td>14:07:09</td>\n",
       "      <td>Friday</td>\n",
       "    </tr>\n",
       "    <tr>\n",
       "      <th>2</th>\n",
       "      <td>20EC38</td>\n",
       "      <td>Funiculì funiculà</td>\n",
       "      <td>Mario Lanza</td>\n",
       "      <td>pop</td>\n",
       "      <td>Saint-Petersburg</td>\n",
       "      <td>20:58:07</td>\n",
       "      <td>Wednesday</td>\n",
       "    </tr>\n",
       "    <tr>\n",
       "      <th>3</th>\n",
       "      <td>A3DD03C9</td>\n",
       "      <td>Dragons in the Sunset</td>\n",
       "      <td>Fire + Ice</td>\n",
       "      <td>folk</td>\n",
       "      <td>Saint-Petersburg</td>\n",
       "      <td>08:37:09</td>\n",
       "      <td>Monday</td>\n",
       "    </tr>\n",
       "    <tr>\n",
       "      <th>4</th>\n",
       "      <td>E2DC1FAE</td>\n",
       "      <td>Soul People</td>\n",
       "      <td>Space Echo</td>\n",
       "      <td>dance</td>\n",
       "      <td>Moscow</td>\n",
       "      <td>08:34:34</td>\n",
       "      <td>Monday</td>\n",
       "    </tr>\n",
       "  </tbody>\n",
       "</table>\n",
       "</div>"
      ],
      "text/plain": [
       "     userID                        Track            artist  genre  \\\n",
       "0  FFB692EC            Kamigata To Boots  The Mass Missile   rock   \n",
       "1  55204538  Delayed Because of Accident  Andreas Rönnberg   rock   \n",
       "2    20EC38            Funiculì funiculà       Mario Lanza    pop   \n",
       "3  A3DD03C9        Dragons in the Sunset        Fire + Ice   folk   \n",
       "4  E2DC1FAE                  Soul People        Space Echo  dance   \n",
       "\n",
       "             City        time        Day  \n",
       "0  Saint-Petersburg  20:28:33  Wednesday  \n",
       "1            Moscow  14:07:09     Friday  \n",
       "2  Saint-Petersburg  20:58:07  Wednesday  \n",
       "3  Saint-Petersburg  08:37:09     Monday  \n",
       "4            Moscow  08:34:34     Monday  "
      ]
     },
     "metadata": {},
     "output_type": "display_data"
    },
    {
     "name": "stdout",
     "output_type": "stream",
     "text": [
      "Информация о датасете\n",
      "\n",
      "<class 'pandas.core.frame.DataFrame'>\n",
      "RangeIndex: 65079 entries, 0 to 65078\n",
      "Data columns (total 7 columns):\n",
      " #   Column    Non-Null Count  Dtype \n",
      "---  ------    --------------  ----- \n",
      " 0     userID  65079 non-null  object\n",
      " 1   Track     63848 non-null  object\n",
      " 2   artist    57876 non-null  object\n",
      " 3   genre     63881 non-null  object\n",
      " 4     City    65079 non-null  object\n",
      " 5   time      65079 non-null  object\n",
      " 6   Day       65079 non-null  object\n",
      "dtypes: object(7)\n",
      "memory usage: 3.5+ MB\n"
     ]
    }
   ],
   "source": [
    "import pandas as pd\n",
    "df = pd.read_csv('...')\n",
    "display(df.head())\n",
    "print('Информация о датасете')\n",
    "print('')\n",
    "df.info()"
   ]
  },
  {
   "cell_type": "markdown",
   "id": "e7705a03",
   "metadata": {},
   "source": [
    "Итак, в таблице семь столбцов. Тип данных во всех столбцах — object.\n",
    "\n",
    "Согласно документации к данным:\n",
    "\n",
    "- `userID` — идентификатор пользователя;\n",
    "- `Track` — название трека;\n",
    "- `artist` — имя исполнителя;\n",
    "- `genre` — название жанра;\n",
    "- `City` — город пользователя;\n",
    "- `time` — время начала прослушивания;\n",
    "- `Day` — день недели.\n",
    "\n",
    "- Имеются пропуски, а так же названия заголовков, написанные с ипользованием некорректного стиля.\n"
   ]
  },
  {
   "cell_type": "markdown",
   "id": "724d94f8",
   "metadata": {},
   "source": [
    "## 2. Предобработка данных\n",
    "<a id='2'></a>\n",
    "[Назад к содержанию](#section_id)"
   ]
  },
  {
   "cell_type": "markdown",
   "id": "e5681c91",
   "metadata": {},
   "source": [
    "### 2.1 Переименование столбцов\n",
    "<a id='2.1'></a>\n"
   ]
  },
  {
   "cell_type": "code",
   "execution_count": 2,
   "id": "a55605cf",
   "metadata": {},
   "outputs": [
    {
     "data": {
      "text/plain": [
       "Index(['user_id', 'track', 'artist', 'genre', 'city', 'time', 'day'], dtype='object')"
      ]
     },
     "execution_count": 2,
     "metadata": {},
     "output_type": "execute_result"
    }
   ],
   "source": [
    "df = df.rename(columns = {'  userID':'user_id','Track':'track', '  City  ':'city','Day':'day'})\n",
    "df.columns"
   ]
  },
  {
   "cell_type": "markdown",
   "id": "ca9d1124",
   "metadata": {},
   "source": [
    "Названия столбцов откорректированы"
   ]
  },
  {
   "cell_type": "markdown",
   "id": "6aa6984a",
   "metadata": {},
   "source": [
    "### 2.2 Проверка пропусков\n",
    "<a id='2.2'></a>\n",
    "[Назад к содержанию](#section_id)"
   ]
  },
  {
   "cell_type": "code",
   "execution_count": 3,
   "id": "db40116e",
   "metadata": {},
   "outputs": [
    {
     "data": {
      "text/html": [
       "<div>\n",
       "<style scoped>\n",
       "    .dataframe tbody tr th:only-of-type {\n",
       "        vertical-align: middle;\n",
       "    }\n",
       "\n",
       "    .dataframe tbody tr th {\n",
       "        vertical-align: top;\n",
       "    }\n",
       "\n",
       "    .dataframe thead th {\n",
       "        text-align: right;\n",
       "    }\n",
       "</style>\n",
       "<table border=\"1\" class=\"dataframe\">\n",
       "  <thead>\n",
       "    <tr style=\"text-align: right;\">\n",
       "      <th></th>\n",
       "      <th>nan_count</th>\n",
       "      <th>nan_share</th>\n",
       "    </tr>\n",
       "  </thead>\n",
       "  <tbody>\n",
       "    <tr>\n",
       "      <th>artist</th>\n",
       "      <td>7203</td>\n",
       "      <td>11.0681%</td>\n",
       "    </tr>\n",
       "    <tr>\n",
       "      <th>track</th>\n",
       "      <td>1231</td>\n",
       "      <td>1.8915%</td>\n",
       "    </tr>\n",
       "    <tr>\n",
       "      <th>genre</th>\n",
       "      <td>1198</td>\n",
       "      <td>1.8408%</td>\n",
       "    </tr>\n",
       "    <tr>\n",
       "      <th>user_id</th>\n",
       "      <td>0</td>\n",
       "      <td>0.0000%</td>\n",
       "    </tr>\n",
       "    <tr>\n",
       "      <th>city</th>\n",
       "      <td>0</td>\n",
       "      <td>0.0000%</td>\n",
       "    </tr>\n",
       "    <tr>\n",
       "      <th>time</th>\n",
       "      <td>0</td>\n",
       "      <td>0.0000%</td>\n",
       "    </tr>\n",
       "    <tr>\n",
       "      <th>day</th>\n",
       "      <td>0</td>\n",
       "      <td>0.0000%</td>\n",
       "    </tr>\n",
       "  </tbody>\n",
       "</table>\n",
       "</div>"
      ],
      "text/plain": [
       "         nan_count nan_share\n",
       "artist        7203  11.0681%\n",
       "track         1231   1.8915%\n",
       "genre         1198   1.8408%\n",
       "user_id          0   0.0000%\n",
       "city             0   0.0000%\n",
       "time             0   0.0000%\n",
       "day              0   0.0000%"
      ]
     },
     "metadata": {},
     "output_type": "display_data"
    }
   ],
   "source": [
    "display(pd.concat(\n",
    "    [\n",
    "        df.isna().sum(),\n",
    "        df.isna().mean().apply('{:.4%}'.format)\n",
    "    ], axis=1,\n",
    "    keys=['nan_count', 'nan_share']\n",
    ").sort_values(by='nan_count', ascending=False))"
   ]
  },
  {
   "cell_type": "markdown",
   "id": "a06ed6b9",
   "metadata": {},
   "source": [
    "- Так как мы исследуем жанровые предпочтения, то пропуски в `artist` и `track` можно заполнить значением `unknown`.\n",
    "- Пропуски в `genre` составляют менее 2% от общего числа, их можно удалить или так же заменить значением. описанным выше."
   ]
  },
  {
   "cell_type": "code",
   "execution_count": 4,
   "id": "063d7a95",
   "metadata": {},
   "outputs": [],
   "source": [
    "columns_to_replace = ['track','artist','genre']\n",
    "for column in columns_to_replace:\n",
    "    df[column]=df[column].fillna('unknown')# перебор названий столбцов в цикле и замена пропущенных значений на 'unknown'"
   ]
  },
  {
   "cell_type": "code",
   "execution_count": 5,
   "id": "e78010ca",
   "metadata": {},
   "outputs": [
    {
     "data": {
      "text/plain": [
       "user_id    0\n",
       "track      0\n",
       "artist     0\n",
       "genre      0\n",
       "city       0\n",
       "time       0\n",
       "day        0\n",
       "dtype: int64"
      ]
     },
     "execution_count": 5,
     "metadata": {},
     "output_type": "execute_result"
    }
   ],
   "source": [
    "df.isna().sum()"
   ]
  },
  {
   "cell_type": "markdown",
   "id": "59459418",
   "metadata": {},
   "source": [
    "Пропуски обработаны"
   ]
  },
  {
   "cell_type": "markdown",
   "id": "337c2b7f",
   "metadata": {},
   "source": [
    "### 2.3 Поиск дубликатов\n",
    "<a id='2.3'></a>\n",
    "[Назад к содержанию](#section_id)"
   ]
  },
  {
   "cell_type": "code",
   "execution_count": 6,
   "id": "16d2e22d",
   "metadata": {},
   "outputs": [
    {
     "name": "stdout",
     "output_type": "stream",
     "text": [
      "Выявлено явных дубликатов: 3826\n"
     ]
    }
   ],
   "source": [
    "print('Выявлено явных дубликатов:', df.duplicated().sum())"
   ]
  },
  {
   "cell_type": "code",
   "execution_count": 7,
   "id": "370620b9",
   "metadata": {},
   "outputs": [
    {
     "name": "stdout",
     "output_type": "stream",
     "text": [
      "Выявлено явных дубликатов повторно: 0\n"
     ]
    }
   ],
   "source": [
    "# Удаляем явные дубликаты\n",
    "df=df.drop_duplicates().reset_index(drop=True)\n",
    "print('Выявлено явных дубликатов повторно:', df.duplicated().sum())"
   ]
  },
  {
   "cell_type": "code",
   "execution_count": 8,
   "id": "ee606e4f",
   "metadata": {},
   "outputs": [
    {
     "data": {
      "text/plain": [
       "array(['acid', 'acoustic', 'action', 'adult', 'africa', 'afrikaans',\n",
       "       'alternative', 'alternativepunk', 'ambient', 'americana',\n",
       "       'animated', 'anime', 'arabesk', 'arabic', 'arena',\n",
       "       'argentinetango', 'art', 'audiobook', 'author', 'avantgarde',\n",
       "       'axé', 'baile', 'balkan', 'beats', 'bigroom', 'black', 'bluegrass',\n",
       "       'blues', 'bollywood', 'bossa', 'brazilian', 'breakbeat', 'breaks',\n",
       "       'broadway', 'cantautori', 'cantopop', 'canzone', 'caribbean',\n",
       "       'caucasian', 'celtic', 'chamber', 'chanson', 'children', 'chill',\n",
       "       'chinese', 'choral', 'christian', 'christmas', 'classical',\n",
       "       'classicmetal', 'club', 'colombian', 'comedy', 'conjazz',\n",
       "       'contemporary', 'country', 'cuban', 'dance', 'dancehall',\n",
       "       'dancepop', 'dark', 'death', 'deep', 'deutschrock', 'deutschspr',\n",
       "       'dirty', 'disco', 'dnb', 'documentary', 'downbeat', 'downtempo',\n",
       "       'drum', 'dub', 'dubstep', 'eastern', 'easy', 'electronic',\n",
       "       'electropop', 'emo', 'entehno', 'epicmetal', 'estrada', 'ethnic',\n",
       "       'eurofolk', 'european', 'experimental', 'extrememetal', 'fado',\n",
       "       'fairytail', 'film', 'fitness', 'flamenco', 'folk', 'folklore',\n",
       "       'folkmetal', 'folkrock', 'folktronica', 'forró', 'frankreich',\n",
       "       'französisch', 'french', 'funk', 'future', 'gangsta', 'garage',\n",
       "       'german', 'ghazal', 'gitarre', 'glitch', 'gospel', 'gothic',\n",
       "       'grime', 'grunge', 'gypsy', 'handsup', \"hard'n'heavy\", 'hardcore',\n",
       "       'hardstyle', 'hardtechno', 'hip', 'hip-hop', 'hiphop',\n",
       "       'historisch', 'holiday', 'hop', 'horror', 'house', 'hymn', 'idm',\n",
       "       'independent', 'indian', 'indie', 'indipop', 'industrial',\n",
       "       'inspirational', 'instrumental', 'international', 'irish', 'jam',\n",
       "       'japanese', 'jazz', 'jewish', 'jpop', 'jungle', 'k-pop',\n",
       "       'karadeniz', 'karaoke', 'kayokyoku', 'korean', 'laiko', 'latin',\n",
       "       'latino', 'leftfield', 'local', 'lounge', 'loungeelectronic',\n",
       "       'lovers', 'malaysian', 'mandopop', 'marschmusik', 'meditative',\n",
       "       'mediterranean', 'melodic', 'metal', 'metalcore', 'mexican',\n",
       "       'middle', 'minimal', 'miscellaneous', 'modern', 'mood', 'mpb',\n",
       "       'muslim', 'native', 'neoklassik', 'neue', 'new', 'newage',\n",
       "       'newwave', 'nu', 'nujazz', 'numetal', 'oceania', 'old', 'opera',\n",
       "       'orchestral', 'other', 'piano', 'podcasts', 'pop', 'popdance',\n",
       "       'popelectronic', 'popeurodance', 'poprussian', 'post',\n",
       "       'posthardcore', 'postrock', 'power', 'progmetal', 'progressive',\n",
       "       'psychedelic', 'punjabi', 'punk', 'quebecois', 'ragga', 'ram',\n",
       "       'rancheras', 'rap', 'rave', 'reggae', 'reggaeton', 'regional',\n",
       "       'relax', 'religious', 'retro', 'rhythm', 'rnb', 'rnr', 'rock',\n",
       "       'rockabilly', 'rockalternative', 'rockindie', 'rockother',\n",
       "       'romance', 'roots', 'ruspop', 'rusrap', 'rusrock', 'russian',\n",
       "       'salsa', 'samba', 'scenic', 'schlager', 'self', 'sertanejo',\n",
       "       'shanson', 'shoegazing', 'showtunes', 'singer', 'ska', 'skarock',\n",
       "       'slow', 'smooth', 'soft', 'soul', 'soulful', 'sound', 'soundtrack',\n",
       "       'southern', 'specialty', 'speech', 'spiritual', 'sport',\n",
       "       'stonerrock', 'surf', 'swing', 'synthpop', 'synthrock',\n",
       "       'sängerportrait', 'tango', 'tanzorchester', 'taraftar', 'tatar',\n",
       "       'tech', 'techno', 'teen', 'thrash', 'top', 'traditional',\n",
       "       'tradjazz', 'trance', 'tribal', 'trip', 'triphop', 'tropical',\n",
       "       'türk', 'türkçe', 'ukrrock', 'unknown', 'urban', 'uzbek',\n",
       "       'variété', 'vi', 'videogame', 'vocal', 'western', 'world',\n",
       "       'worldbeat', 'ïîï', 'электроника'], dtype=object)"
      ]
     },
     "execution_count": 8,
     "metadata": {},
     "output_type": "execute_result"
    }
   ],
   "source": [
    "# Поищем неявные дубликаты в жанрах\n",
    "(df.genre.sort_values()).unique()"
   ]
  },
  {
   "cell_type": "markdown",
   "id": "730c53c7",
   "metadata": {},
   "source": [
    "Выявлены следующие неявные дубликаты:\n",
    "* *hip*,\n",
    "* *hop*,\n",
    "* *hip-hop*."
   ]
  },
  {
   "cell_type": "code",
   "execution_count": 9,
   "id": "65327a9c",
   "metadata": {},
   "outputs": [],
   "source": [
    "# Избавляемся от неявных дубликатов\n",
    "duplicates = ['hip', 'hop', 'hip-hop']\n",
    "name = 'hiphop'\n",
    "df['genre'] = df['genre'].replace(duplicates, name)"
   ]
  },
  {
   "cell_type": "markdown",
   "id": "78a4f34d",
   "metadata": {},
   "source": [
    "### 2.4 Вывод\n",
    "<a id='2.4'></a>\n",
    "[Назад к содержанию](#section_id)"
   ]
  },
  {
   "cell_type": "markdown",
   "id": "ba26be74",
   "metadata": {},
   "source": [
    "Предобработка обнаружила три проблемы в данных:\n",
    "\n",
    "- нарушения в стиле заголовков,\n",
    "- пропущенные значения,\n",
    "- дубликаты — явные и неявные.\n",
    "\n",
    "Стиль заголовков отредактирован, пропущенны значения обработаны заменой.\n",
    "Явные дуликаты удалены, неявные обработы заменой\n",
    "\n"
   ]
  },
  {
   "cell_type": "markdown",
   "id": "529e272c",
   "metadata": {},
   "source": [
    "## 3. EDA\n",
    "<a id='3'></a>\n",
    "[Назад к содержанию](#section_id)"
   ]
  },
  {
   "cell_type": "markdown",
   "id": "2dff08cf",
   "metadata": {},
   "source": [
    "### 3.1 Сравнение поведения пользователей двух столиц\n",
    "<a id='3.1'></a>"
   ]
  },
  {
   "cell_type": "markdown",
   "id": "c58557d3",
   "metadata": {},
   "source": [
    "Первая гипотеза утверждает, что пользователи по-разному слушают музыку в Москве и Санкт-Петербурге. Проверьте это предположение по данным о трёх днях недели — понедельнике, среде и пятнице. Для этого:\n",
    "\n",
    "* Разделите пользователей Москвы и Санкт-Петербурга.\n",
    "* Сравните, сколько треков послушала каждая группа пользователей в понедельник, среду и пятницу.\n"
   ]
  },
  {
   "cell_type": "code",
   "execution_count": 10,
   "id": "c04f32ec",
   "metadata": {},
   "outputs": [
    {
     "data": {
      "text/html": [
       "<div>\n",
       "<style scoped>\n",
       "    .dataframe tbody tr th:only-of-type {\n",
       "        vertical-align: middle;\n",
       "    }\n",
       "\n",
       "    .dataframe tbody tr th {\n",
       "        vertical-align: top;\n",
       "    }\n",
       "\n",
       "    .dataframe thead th {\n",
       "        text-align: right;\n",
       "    }\n",
       "</style>\n",
       "<table border=\"1\" class=\"dataframe\">\n",
       "  <thead>\n",
       "    <tr style=\"text-align: right;\">\n",
       "      <th></th>\n",
       "      <th>user_id</th>\n",
       "    </tr>\n",
       "    <tr>\n",
       "      <th>city</th>\n",
       "      <th></th>\n",
       "    </tr>\n",
       "  </thead>\n",
       "  <tbody>\n",
       "    <tr>\n",
       "      <th>Moscow</th>\n",
       "      <td>42741</td>\n",
       "    </tr>\n",
       "    <tr>\n",
       "      <th>Saint-Petersburg</th>\n",
       "      <td>18512</td>\n",
       "    </tr>\n",
       "  </tbody>\n",
       "</table>\n",
       "</div>"
      ],
      "text/plain": [
       "                  user_id\n",
       "city                     \n",
       "Moscow              42741\n",
       "Saint-Petersburg    18512"
      ]
     },
     "execution_count": 10,
     "metadata": {},
     "output_type": "execute_result"
    }
   ],
   "source": [
    "# Рассмотрим количество прослушиваний в разных городах\n",
    "df.groupby('city')['user_id'].count().to_frame()"
   ]
  },
  {
   "cell_type": "markdown",
   "id": "683c114f",
   "metadata": {},
   "source": [
    "В Москве прослушиваний больше, чем в Петербурге. Из этого не следует, что московские пользователи чаще слушают музыку. Просто самих пользователей в Москве больше."
   ]
  },
  {
   "cell_type": "code",
   "execution_count": 11,
   "id": "ba805367",
   "metadata": {},
   "outputs": [
    {
     "data": {
      "text/html": [
       "<div>\n",
       "<style scoped>\n",
       "    .dataframe tbody tr th:only-of-type {\n",
       "        vertical-align: middle;\n",
       "    }\n",
       "\n",
       "    .dataframe tbody tr th {\n",
       "        vertical-align: top;\n",
       "    }\n",
       "\n",
       "    .dataframe thead th {\n",
       "        text-align: right;\n",
       "    }\n",
       "</style>\n",
       "<table border=\"1\" class=\"dataframe\">\n",
       "  <thead>\n",
       "    <tr style=\"text-align: right;\">\n",
       "      <th></th>\n",
       "      <th>user_id</th>\n",
       "    </tr>\n",
       "    <tr>\n",
       "      <th>day</th>\n",
       "      <th></th>\n",
       "    </tr>\n",
       "  </thead>\n",
       "  <tbody>\n",
       "    <tr>\n",
       "      <th>Friday</th>\n",
       "      <td>21840</td>\n",
       "    </tr>\n",
       "    <tr>\n",
       "      <th>Monday</th>\n",
       "      <td>21354</td>\n",
       "    </tr>\n",
       "    <tr>\n",
       "      <th>Wednesday</th>\n",
       "      <td>18059</td>\n",
       "    </tr>\n",
       "  </tbody>\n",
       "</table>\n",
       "</div>"
      ],
      "text/plain": [
       "           user_id\n",
       "day               \n",
       "Friday       21840\n",
       "Monday       21354\n",
       "Wednesday    18059"
      ]
     },
     "execution_count": 11,
     "metadata": {},
     "output_type": "execute_result"
    }
   ],
   "source": [
    "# Рассмотрим количество прослушиваний в каждый из трёх дней\n",
    "df.groupby('day')['user_id'].count().to_frame()"
   ]
  },
  {
   "cell_type": "markdown",
   "id": "966e95c4",
   "metadata": {},
   "source": [
    "В среднем пользователи из двух городов менее активны по средам. Но картина может измениться, если рассмотреть каждый город в отдельности."
   ]
  },
  {
   "cell_type": "markdown",
   "id": "8cdfe5d9",
   "metadata": {},
   "source": [
    "Далее создаем функцию `number_tracks()`, которая посчитает прослушивания для заданного дня и города, используя два параметра:\n",
    "* день недели,\n",
    "* название города.\n"
   ]
  },
  {
   "cell_type": "code",
   "execution_count": 12,
   "id": "4a223e93",
   "metadata": {},
   "outputs": [],
   "source": [
    "def number_tracks (day,city):\n",
    "    track_list = df[(df['day'] == day) & (df['city'] == city)]\n",
    "    track_list_count = track_list['user_id'].count()\n",
    "    return track_list_count"
   ]
  },
  {
   "cell_type": "markdown",
   "id": "62a0d467",
   "metadata": {},
   "source": [
    "Далее применим функцию и определим прослушивания в городах по дням.\n",
    "Полученную информацию сформирую в таблицу для удобства восприятия."
   ]
  },
  {
   "cell_type": "code",
   "execution_count": 13,
   "id": "8e2aa483",
   "metadata": {},
   "outputs": [
    {
     "data": {
      "text/html": [
       "<div>\n",
       "<style scoped>\n",
       "    .dataframe tbody tr th:only-of-type {\n",
       "        vertical-align: middle;\n",
       "    }\n",
       "\n",
       "    .dataframe tbody tr th {\n",
       "        vertical-align: top;\n",
       "    }\n",
       "\n",
       "    .dataframe thead th {\n",
       "        text-align: right;\n",
       "    }\n",
       "</style>\n",
       "<table border=\"1\" class=\"dataframe\">\n",
       "  <thead>\n",
       "    <tr style=\"text-align: right;\">\n",
       "      <th></th>\n",
       "      <th>city</th>\n",
       "      <th>monday</th>\n",
       "      <th>wednesday</th>\n",
       "      <th>friday</th>\n",
       "    </tr>\n",
       "  </thead>\n",
       "  <tbody>\n",
       "    <tr>\n",
       "      <th>0</th>\n",
       "      <td>МСК</td>\n",
       "      <td>15740</td>\n",
       "      <td>11056</td>\n",
       "      <td>15945</td>\n",
       "    </tr>\n",
       "    <tr>\n",
       "      <th>1</th>\n",
       "      <td>СПБ</td>\n",
       "      <td>5614</td>\n",
       "      <td>7003</td>\n",
       "      <td>5895</td>\n",
       "    </tr>\n",
       "  </tbody>\n",
       "</table>\n",
       "</div>"
      ],
      "text/plain": [
       "  city  monday  wednesday  friday\n",
       "0  МСК   15740      11056   15945\n",
       "1  СПБ    5614       7003    5895"
      ]
     },
     "execution_count": 13,
     "metadata": {},
     "output_type": "execute_result"
    }
   ],
   "source": [
    "pd.DataFrame(data=[['МСК',number_tracks('Monday','Moscow'),\n",
    "                                 number_tracks('Wednesday','Moscow'),\n",
    "                                 number_tracks('Friday','Moscow')],\n",
    "                          ['СПБ',number_tracks('Monday','Saint-Petersburg'),\n",
    "                                 number_tracks('Wednesday','Saint-Petersburg'),\n",
    "                                 number_tracks('Friday','Saint-Petersburg')]], \n",
    "                    columns=['city', 'monday', 'wednesday', 'friday'])\n"
   ]
  },
  {
   "cell_type": "markdown",
   "id": "be6deec6",
   "metadata": {},
   "source": [
    "**Выводы**\n",
    "\n",
    "Данные показывают разницу поведения пользователей:\n",
    "\n",
    "- В Москве пик прослушиваний приходится на понедельник и пятницу, а в среду заметен спад.\n",
    "- В Петербурге, наоборот, больше слушают музыку по средам. Активность в понедельник и пятницу здесь почти в равной мере уступает среде.\n",
    "\n",
    "Значит, данные говорят в пользу первой гипотезы."
   ]
  },
  {
   "cell_type": "markdown",
   "id": "c9ca08ae",
   "metadata": {},
   "source": [
    "### 3.2 Музыка в начале и в конце недели\n",
    "<a id='3.2'></a>\n",
    "[Назад к содержанию](#section_id)"
   ]
  },
  {
   "cell_type": "markdown",
   "id": "a26aaf86",
   "metadata": {},
   "source": [
    "Согласно второй гипотезе, утром в понедельник в Москве преобладают одни жанры, а в Петербурге — другие. Так же и вечером пятницы преобладают разные жанры — в зависимости от города."
   ]
  },
  {
   "cell_type": "code",
   "execution_count": 14,
   "id": "f581b21a",
   "metadata": {},
   "outputs": [],
   "source": [
    "# Задаю таблицы с фильтром по городам\n",
    "moscow_general = df[df['city'] == 'Moscow']\n",
    "spb_general = df[df['city'] == 'Saint-Petersburg']"
   ]
  },
  {
   "cell_type": "markdown",
   "id": "a2a9505f",
   "metadata": {},
   "source": [
    "Создайте функцию `genre_weekday()` с четырьмя параметрами:\n",
    "* таблица (датафрейм) с данными,\n",
    "* день недели,\n",
    "* начальная временная метка в формате 'hh:mm', \n",
    "* последняя временная метка в формате 'hh:mm'.\n",
    "\n",
    "Функция должна вернуть информацию о топ-10 жанров тех треков, которые прослушивали в указанный день, в промежутке между двумя отметками времени."
   ]
  },
  {
   "cell_type": "code",
   "execution_count": 15,
   "id": "7fddc5d6",
   "metadata": {},
   "outputs": [],
   "source": [
    "def genre_weekday(df, day, time1, time2):\n",
    "    genre_df = df[df['day'] == day] # фильтр строк, у которых день равен day\n",
    "    genre_df = genre_df[genre_df['time'] < time2]# фильтр строк, у которых время меньше time2\n",
    "    genre_df = genre_df[genre_df['time'] > time1]# фильтр строк, у которых время больше time1\n",
    "    genre_df_grouped = genre_df.groupby('genre')['genre'].count()# группировка по жанру и подсчет для каждого.\n",
    "    genre_df_sorted = genre_df_grouped.sort_values(ascending=False)# сортировка по убыванию\n",
    "    return genre_df_sorted[:10] # вывод топ-10 жанров"
   ]
  },
  {
   "cell_type": "code",
   "execution_count": 16,
   "id": "d12850e0",
   "metadata": {},
   "outputs": [
    {
     "name": "stdout",
     "output_type": "stream",
     "text": [
      "Топ-10 жанров в МСК в ПН утром\n"
     ]
    },
    {
     "data": {
      "text/html": [
       "<div>\n",
       "<style scoped>\n",
       "    .dataframe tbody tr th:only-of-type {\n",
       "        vertical-align: middle;\n",
       "    }\n",
       "\n",
       "    .dataframe tbody tr th {\n",
       "        vertical-align: top;\n",
       "    }\n",
       "\n",
       "    .dataframe thead th {\n",
       "        text-align: right;\n",
       "    }\n",
       "</style>\n",
       "<table border=\"1\" class=\"dataframe\">\n",
       "  <thead>\n",
       "    <tr style=\"text-align: right;\">\n",
       "      <th></th>\n",
       "      <th>genre</th>\n",
       "    </tr>\n",
       "    <tr>\n",
       "      <th>genre</th>\n",
       "      <th></th>\n",
       "    </tr>\n",
       "  </thead>\n",
       "  <tbody>\n",
       "    <tr>\n",
       "      <th>pop</th>\n",
       "      <td>781</td>\n",
       "    </tr>\n",
       "    <tr>\n",
       "      <th>dance</th>\n",
       "      <td>549</td>\n",
       "    </tr>\n",
       "    <tr>\n",
       "      <th>electronic</th>\n",
       "      <td>480</td>\n",
       "    </tr>\n",
       "    <tr>\n",
       "      <th>rock</th>\n",
       "      <td>474</td>\n",
       "    </tr>\n",
       "    <tr>\n",
       "      <th>hiphop</th>\n",
       "      <td>286</td>\n",
       "    </tr>\n",
       "    <tr>\n",
       "      <th>ruspop</th>\n",
       "      <td>186</td>\n",
       "    </tr>\n",
       "    <tr>\n",
       "      <th>world</th>\n",
       "      <td>181</td>\n",
       "    </tr>\n",
       "    <tr>\n",
       "      <th>rusrap</th>\n",
       "      <td>175</td>\n",
       "    </tr>\n",
       "    <tr>\n",
       "      <th>alternative</th>\n",
       "      <td>164</td>\n",
       "    </tr>\n",
       "    <tr>\n",
       "      <th>unknown</th>\n",
       "      <td>161</td>\n",
       "    </tr>\n",
       "  </tbody>\n",
       "</table>\n",
       "</div>"
      ],
      "text/plain": [
       "             genre\n",
       "genre             \n",
       "pop            781\n",
       "dance          549\n",
       "electronic     480\n",
       "rock           474\n",
       "hiphop         286\n",
       "ruspop         186\n",
       "world          181\n",
       "rusrap         175\n",
       "alternative    164\n",
       "unknown        161"
      ]
     },
     "execution_count": 16,
     "metadata": {},
     "output_type": "execute_result"
    }
   ],
   "source": [
    "print('Топ-10 жанров в МСК в ПН утром')\n",
    "genre_weekday(moscow_general, 'Monday', '07:00','11:00').to_frame()"
   ]
  },
  {
   "cell_type": "code",
   "execution_count": 17,
   "id": "ecc9c95b",
   "metadata": {},
   "outputs": [
    {
     "name": "stdout",
     "output_type": "stream",
     "text": [
      "Топ-10 жанров в СПБ в ПН утром\n"
     ]
    },
    {
     "data": {
      "text/html": [
       "<div>\n",
       "<style scoped>\n",
       "    .dataframe tbody tr th:only-of-type {\n",
       "        vertical-align: middle;\n",
       "    }\n",
       "\n",
       "    .dataframe tbody tr th {\n",
       "        vertical-align: top;\n",
       "    }\n",
       "\n",
       "    .dataframe thead th {\n",
       "        text-align: right;\n",
       "    }\n",
       "</style>\n",
       "<table border=\"1\" class=\"dataframe\">\n",
       "  <thead>\n",
       "    <tr style=\"text-align: right;\">\n",
       "      <th></th>\n",
       "      <th>genre</th>\n",
       "    </tr>\n",
       "    <tr>\n",
       "      <th>genre</th>\n",
       "      <th></th>\n",
       "    </tr>\n",
       "  </thead>\n",
       "  <tbody>\n",
       "    <tr>\n",
       "      <th>pop</th>\n",
       "      <td>218</td>\n",
       "    </tr>\n",
       "    <tr>\n",
       "      <th>dance</th>\n",
       "      <td>182</td>\n",
       "    </tr>\n",
       "    <tr>\n",
       "      <th>rock</th>\n",
       "      <td>162</td>\n",
       "    </tr>\n",
       "    <tr>\n",
       "      <th>electronic</th>\n",
       "      <td>147</td>\n",
       "    </tr>\n",
       "    <tr>\n",
       "      <th>hiphop</th>\n",
       "      <td>80</td>\n",
       "    </tr>\n",
       "    <tr>\n",
       "      <th>ruspop</th>\n",
       "      <td>64</td>\n",
       "    </tr>\n",
       "    <tr>\n",
       "      <th>alternative</th>\n",
       "      <td>58</td>\n",
       "    </tr>\n",
       "    <tr>\n",
       "      <th>rusrap</th>\n",
       "      <td>55</td>\n",
       "    </tr>\n",
       "    <tr>\n",
       "      <th>jazz</th>\n",
       "      <td>44</td>\n",
       "    </tr>\n",
       "    <tr>\n",
       "      <th>classical</th>\n",
       "      <td>40</td>\n",
       "    </tr>\n",
       "  </tbody>\n",
       "</table>\n",
       "</div>"
      ],
      "text/plain": [
       "             genre\n",
       "genre             \n",
       "pop            218\n",
       "dance          182\n",
       "rock           162\n",
       "electronic     147\n",
       "hiphop          80\n",
       "ruspop          64\n",
       "alternative     58\n",
       "rusrap          55\n",
       "jazz            44\n",
       "classical       40"
      ]
     },
     "execution_count": 17,
     "metadata": {},
     "output_type": "execute_result"
    }
   ],
   "source": [
    "print('Топ-10 жанров в СПБ в ПН утром')\n",
    "genre_weekday(spb_general, 'Monday', '07:00','11:00').to_frame()"
   ]
  },
  {
   "cell_type": "code",
   "execution_count": 18,
   "id": "fe1c0eb3",
   "metadata": {},
   "outputs": [
    {
     "name": "stdout",
     "output_type": "stream",
     "text": [
      "Топ-10 жанров в МСК в ПТ вечером\n"
     ]
    },
    {
     "data": {
      "text/plain": [
       "genre\n",
       "pop            713\n",
       "rock           517\n",
       "dance          495\n",
       "electronic     482\n",
       "hiphop         273\n",
       "world          208\n",
       "ruspop         170\n",
       "alternative    163\n",
       "classical      163\n",
       "rusrap         142\n",
       "Name: genre, dtype: int64"
      ]
     },
     "execution_count": 18,
     "metadata": {},
     "output_type": "execute_result"
    }
   ],
   "source": [
    "print('Топ-10 жанров в МСК в ПТ вечером')\n",
    "genre_weekday(moscow_general, 'Friday', '17:00','23:00')"
   ]
  },
  {
   "cell_type": "code",
   "execution_count": 19,
   "id": "5bf7f36c",
   "metadata": {},
   "outputs": [
    {
     "name": "stdout",
     "output_type": "stream",
     "text": [
      "Топ-10 жанров в СПБ в ПТ вечером\n"
     ]
    },
    {
     "data": {
      "text/plain": [
       "genre\n",
       "pop            256\n",
       "electronic     216\n",
       "rock           216\n",
       "dance          210\n",
       "hiphop          97\n",
       "alternative     63\n",
       "jazz            61\n",
       "classical       60\n",
       "rusrap          59\n",
       "world           54\n",
       "Name: genre, dtype: int64"
      ]
     },
     "execution_count": 19,
     "metadata": {},
     "output_type": "execute_result"
    }
   ],
   "source": [
    "print('Топ-10 жанров в СПБ в ПТ вечером')\n",
    "genre_weekday(spb_general, 'Friday', '17:00','23:00')"
   ]
  },
  {
   "cell_type": "markdown",
   "id": "80b42527",
   "metadata": {},
   "source": [
    "**Выводы**\n",
    "\n",
    "Если сравнить топ-10 жанров в понедельник утром, можно сделать такие выводы:\n",
    "\n",
    "1. В Москве и Петербурге слушают похожую музыку. Единственное отличие — в московский рейтинг вошёл жанр “world”, а в петербургский — джаз и классика.\n",
    "\n",
    "2. В Москве пропущенных значений оказалось так много, что значение `'unknown'` заняло десятое место среди самых популярных жанров. Значит, пропущенные значения занимают существенную долю в данных и угрожают достоверности исследования.\n",
    "\n",
    "Вечер пятницы не меняет эту картину. Некоторые жанры поднимаются немного выше, другие спускаются, но в целом топ-10 остаётся тем же самым.\n",
    "\n",
    "Таким образом, вторая гипотеза подтвердилась лишь частично:\n",
    "* Пользователи слушают похожую музыку в начале недели и в конце.\n",
    "* Разница между Москвой и Петербургом не слишком выражена. В Москве чаще слушают русскую популярную музыку, в Петербурге — джаз.\n",
    "\n",
    "Однако пропуски в данных ставят под сомнение этот результат. В Москве их так много, что рейтинг топ-10 мог бы выглядеть иначе, если бы не утерянные  данные о жанрах."
   ]
  },
  {
   "cell_type": "markdown",
   "id": "e95fb9ef",
   "metadata": {},
   "source": [
    "### 3.3 Жанровые предпочтения в Москве и Петербурге\n",
    "<a id='3.3'></a>\n",
    "[Назад к содержанию](#section_id)\n",
    "\n",
    "Гипотеза: Петербург — столица хип-хопа, музыку этого жанра там слушают чаще, чем в Москве.  А Москва — город контрастов, в котором, тем не менее, преобладает поп-музыка."
   ]
  },
  {
   "cell_type": "code",
   "execution_count": 20,
   "id": "9248658f",
   "metadata": {},
   "outputs": [
    {
     "data": {
      "text/html": [
       "<div>\n",
       "<style scoped>\n",
       "    .dataframe tbody tr th:only-of-type {\n",
       "        vertical-align: middle;\n",
       "    }\n",
       "\n",
       "    .dataframe tbody tr th {\n",
       "        vertical-align: top;\n",
       "    }\n",
       "\n",
       "    .dataframe thead th {\n",
       "        text-align: right;\n",
       "    }\n",
       "</style>\n",
       "<table border=\"1\" class=\"dataframe\">\n",
       "  <thead>\n",
       "    <tr style=\"text-align: right;\">\n",
       "      <th></th>\n",
       "      <th>genre</th>\n",
       "    </tr>\n",
       "    <tr>\n",
       "      <th>genre</th>\n",
       "      <th></th>\n",
       "    </tr>\n",
       "  </thead>\n",
       "  <tbody>\n",
       "    <tr>\n",
       "      <th>pop</th>\n",
       "      <td>5892</td>\n",
       "    </tr>\n",
       "    <tr>\n",
       "      <th>dance</th>\n",
       "      <td>4435</td>\n",
       "    </tr>\n",
       "    <tr>\n",
       "      <th>rock</th>\n",
       "      <td>3965</td>\n",
       "    </tr>\n",
       "    <tr>\n",
       "      <th>electronic</th>\n",
       "      <td>3786</td>\n",
       "    </tr>\n",
       "    <tr>\n",
       "      <th>hiphop</th>\n",
       "      <td>2096</td>\n",
       "    </tr>\n",
       "    <tr>\n",
       "      <th>classical</th>\n",
       "      <td>1616</td>\n",
       "    </tr>\n",
       "    <tr>\n",
       "      <th>world</th>\n",
       "      <td>1432</td>\n",
       "    </tr>\n",
       "    <tr>\n",
       "      <th>alternative</th>\n",
       "      <td>1379</td>\n",
       "    </tr>\n",
       "    <tr>\n",
       "      <th>ruspop</th>\n",
       "      <td>1372</td>\n",
       "    </tr>\n",
       "    <tr>\n",
       "      <th>rusrap</th>\n",
       "      <td>1161</td>\n",
       "    </tr>\n",
       "  </tbody>\n",
       "</table>\n",
       "</div>"
      ],
      "text/plain": [
       "             genre\n",
       "genre             \n",
       "pop           5892\n",
       "dance         4435\n",
       "rock          3965\n",
       "electronic    3786\n",
       "hiphop        2096\n",
       "classical     1616\n",
       "world         1432\n",
       "alternative   1379\n",
       "ruspop        1372\n",
       "rusrap        1161"
      ]
     },
     "execution_count": 20,
     "metadata": {},
     "output_type": "execute_result"
    }
   ],
   "source": [
    "(moscow_general.groupby('genre')['genre']\n",
    "               .count()\n",
    "               .sort_values(ascending=False)\n",
    "               .head(10)\n",
    "               .to_frame())"
   ]
  },
  {
   "cell_type": "code",
   "execution_count": 21,
   "id": "69a77017",
   "metadata": {},
   "outputs": [
    {
     "data": {
      "text/html": [
       "<div>\n",
       "<style scoped>\n",
       "    .dataframe tbody tr th:only-of-type {\n",
       "        vertical-align: middle;\n",
       "    }\n",
       "\n",
       "    .dataframe tbody tr th {\n",
       "        vertical-align: top;\n",
       "    }\n",
       "\n",
       "    .dataframe thead th {\n",
       "        text-align: right;\n",
       "    }\n",
       "</style>\n",
       "<table border=\"1\" class=\"dataframe\">\n",
       "  <thead>\n",
       "    <tr style=\"text-align: right;\">\n",
       "      <th></th>\n",
       "      <th>genre</th>\n",
       "    </tr>\n",
       "    <tr>\n",
       "      <th>genre</th>\n",
       "      <th></th>\n",
       "    </tr>\n",
       "  </thead>\n",
       "  <tbody>\n",
       "    <tr>\n",
       "      <th>pop</th>\n",
       "      <td>2431</td>\n",
       "    </tr>\n",
       "    <tr>\n",
       "      <th>dance</th>\n",
       "      <td>1932</td>\n",
       "    </tr>\n",
       "    <tr>\n",
       "      <th>rock</th>\n",
       "      <td>1879</td>\n",
       "    </tr>\n",
       "    <tr>\n",
       "      <th>electronic</th>\n",
       "      <td>1736</td>\n",
       "    </tr>\n",
       "    <tr>\n",
       "      <th>hiphop</th>\n",
       "      <td>960</td>\n",
       "    </tr>\n",
       "    <tr>\n",
       "      <th>alternative</th>\n",
       "      <td>649</td>\n",
       "    </tr>\n",
       "    <tr>\n",
       "      <th>classical</th>\n",
       "      <td>646</td>\n",
       "    </tr>\n",
       "    <tr>\n",
       "      <th>rusrap</th>\n",
       "      <td>564</td>\n",
       "    </tr>\n",
       "    <tr>\n",
       "      <th>ruspop</th>\n",
       "      <td>538</td>\n",
       "    </tr>\n",
       "    <tr>\n",
       "      <th>world</th>\n",
       "      <td>515</td>\n",
       "    </tr>\n",
       "  </tbody>\n",
       "</table>\n",
       "</div>"
      ],
      "text/plain": [
       "             genre\n",
       "genre             \n",
       "pop           2431\n",
       "dance         1932\n",
       "rock          1879\n",
       "electronic    1736\n",
       "hiphop         960\n",
       "alternative    649\n",
       "classical      646\n",
       "rusrap         564\n",
       "ruspop         538\n",
       "world          515"
      ]
     },
     "execution_count": 21,
     "metadata": {},
     "output_type": "execute_result"
    }
   ],
   "source": [
    "(spb_general.groupby('genre')['genre']\n",
    "               .count()\n",
    "               .sort_values(ascending=False)\n",
    "               .head(10)\n",
    "               .to_frame())"
   ]
  },
  {
   "cell_type": "markdown",
   "id": "5fdba2a3",
   "metadata": {},
   "source": [
    "Гипотеза частично подтвердилась:\n",
    "* Поп-музыка — самый популярный жанр в Москве, как и предполагала гипотеза. Более того, в топ-10 жанров встречается близкий жанр — русская популярная музыка.\n",
    "* Вопреки ожиданиям, хип-хоп одинаково популярен в Москве и Петербурге. \n"
   ]
  },
  {
   "cell_type": "markdown",
   "id": "ef9f2ff2",
   "metadata": {},
   "source": [
    "## 4.Вывод\n",
    "<a id='4'></a>\n",
    "[Назад к содержанию](#section_id)"
   ]
  },
  {
   "cell_type": "markdown",
   "id": "17edb6ba",
   "metadata": {},
   "source": [
    "Утверждения проверены, выводы следующие:\n",
    "\n",
    "1. День недели по-разному влияет на активность пользователей в Москве и Петербурге. \n",
    "\n",
    "Первое утверждение полностью подтвердилось.\n",
    "\n",
    "2. Музыкальные предпочтения не сильно меняются в течение недели — будь то Москва или Петербург. Небольшие различия заметны в начале недели, по понедельникам:\n",
    "* в Москве слушают музыку жанра “world”,\n",
    "* в Петербурге — джаз и классику.\n",
    "\n",
    "Таким образом, второе утверждение подтвердилось лишь отчасти. Этот результат мог оказаться иным, если бы не пропуски в данных.\n",
    "\n",
    "3. Во вкусах пользователей Москвы и Петербурга больше общего чем различий. Вопреки ожиданиям, предпочтения жанров в Петербурге напоминают московские.\n",
    "\n",
    "Третье утверждение не подтвердилось. Если различия в предпочтениях и существуют, на основной массе пользователей они незаметны.\n"
   ]
  },
  {
   "cell_type": "code",
   "execution_count": null,
   "id": "1539008f",
   "metadata": {},
   "outputs": [],
   "source": []
  }
 ],
 "metadata": {
  "ExecuteTimeLog": [
   {
    "duration": 417,
    "start_time": "2024-02-05T12:30:51.313Z"
   },
   {
    "duration": 173,
    "start_time": "2024-02-05T12:30:58.624Z"
   },
   {
    "duration": 198,
    "start_time": "2024-02-05T12:33:19.717Z"
   },
   {
    "duration": 200,
    "start_time": "2024-02-05T12:33:41.675Z"
   },
   {
    "duration": 198,
    "start_time": "2024-02-05T12:33:51.227Z"
   },
   {
    "duration": 50,
    "start_time": "2024-02-05T12:36:47.064Z"
   },
   {
    "duration": 68,
    "start_time": "2024-02-05T12:40:15.075Z"
   },
   {
    "duration": 10,
    "start_time": "2024-02-05T12:40:23.228Z"
   },
   {
    "duration": 959,
    "start_time": "2024-02-06T08:32:38.858Z"
   },
   {
    "duration": 111,
    "start_time": "2024-02-06T10:52:14.078Z"
   },
   {
    "duration": 75,
    "start_time": "2024-02-06T11:06:51.379Z"
   },
   {
    "duration": 0,
    "start_time": "2024-02-06T11:06:51.455Z"
   },
   {
    "duration": 0,
    "start_time": "2024-02-06T11:06:51.456Z"
   },
   {
    "duration": 0,
    "start_time": "2024-02-06T11:06:51.457Z"
   },
   {
    "duration": 206,
    "start_time": "2024-02-06T11:07:02.186Z"
   },
   {
    "duration": 10,
    "start_time": "2024-02-06T11:07:02.394Z"
   },
   {
    "duration": 82,
    "start_time": "2024-02-06T11:07:02.406Z"
   },
   {
    "duration": 18,
    "start_time": "2024-02-06T11:10:41.260Z"
   },
   {
    "duration": 45,
    "start_time": "2024-02-06T11:10:48.792Z"
   },
   {
    "duration": 27,
    "start_time": "2024-02-06T11:10:56.976Z"
   },
   {
    "duration": 69,
    "start_time": "2024-02-06T11:11:55.733Z"
   },
   {
    "duration": 84,
    "start_time": "2024-02-06T11:12:37.773Z"
   },
   {
    "duration": 74,
    "start_time": "2024-02-06T11:13:03.061Z"
   },
   {
    "duration": 118,
    "start_time": "2024-02-06T11:13:15.391Z"
   },
   {
    "duration": 7,
    "start_time": "2024-02-06T11:14:19.970Z"
   },
   {
    "duration": 39,
    "start_time": "2024-02-06T11:14:33.651Z"
   },
   {
    "duration": 66,
    "start_time": "2024-02-06T11:14:40.090Z"
   },
   {
    "duration": 73,
    "start_time": "2024-02-06T11:14:45.051Z"
   },
   {
    "duration": 76,
    "start_time": "2024-02-06T11:14:50.498Z"
   },
   {
    "duration": 8,
    "start_time": "2024-02-06T11:14:52.603Z"
   },
   {
    "duration": 41,
    "start_time": "2024-02-06T11:15:18.787Z"
   },
   {
    "duration": 42,
    "start_time": "2024-02-06T11:15:25.575Z"
   },
   {
    "duration": 11,
    "start_time": "2024-02-06T11:16:31.696Z"
   },
   {
    "duration": 14,
    "start_time": "2024-02-06T11:38:53.570Z"
   },
   {
    "duration": 7,
    "start_time": "2024-02-06T11:40:51.331Z"
   },
   {
    "duration": 16,
    "start_time": "2024-02-06T11:41:00.459Z"
   },
   {
    "duration": 18,
    "start_time": "2024-02-06T11:42:38.171Z"
   },
   {
    "duration": 3,
    "start_time": "2024-02-06T11:42:42.468Z"
   },
   {
    "duration": 144,
    "start_time": "2024-02-06T11:43:22.356Z"
   },
   {
    "duration": 17,
    "start_time": "2024-02-06T11:44:13.356Z"
   },
   {
    "duration": 16,
    "start_time": "2024-02-06T11:44:23.972Z"
   },
   {
    "duration": 26,
    "start_time": "2024-02-06T11:44:48.028Z"
   },
   {
    "duration": 28,
    "start_time": "2024-02-06T11:44:58.892Z"
   },
   {
    "duration": 28,
    "start_time": "2024-02-06T11:45:05.205Z"
   },
   {
    "duration": 68,
    "start_time": "2024-02-06T11:45:58.404Z"
   },
   {
    "duration": 28,
    "start_time": "2024-02-06T11:46:39.159Z"
   },
   {
    "duration": 77,
    "start_time": "2024-02-06T11:48:40.775Z"
   },
   {
    "duration": 74,
    "start_time": "2024-02-06T11:53:28.378Z"
   },
   {
    "duration": 71,
    "start_time": "2024-02-06T11:53:35.722Z"
   },
   {
    "duration": 3,
    "start_time": "2024-02-06T12:09:57.637Z"
   },
   {
    "duration": 7,
    "start_time": "2024-02-06T12:10:05.677Z"
   },
   {
    "duration": 18,
    "start_time": "2024-02-06T12:10:24.244Z"
   },
   {
    "duration": 17,
    "start_time": "2024-02-06T12:10:26.845Z"
   },
   {
    "duration": 17,
    "start_time": "2024-02-06T12:10:38.876Z"
   },
   {
    "duration": 20,
    "start_time": "2024-02-06T12:10:46.314Z"
   },
   {
    "duration": 18,
    "start_time": "2024-02-06T12:11:05.614Z"
   },
   {
    "duration": 13,
    "start_time": "2024-02-06T12:11:16.629Z"
   },
   {
    "duration": 13,
    "start_time": "2024-02-06T12:11:22.677Z"
   },
   {
    "duration": 20,
    "start_time": "2024-02-06T12:12:02.015Z"
   },
   {
    "duration": 17,
    "start_time": "2024-02-06T12:12:27.085Z"
   },
   {
    "duration": 13,
    "start_time": "2024-02-06T12:12:36.118Z"
   },
   {
    "duration": 26,
    "start_time": "2024-02-06T12:13:20.663Z"
   },
   {
    "duration": 28,
    "start_time": "2024-02-06T12:13:33.368Z"
   },
   {
    "duration": 4,
    "start_time": "2024-02-06T12:14:19.031Z"
   },
   {
    "duration": 22,
    "start_time": "2024-02-06T12:14:21.759Z"
   },
   {
    "duration": 27,
    "start_time": "2024-02-06T12:14:57.240Z"
   },
   {
    "duration": 19,
    "start_time": "2024-02-06T12:15:00.984Z"
   },
   {
    "duration": 16,
    "start_time": "2024-02-06T12:15:13.681Z"
   },
   {
    "duration": 16,
    "start_time": "2024-02-06T12:15:17.577Z"
   },
   {
    "duration": 20,
    "start_time": "2024-02-06T12:15:27.670Z"
   },
   {
    "duration": 20,
    "start_time": "2024-02-06T12:15:37.536Z"
   },
   {
    "duration": 14,
    "start_time": "2024-02-06T12:15:51.432Z"
   },
   {
    "duration": 30,
    "start_time": "2024-02-06T12:16:40.401Z"
   },
   {
    "duration": 20,
    "start_time": "2024-02-06T12:16:43.272Z"
   },
   {
    "duration": 12,
    "start_time": "2024-02-06T12:19:03.778Z"
   },
   {
    "duration": 12,
    "start_time": "2024-02-06T12:19:38.954Z"
   },
   {
    "duration": 20,
    "start_time": "2024-02-06T12:20:13.891Z"
   },
   {
    "duration": 12,
    "start_time": "2024-02-06T12:20:26.155Z"
   },
   {
    "duration": 12,
    "start_time": "2024-02-06T12:20:34.018Z"
   },
   {
    "duration": 10,
    "start_time": "2024-02-06T12:21:12.979Z"
   },
   {
    "duration": 14,
    "start_time": "2024-02-06T12:22:45.060Z"
   },
   {
    "duration": 10,
    "start_time": "2024-02-06T12:22:48.532Z"
   },
   {
    "duration": 86,
    "start_time": "2024-02-06T12:23:16.108Z"
   },
   {
    "duration": 692,
    "start_time": "2024-02-06T12:38:54.077Z"
   },
   {
    "duration": 19,
    "start_time": "2024-02-06T12:38:54.771Z"
   },
   {
    "duration": 63,
    "start_time": "2024-02-06T12:38:54.791Z"
   },
   {
    "duration": 31,
    "start_time": "2024-02-06T12:38:54.856Z"
   },
   {
    "duration": 30,
    "start_time": "2024-02-06T12:38:54.889Z"
   },
   {
    "duration": 98,
    "start_time": "2024-02-06T12:38:54.921Z"
   },
   {
    "duration": 145,
    "start_time": "2024-02-06T12:38:55.021Z"
   },
   {
    "duration": 53,
    "start_time": "2024-02-06T12:38:55.168Z"
   },
   {
    "duration": 15,
    "start_time": "2024-02-06T12:38:55.222Z"
   },
   {
    "duration": 30,
    "start_time": "2024-02-06T12:38:55.240Z"
   },
   {
    "duration": 26,
    "start_time": "2024-02-06T12:38:55.272Z"
   },
   {
    "duration": 4,
    "start_time": "2024-02-06T12:38:55.299Z"
   },
   {
    "duration": 92,
    "start_time": "2024-02-06T12:38:55.304Z"
   },
   {
    "duration": 19,
    "start_time": "2024-02-06T12:38:55.397Z"
   },
   {
    "duration": 18,
    "start_time": "2024-02-06T12:38:55.417Z"
   },
   {
    "duration": 132,
    "start_time": "2024-02-06T12:38:55.436Z"
   },
   {
    "duration": 28,
    "start_time": "2024-02-06T12:38:55.569Z"
   },
   {
    "duration": 24,
    "start_time": "2024-02-06T12:38:55.599Z"
   },
   {
    "duration": 13,
    "start_time": "2024-02-06T12:38:55.624Z"
   },
   {
    "duration": 18,
    "start_time": "2024-02-06T12:38:55.639Z"
   },
   {
    "duration": 29,
    "start_time": "2024-02-06T12:38:55.659Z"
   }
  ],
  "kernelspec": {
   "display_name": "Python 3 (ipykernel)",
   "language": "python",
   "name": "python3"
  },
  "language_info": {
   "codemirror_mode": {
    "name": "ipython",
    "version": 3
   },
   "file_extension": ".py",
   "mimetype": "text/x-python",
   "name": "python",
   "nbconvert_exporter": "python",
   "pygments_lexer": "ipython3",
   "version": "3.9.5"
  },
  "toc": {
   "base_numbering": 1,
   "nav_menu": {},
   "number_sections": true,
   "sideBar": true,
   "skip_h1_title": true,
   "title_cell": "Table of Contents",
   "title_sidebar": "Contents",
   "toc_cell": false,
   "toc_position": {
    "height": "calc(100% - 180px)",
    "left": "10px",
    "top": "150px",
    "width": "442.6px"
   },
   "toc_section_display": true,
   "toc_window_display": true
  }
 },
 "nbformat": 4,
 "nbformat_minor": 5
}
