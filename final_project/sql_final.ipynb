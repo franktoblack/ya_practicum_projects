{
 "cells": [
  {
   "cell_type": "markdown",
   "metadata": {},
   "source": [
    "# Проект по SQL\n",
    "\n",
    "- Целью проекта является исследования книжной базы сервисa для чтения книг по подписке.\n",
    "- Задача - проанализировать базу данных c целью сформулировать ценностное предложение для нового продукта.\n",
    "- В распоряжении база данных, содержащей пять таблиц с данными."
   ]
  },
  {
   "cell_type": "markdown",
   "metadata": {},
   "source": [
    "<a id='section_id'></a>\n",
    "# Содержание\n",
    "\n",
    "1. [Обзор исходных данных и заданий](#1)\n",
    "2. [Загрузка библиотек и настройка соединения](#2)\n",
    "3. [Задание №1](#3)   \n",
    "4. [Задание №2](#4) \n",
    "5. [Задание №3](#5) \n",
    "6. [Задание №4](#6) \n",
    "7. [Задание №5](#7) \n",
    "8. [Вывод](#8) "
   ]
  },
  {
   "cell_type": "markdown",
   "metadata": {},
   "source": [
    "<a id='1'></a>\n",
    "## 1. Обзор исходных данных и задач\n",
    "[Назад к содержанию](#section_id)"
   ]
  },
  {
   "cell_type": "markdown",
   "metadata": {},
   "source": [
    "Исходные данные\n",
    "\n",
    "Таблица `books` - содержит данные о книгах:\n",
    "- book_id — идентификатор книги;\n",
    "- author_id — идентификатор автора;\n",
    "- title — название книги;\n",
    "- num_pages — количество страниц;\n",
    "- publication_date — дата публикации книги;\n",
    "- publisher_id — идентификатор издателя.\n",
    "\n",
    "\n",
    "Таблица `authors` - Содержит данные об авторах:\n",
    "- author_id — идентификатор автора;\n",
    "- author — имя автора.\n",
    "\n",
    "Таблица `publishers` - Содержит данные об издательствах:\n",
    "- publisher_id — идентификатор издательства;\n",
    "- publisher — название издательства;\n",
    "\n",
    "Таблица `ratings` - Содержит данные о пользовательских оценках книг:\n",
    "- rating_id — идентификатор оценки;\n",
    "- book_id — идентификатор книги;\n",
    "- username — имя пользователя, оставившего оценку;\n",
    "- rating — оценка книги.\n",
    "\n",
    "Таблица `reviews` - Содержит данные о пользовательских обзорах на книги:\n",
    "- review_id — идентификатор обзора;\n",
    "- book_id — идентификатор книги;\n",
    "- username — имя пользователя, написавшего обзор;\n",
    "- text — текст обзора.\n"
   ]
  },
  {
   "cell_type": "markdown",
   "metadata": {},
   "source": [
    "**Задачи проекта**\n",
    " 1. Подсчет количества книг, вышедших после 1 января 2000 года;\n",
    " 2. Подсчет для каждой книги количества обзоров и среднюю оценку;\n",
    " 3. Определение издательства, которое выпустило наибольшее число книг толще 50 страниц — исключатся из анализа брошюры;\n",
    " 4. Определение автора с самой высокой средней оценкой книг — учет только книг с 50 и более оценками;\n",
    " 5. Подсчет среднего количества обзоров от пользователей, которые поставили больше 48 оценок."
   ]
  },
  {
   "cell_type": "markdown",
   "metadata": {},
   "source": [
    "## 2. Загрузка библиотек и настройка соединения с БД\n",
    "<a id='2'></a>\n",
    "[Назад к содержанию](#section_id)"
   ]
  },
  {
   "cell_type": "code",
   "execution_count": 2,
   "metadata": {},
   "outputs": [],
   "source": [
    "# импортируем библиотеки\n",
    "import pandas as pd\n",
    "import sqlalchemy as sa"
   ]
  },
  {
   "cell_type": "code",
   "execution_count": 3,
   "metadata": {},
   "outputs": [],
   "source": [
    "# устанавливаем параметры\n",
    "db_config = {\n",
    "    'user': '...', # имя пользователя\n",
    "    'pwd': '...', # пароль\n",
    "    'host': '...',\n",
    "    'port': ..., # порт подключения\n",
    "    'db': '...' # название базы данных\n",
    "}  \n",
    "connection_string = 'postgresql://{user}:{pwd}@{host}:{port}/{db}'.format(**db_config)\n",
    "\n",
    "# сохраняем коннектор\n",
    "engine = sa.create_engine(connection_string, connect_args={'sslmode':'require'})\n",
    "\n",
    "# чтобы выполнить SQL-запрос, пишем функцию с использованием Pandas\n",
    "def get_sql_data(query:str, engine:sa.engine.base.Engine=engine) -> pd.DataFrame:\n",
    "    with engine.connect() as con:\n",
    "        return pd.read_sql(sql=sa.text(query), con = con)\n",
    "\n",
    "query = '''\n",
    "SELECT *,COUNT(*) OVER() AS table_size\n",
    "FROM books \n",
    "LIMIT 5 \n",
    "'''\n",
    "query_1 = '''\n",
    "SELECT *,COUNT(*) OVER() AS table_size\n",
    "FROM ratings\n",
    "LIMIT 5 \n",
    "'''\n",
    "query_2 = '''\n",
    "SELECT *,COUNT(*) OVER() AS table_size\n",
    "FROM authors\n",
    "LIMIT 5 \n",
    "'''\n",
    "query_3 = '''\n",
    "SELECT *,COUNT(*) OVER() AS table_size\n",
    "FROM reviews\n",
    "LIMIT 5 \n",
    "'''\n",
    "query_4 = '''\n",
    "SELECT *,COUNT(*) OVER() AS table_size\n",
    "FROM publishers\n",
    "LIMIT 5 \n",
    "'''\n",
    "# Выгружаем таблицы\n",
    "books = pd.read_sql_query(query, con=engine) \n",
    "ratings = pd.read_sql_query(query_1, con=engine) \n",
    "authors = pd.read_sql_query(query_2, con=engine) \n",
    "reviews = pd.read_sql_query(query_3, con=engine) \n",
    "publishers = pd.read_sql_query(query_4, con=engine) "
   ]
  },
  {
   "cell_type": "code",
   "execution_count": 3,
   "metadata": {},
   "outputs": [
    {
     "data": {
      "text/html": [
       "<div>\n",
       "<style scoped>\n",
       "    .dataframe tbody tr th:only-of-type {\n",
       "        vertical-align: middle;\n",
       "    }\n",
       "\n",
       "    .dataframe tbody tr th {\n",
       "        vertical-align: top;\n",
       "    }\n",
       "\n",
       "    .dataframe thead th {\n",
       "        text-align: right;\n",
       "    }\n",
       "</style>\n",
       "<table border=\"1\" class=\"dataframe\">\n",
       "  <thead>\n",
       "    <tr style=\"text-align: right;\">\n",
       "      <th></th>\n",
       "      <th>book_id</th>\n",
       "      <th>author_id</th>\n",
       "      <th>title</th>\n",
       "      <th>num_pages</th>\n",
       "      <th>publication_date</th>\n",
       "      <th>publisher_id</th>\n",
       "      <th>table_size</th>\n",
       "    </tr>\n",
       "  </thead>\n",
       "  <tbody>\n",
       "    <tr>\n",
       "      <th>0</th>\n",
       "      <td>1</td>\n",
       "      <td>546</td>\n",
       "      <td>'Salem's Lot</td>\n",
       "      <td>594</td>\n",
       "      <td>2005-11-01</td>\n",
       "      <td>93</td>\n",
       "      <td>1000</td>\n",
       "    </tr>\n",
       "    <tr>\n",
       "      <th>1</th>\n",
       "      <td>2</td>\n",
       "      <td>465</td>\n",
       "      <td>1 000 Places to See Before You Die</td>\n",
       "      <td>992</td>\n",
       "      <td>2003-05-22</td>\n",
       "      <td>336</td>\n",
       "      <td>1000</td>\n",
       "    </tr>\n",
       "    <tr>\n",
       "      <th>2</th>\n",
       "      <td>3</td>\n",
       "      <td>407</td>\n",
       "      <td>13 Little Blue Envelopes (Little Blue Envelope...</td>\n",
       "      <td>322</td>\n",
       "      <td>2010-12-21</td>\n",
       "      <td>135</td>\n",
       "      <td>1000</td>\n",
       "    </tr>\n",
       "    <tr>\n",
       "      <th>3</th>\n",
       "      <td>4</td>\n",
       "      <td>82</td>\n",
       "      <td>1491: New Revelations of the Americas Before C...</td>\n",
       "      <td>541</td>\n",
       "      <td>2006-10-10</td>\n",
       "      <td>309</td>\n",
       "      <td>1000</td>\n",
       "    </tr>\n",
       "    <tr>\n",
       "      <th>4</th>\n",
       "      <td>5</td>\n",
       "      <td>125</td>\n",
       "      <td>1776</td>\n",
       "      <td>386</td>\n",
       "      <td>2006-07-04</td>\n",
       "      <td>268</td>\n",
       "      <td>1000</td>\n",
       "    </tr>\n",
       "  </tbody>\n",
       "</table>\n",
       "</div>"
      ],
      "text/plain": [
       "   book_id  author_id                                              title  \\\n",
       "0        1        546                                       'Salem's Lot   \n",
       "1        2        465                 1 000 Places to See Before You Die   \n",
       "2        3        407  13 Little Blue Envelopes (Little Blue Envelope...   \n",
       "3        4         82  1491: New Revelations of the Americas Before C...   \n",
       "4        5        125                                               1776   \n",
       "\n",
       "   num_pages publication_date  publisher_id  table_size  \n",
       "0        594       2005-11-01            93        1000  \n",
       "1        992       2003-05-22           336        1000  \n",
       "2        322       2010-12-21           135        1000  \n",
       "3        541       2006-10-10           309        1000  \n",
       "4        386       2006-07-04           268        1000  "
      ]
     },
     "metadata": {},
     "output_type": "display_data"
    },
    {
     "data": {
      "text/html": [
       "<div>\n",
       "<style scoped>\n",
       "    .dataframe tbody tr th:only-of-type {\n",
       "        vertical-align: middle;\n",
       "    }\n",
       "\n",
       "    .dataframe tbody tr th {\n",
       "        vertical-align: top;\n",
       "    }\n",
       "\n",
       "    .dataframe thead th {\n",
       "        text-align: right;\n",
       "    }\n",
       "</style>\n",
       "<table border=\"1\" class=\"dataframe\">\n",
       "  <thead>\n",
       "    <tr style=\"text-align: right;\">\n",
       "      <th></th>\n",
       "      <th>rating_id</th>\n",
       "      <th>book_id</th>\n",
       "      <th>username</th>\n",
       "      <th>rating</th>\n",
       "      <th>table_size</th>\n",
       "    </tr>\n",
       "  </thead>\n",
       "  <tbody>\n",
       "    <tr>\n",
       "      <th>0</th>\n",
       "      <td>1</td>\n",
       "      <td>1</td>\n",
       "      <td>ryanfranco</td>\n",
       "      <td>4</td>\n",
       "      <td>6456</td>\n",
       "    </tr>\n",
       "    <tr>\n",
       "      <th>1</th>\n",
       "      <td>2</td>\n",
       "      <td>1</td>\n",
       "      <td>grantpatricia</td>\n",
       "      <td>2</td>\n",
       "      <td>6456</td>\n",
       "    </tr>\n",
       "    <tr>\n",
       "      <th>2</th>\n",
       "      <td>3</td>\n",
       "      <td>1</td>\n",
       "      <td>brandtandrea</td>\n",
       "      <td>5</td>\n",
       "      <td>6456</td>\n",
       "    </tr>\n",
       "    <tr>\n",
       "      <th>3</th>\n",
       "      <td>4</td>\n",
       "      <td>2</td>\n",
       "      <td>lorichen</td>\n",
       "      <td>3</td>\n",
       "      <td>6456</td>\n",
       "    </tr>\n",
       "    <tr>\n",
       "      <th>4</th>\n",
       "      <td>5</td>\n",
       "      <td>2</td>\n",
       "      <td>mariokeller</td>\n",
       "      <td>2</td>\n",
       "      <td>6456</td>\n",
       "    </tr>\n",
       "  </tbody>\n",
       "</table>\n",
       "</div>"
      ],
      "text/plain": [
       "   rating_id  book_id       username  rating  table_size\n",
       "0          1        1     ryanfranco       4        6456\n",
       "1          2        1  grantpatricia       2        6456\n",
       "2          3        1   brandtandrea       5        6456\n",
       "3          4        2       lorichen       3        6456\n",
       "4          5        2    mariokeller       2        6456"
      ]
     },
     "metadata": {},
     "output_type": "display_data"
    },
    {
     "data": {
      "text/html": [
       "<div>\n",
       "<style scoped>\n",
       "    .dataframe tbody tr th:only-of-type {\n",
       "        vertical-align: middle;\n",
       "    }\n",
       "\n",
       "    .dataframe tbody tr th {\n",
       "        vertical-align: top;\n",
       "    }\n",
       "\n",
       "    .dataframe thead th {\n",
       "        text-align: right;\n",
       "    }\n",
       "</style>\n",
       "<table border=\"1\" class=\"dataframe\">\n",
       "  <thead>\n",
       "    <tr style=\"text-align: right;\">\n",
       "      <th></th>\n",
       "      <th>author_id</th>\n",
       "      <th>author</th>\n",
       "      <th>table_size</th>\n",
       "    </tr>\n",
       "  </thead>\n",
       "  <tbody>\n",
       "    <tr>\n",
       "      <th>0</th>\n",
       "      <td>1</td>\n",
       "      <td>A.S. Byatt</td>\n",
       "      <td>636</td>\n",
       "    </tr>\n",
       "    <tr>\n",
       "      <th>1</th>\n",
       "      <td>2</td>\n",
       "      <td>Aesop/Laura Harris/Laura Gibbs</td>\n",
       "      <td>636</td>\n",
       "    </tr>\n",
       "    <tr>\n",
       "      <th>2</th>\n",
       "      <td>3</td>\n",
       "      <td>Agatha Christie</td>\n",
       "      <td>636</td>\n",
       "    </tr>\n",
       "    <tr>\n",
       "      <th>3</th>\n",
       "      <td>4</td>\n",
       "      <td>Alan Brennert</td>\n",
       "      <td>636</td>\n",
       "    </tr>\n",
       "    <tr>\n",
       "      <th>4</th>\n",
       "      <td>5</td>\n",
       "      <td>Alan Moore/David   Lloyd</td>\n",
       "      <td>636</td>\n",
       "    </tr>\n",
       "  </tbody>\n",
       "</table>\n",
       "</div>"
      ],
      "text/plain": [
       "   author_id                          author  table_size\n",
       "0          1                      A.S. Byatt         636\n",
       "1          2  Aesop/Laura Harris/Laura Gibbs         636\n",
       "2          3                 Agatha Christie         636\n",
       "3          4                   Alan Brennert         636\n",
       "4          5        Alan Moore/David   Lloyd         636"
      ]
     },
     "metadata": {},
     "output_type": "display_data"
    },
    {
     "data": {
      "text/html": [
       "<div>\n",
       "<style scoped>\n",
       "    .dataframe tbody tr th:only-of-type {\n",
       "        vertical-align: middle;\n",
       "    }\n",
       "\n",
       "    .dataframe tbody tr th {\n",
       "        vertical-align: top;\n",
       "    }\n",
       "\n",
       "    .dataframe thead th {\n",
       "        text-align: right;\n",
       "    }\n",
       "</style>\n",
       "<table border=\"1\" class=\"dataframe\">\n",
       "  <thead>\n",
       "    <tr style=\"text-align: right;\">\n",
       "      <th></th>\n",
       "      <th>review_id</th>\n",
       "      <th>book_id</th>\n",
       "      <th>username</th>\n",
       "      <th>text</th>\n",
       "      <th>table_size</th>\n",
       "    </tr>\n",
       "  </thead>\n",
       "  <tbody>\n",
       "    <tr>\n",
       "      <th>0</th>\n",
       "      <td>1</td>\n",
       "      <td>1</td>\n",
       "      <td>brandtandrea</td>\n",
       "      <td>Mention society tell send professor analysis. ...</td>\n",
       "      <td>2793</td>\n",
       "    </tr>\n",
       "    <tr>\n",
       "      <th>1</th>\n",
       "      <td>2</td>\n",
       "      <td>1</td>\n",
       "      <td>ryanfranco</td>\n",
       "      <td>Foot glass pretty audience hit themselves. Amo...</td>\n",
       "      <td>2793</td>\n",
       "    </tr>\n",
       "    <tr>\n",
       "      <th>2</th>\n",
       "      <td>3</td>\n",
       "      <td>2</td>\n",
       "      <td>lorichen</td>\n",
       "      <td>Listen treat keep worry. Miss husband tax but ...</td>\n",
       "      <td>2793</td>\n",
       "    </tr>\n",
       "    <tr>\n",
       "      <th>3</th>\n",
       "      <td>4</td>\n",
       "      <td>3</td>\n",
       "      <td>johnsonamanda</td>\n",
       "      <td>Finally month interesting blue could nature cu...</td>\n",
       "      <td>2793</td>\n",
       "    </tr>\n",
       "    <tr>\n",
       "      <th>4</th>\n",
       "      <td>5</td>\n",
       "      <td>3</td>\n",
       "      <td>scotttamara</td>\n",
       "      <td>Nation purpose heavy give wait song will. List...</td>\n",
       "      <td>2793</td>\n",
       "    </tr>\n",
       "  </tbody>\n",
       "</table>\n",
       "</div>"
      ],
      "text/plain": [
       "   review_id  book_id       username  \\\n",
       "0          1        1   brandtandrea   \n",
       "1          2        1     ryanfranco   \n",
       "2          3        2       lorichen   \n",
       "3          4        3  johnsonamanda   \n",
       "4          5        3    scotttamara   \n",
       "\n",
       "                                                text  table_size  \n",
       "0  Mention society tell send professor analysis. ...        2793  \n",
       "1  Foot glass pretty audience hit themselves. Amo...        2793  \n",
       "2  Listen treat keep worry. Miss husband tax but ...        2793  \n",
       "3  Finally month interesting blue could nature cu...        2793  \n",
       "4  Nation purpose heavy give wait song will. List...        2793  "
      ]
     },
     "metadata": {},
     "output_type": "display_data"
    },
    {
     "data": {
      "text/html": [
       "<div>\n",
       "<style scoped>\n",
       "    .dataframe tbody tr th:only-of-type {\n",
       "        vertical-align: middle;\n",
       "    }\n",
       "\n",
       "    .dataframe tbody tr th {\n",
       "        vertical-align: top;\n",
       "    }\n",
       "\n",
       "    .dataframe thead th {\n",
       "        text-align: right;\n",
       "    }\n",
       "</style>\n",
       "<table border=\"1\" class=\"dataframe\">\n",
       "  <thead>\n",
       "    <tr style=\"text-align: right;\">\n",
       "      <th></th>\n",
       "      <th>publisher_id</th>\n",
       "      <th>publisher</th>\n",
       "      <th>table_size</th>\n",
       "    </tr>\n",
       "  </thead>\n",
       "  <tbody>\n",
       "    <tr>\n",
       "      <th>0</th>\n",
       "      <td>1</td>\n",
       "      <td>Ace</td>\n",
       "      <td>340</td>\n",
       "    </tr>\n",
       "    <tr>\n",
       "      <th>1</th>\n",
       "      <td>2</td>\n",
       "      <td>Ace Book</td>\n",
       "      <td>340</td>\n",
       "    </tr>\n",
       "    <tr>\n",
       "      <th>2</th>\n",
       "      <td>3</td>\n",
       "      <td>Ace Books</td>\n",
       "      <td>340</td>\n",
       "    </tr>\n",
       "    <tr>\n",
       "      <th>3</th>\n",
       "      <td>4</td>\n",
       "      <td>Ace Hardcover</td>\n",
       "      <td>340</td>\n",
       "    </tr>\n",
       "    <tr>\n",
       "      <th>4</th>\n",
       "      <td>5</td>\n",
       "      <td>Addison Wesley Publishing Company</td>\n",
       "      <td>340</td>\n",
       "    </tr>\n",
       "  </tbody>\n",
       "</table>\n",
       "</div>"
      ],
      "text/plain": [
       "   publisher_id                          publisher  table_size\n",
       "0             1                                Ace         340\n",
       "1             2                           Ace Book         340\n",
       "2             3                          Ace Books         340\n",
       "3             4                      Ace Hardcover         340\n",
       "4             5  Addison Wesley Publishing Company         340"
      ]
     },
     "metadata": {},
     "output_type": "display_data"
    }
   ],
   "source": [
    "# Отобразим каждую таблицу и количество строк в ней:\n",
    "\n",
    "d = [books,\n",
    "     ratings,\n",
    "     authors,\n",
    "     reviews,\n",
    "     publishers]\n",
    "for df in d:\n",
    "    display(df)"
   ]
  },
  {
   "cell_type": "markdown",
   "metadata": {},
   "source": [
    "## 3. Задание № 1\n",
    "<a id='3'></a>\n",
    "[Назад к содержанию](#section_id)"
   ]
  },
  {
   "cell_type": "markdown",
   "metadata": {},
   "source": [
    "Необходимо подсчитать, сколько книг вышло после 1 января 2000 года."
   ]
  },
  {
   "cell_type": "code",
   "execution_count": 4,
   "metadata": {},
   "outputs": [
    {
     "data": {
      "text/html": [
       "<div>\n",
       "<style scoped>\n",
       "    .dataframe tbody tr th:only-of-type {\n",
       "        vertical-align: middle;\n",
       "    }\n",
       "\n",
       "    .dataframe tbody tr th {\n",
       "        vertical-align: top;\n",
       "    }\n",
       "\n",
       "    .dataframe thead th {\n",
       "        text-align: right;\n",
       "    }\n",
       "</style>\n",
       "<table border=\"1\" class=\"dataframe\">\n",
       "  <thead>\n",
       "    <tr style=\"text-align: right;\">\n",
       "      <th></th>\n",
       "      <th>Count of books</th>\n",
       "    </tr>\n",
       "  </thead>\n",
       "  <tbody>\n",
       "    <tr>\n",
       "      <th>0</th>\n",
       "      <td>819</td>\n",
       "    </tr>\n",
       "  </tbody>\n",
       "</table>\n",
       "</div>"
      ],
      "text/plain": [
       "   Count of books\n",
       "0             819"
      ]
     },
     "execution_count": 4,
     "metadata": {},
     "output_type": "execute_result"
    }
   ],
   "source": [
    "query = '''\n",
    "SELECT COUNT(book_id) as \"Count of books\"\n",
    "FROM books\n",
    "WHERE publication_date > '2000-01-01'\n",
    "\n",
    "'''\n",
    "df_1 = pd.read_sql_query(query, con=engine) \n",
    "df_1"
   ]
  },
  {
   "cell_type": "markdown",
   "metadata": {},
   "source": [
    "**Вывод:** После 1 января 2000 года вышло 819 книг."
   ]
  },
  {
   "cell_type": "markdown",
   "metadata": {},
   "source": [
    "## 4. Задание № 2\n",
    "<a id='4'></a>\n",
    "[Назад к содержанию](#section_id)"
   ]
  },
  {
   "cell_type": "markdown",
   "metadata": {},
   "source": [
    "Необходимо подсчитать для каждой книги  количество обзоров и среднюю оценку."
   ]
  },
  {
   "cell_type": "code",
   "execution_count": 5,
   "metadata": {},
   "outputs": [
    {
     "data": {
      "text/html": [
       "<div>\n",
       "<style scoped>\n",
       "    .dataframe tbody tr th:only-of-type {\n",
       "        vertical-align: middle;\n",
       "    }\n",
       "\n",
       "    .dataframe tbody tr th {\n",
       "        vertical-align: top;\n",
       "    }\n",
       "\n",
       "    .dataframe thead th {\n",
       "        text-align: right;\n",
       "    }\n",
       "</style>\n",
       "<table border=\"1\" class=\"dataframe\">\n",
       "  <thead>\n",
       "    <tr style=\"text-align: right;\">\n",
       "      <th></th>\n",
       "      <th>title</th>\n",
       "      <th>book_id</th>\n",
       "      <th>review_count</th>\n",
       "      <th>avg_rating</th>\n",
       "    </tr>\n",
       "  </thead>\n",
       "  <tbody>\n",
       "    <tr>\n",
       "      <th>0</th>\n",
       "      <td>Twilight (Twilight  #1)</td>\n",
       "      <td>948</td>\n",
       "      <td>7</td>\n",
       "      <td>3.66</td>\n",
       "    </tr>\n",
       "    <tr>\n",
       "      <th>1</th>\n",
       "      <td>The Hobbit  or There and Back Again</td>\n",
       "      <td>750</td>\n",
       "      <td>6</td>\n",
       "      <td>4.13</td>\n",
       "    </tr>\n",
       "    <tr>\n",
       "      <th>2</th>\n",
       "      <td>The Catcher in the Rye</td>\n",
       "      <td>673</td>\n",
       "      <td>6</td>\n",
       "      <td>3.83</td>\n",
       "    </tr>\n",
       "    <tr>\n",
       "      <th>3</th>\n",
       "      <td>Harry Potter and the Prisoner of Azkaban (Harr...</td>\n",
       "      <td>302</td>\n",
       "      <td>6</td>\n",
       "      <td>4.41</td>\n",
       "    </tr>\n",
       "    <tr>\n",
       "      <th>4</th>\n",
       "      <td>Harry Potter and the Chamber of Secrets (Harry...</td>\n",
       "      <td>299</td>\n",
       "      <td>6</td>\n",
       "      <td>4.29</td>\n",
       "    </tr>\n",
       "    <tr>\n",
       "      <th>...</th>\n",
       "      <td>...</td>\n",
       "      <td>...</td>\n",
       "      <td>...</td>\n",
       "      <td>...</td>\n",
       "    </tr>\n",
       "    <tr>\n",
       "      <th>995</th>\n",
       "      <td>Leonardo's Notebooks</td>\n",
       "      <td>387</td>\n",
       "      <td>0</td>\n",
       "      <td>4.00</td>\n",
       "    </tr>\n",
       "    <tr>\n",
       "      <th>996</th>\n",
       "      <td>Essential Tales and Poems</td>\n",
       "      <td>221</td>\n",
       "      <td>0</td>\n",
       "      <td>4.00</td>\n",
       "    </tr>\n",
       "    <tr>\n",
       "      <th>997</th>\n",
       "      <td>Disney's Beauty and the Beast (A Little Golden...</td>\n",
       "      <td>191</td>\n",
       "      <td>0</td>\n",
       "      <td>4.00</td>\n",
       "    </tr>\n",
       "    <tr>\n",
       "      <th>998</th>\n",
       "      <td>Anne Rice's The Vampire Lestat: A Graphic Novel</td>\n",
       "      <td>83</td>\n",
       "      <td>0</td>\n",
       "      <td>3.67</td>\n",
       "    </tr>\n",
       "    <tr>\n",
       "      <th>999</th>\n",
       "      <td>The Natural Way to Draw</td>\n",
       "      <td>808</td>\n",
       "      <td>0</td>\n",
       "      <td>3.00</td>\n",
       "    </tr>\n",
       "  </tbody>\n",
       "</table>\n",
       "<p>1000 rows × 4 columns</p>\n",
       "</div>"
      ],
      "text/plain": [
       "                                                 title  book_id  review_count  \\\n",
       "0                              Twilight (Twilight  #1)      948             7   \n",
       "1                  The Hobbit  or There and Back Again      750             6   \n",
       "2                               The Catcher in the Rye      673             6   \n",
       "3    Harry Potter and the Prisoner of Azkaban (Harr...      302             6   \n",
       "4    Harry Potter and the Chamber of Secrets (Harry...      299             6   \n",
       "..                                                 ...      ...           ...   \n",
       "995                               Leonardo's Notebooks      387             0   \n",
       "996                          Essential Tales and Poems      221             0   \n",
       "997  Disney's Beauty and the Beast (A Little Golden...      191             0   \n",
       "998    Anne Rice's The Vampire Lestat: A Graphic Novel       83             0   \n",
       "999                            The Natural Way to Draw      808             0   \n",
       "\n",
       "     avg_rating  \n",
       "0          3.66  \n",
       "1          4.13  \n",
       "2          3.83  \n",
       "3          4.41  \n",
       "4          4.29  \n",
       "..          ...  \n",
       "995        4.00  \n",
       "996        4.00  \n",
       "997        4.00  \n",
       "998        3.67  \n",
       "999        3.00  \n",
       "\n",
       "[1000 rows x 4 columns]"
      ]
     },
     "execution_count": 5,
     "metadata": {},
     "output_type": "execute_result"
    }
   ],
   "source": [
    "# напишите запрос\n",
    "query = '''\n",
    "SELECT b.title, \n",
    "       b.book_id, \n",
    "       COUNT(DISTINCT (review_id)) as review_count, \n",
    "       ROUND((AVG (rating)),2) as avg_rating\n",
    "FROM books as b\n",
    "LEFT JOIN reviews re ON re.book_id = b.book_id\n",
    "LEFT JOIN ratings ra ON ra.book_id = b.book_id\n",
    "GROUP BY b.book_id\n",
    "ORDER BY COUNT(review_id) DESC, AVG (rating) DESC\n",
    "\n",
    "'''\n",
    "df_2 = pd.read_sql_query(query, con=engine) \n",
    "df_2\n",
    "# выполните запрос"
   ]
  },
  {
   "cell_type": "markdown",
   "metadata": {},
   "source": [
    "**Вывод:**\n",
    "\n",
    "При сортировке по количеству обзоров на книги, топ-5 следующий\n",
    "1. Twilight (Twilight #1)\t\n",
    "2. The Hobbit or There and Back Again\t\n",
    "3. The Catcher in the Rye\t\n",
    "4. Harry Potter and the Prisoner of Azkaban \n",
    "5. Harry Potter and the Chamber of Secrets "
   ]
  },
  {
   "cell_type": "markdown",
   "metadata": {},
   "source": [
    "## 5. Задание № 3\n",
    "<a id='5'></a>\n",
    "[Назад к содержанию](#section_id)"
   ]
  },
  {
   "cell_type": "markdown",
   "metadata": {},
   "source": [
    "Необходимо определить издательство, которое выпустило наибольшее число книг толще\n",
    "50 страниц."
   ]
  },
  {
   "cell_type": "code",
   "execution_count": 8,
   "metadata": {},
   "outputs": [
    {
     "data": {
      "text/html": [
       "<div>\n",
       "<style scoped>\n",
       "    .dataframe tbody tr th:only-of-type {\n",
       "        vertical-align: middle;\n",
       "    }\n",
       "\n",
       "    .dataframe tbody tr th {\n",
       "        vertical-align: top;\n",
       "    }\n",
       "\n",
       "    .dataframe thead th {\n",
       "        text-align: right;\n",
       "    }\n",
       "</style>\n",
       "<table border=\"1\" class=\"dataframe\">\n",
       "  <thead>\n",
       "    <tr style=\"text-align: right;\">\n",
       "      <th></th>\n",
       "      <th>publisher</th>\n",
       "      <th>books_count</th>\n",
       "    </tr>\n",
       "  </thead>\n",
       "  <tbody>\n",
       "    <tr>\n",
       "      <th>0</th>\n",
       "      <td>Penguin Books</td>\n",
       "      <td>42</td>\n",
       "    </tr>\n",
       "  </tbody>\n",
       "</table>\n",
       "</div>"
      ],
      "text/plain": [
       "       publisher  books_count\n",
       "0  Penguin Books           42"
      ]
     },
     "execution_count": 8,
     "metadata": {},
     "output_type": "execute_result"
    }
   ],
   "source": [
    "# напишите запрос\n",
    "query = '''\n",
    "\n",
    "SELECT ps.publisher, COUNT (b.book_id) as books_count\n",
    "FROM publishers ps\n",
    "JOIN books as b ON b.publisher_id = ps.publisher_id\n",
    "WHERE ps.publisher_id IN (\n",
    "    COALESCE((\n",
    "        SELECT b.publisher_id\n",
    "        FROM books as b\n",
    "        WHERE b.num_pages > 50\n",
    "        GROUP BY b.publisher_id \n",
    "        ORDER BY COUNT(book_id) DESC\n",
    "        LIMIT 1\n",
    "    ), 0)\n",
    ")\n",
    "GROUP BY ps.publisher\n",
    "ORDER BY COUNT (b.book_id) DESC\n",
    "\n",
    "'''\n",
    "df_4 = pd.read_sql_query(query, con=engine) \n",
    "df_4\n",
    "# выполните запрос"
   ]
  },
  {
   "cell_type": "markdown",
   "metadata": {},
   "source": [
    "**Вывод:** Издательство Penguin Books выпустило самое большое количество книг толще 50 страниц - 42"
   ]
  },
  {
   "cell_type": "markdown",
   "metadata": {},
   "source": [
    "## 6. Задание № 4\n",
    "<a id='6'></a>\n",
    "[Назад к содержанию](#section_id)"
   ]
  },
  {
   "cell_type": "markdown",
   "metadata": {},
   "source": [
    "Необходимо определить автора с самой высокой средней оценкой книг, учитывать\n",
    "только книги с 50 и более оценками"
   ]
  },
  {
   "cell_type": "code",
   "execution_count": 9,
   "metadata": {},
   "outputs": [
    {
     "data": {
      "text/html": [
       "<div>\n",
       "<style scoped>\n",
       "    .dataframe tbody tr th:only-of-type {\n",
       "        vertical-align: middle;\n",
       "    }\n",
       "\n",
       "    .dataframe tbody tr th {\n",
       "        vertical-align: top;\n",
       "    }\n",
       "\n",
       "    .dataframe thead th {\n",
       "        text-align: right;\n",
       "    }\n",
       "</style>\n",
       "<table border=\"1\" class=\"dataframe\">\n",
       "  <thead>\n",
       "    <tr style=\"text-align: right;\">\n",
       "      <th></th>\n",
       "      <th>author</th>\n",
       "      <th>rating</th>\n",
       "    </tr>\n",
       "  </thead>\n",
       "  <tbody>\n",
       "    <tr>\n",
       "      <th>0</th>\n",
       "      <td>J.K. Rowling/Mary GrandPré</td>\n",
       "      <td>4.29</td>\n",
       "    </tr>\n",
       "  </tbody>\n",
       "</table>\n",
       "</div>"
      ],
      "text/plain": [
       "                       author  rating\n",
       "0  J.K. Rowling/Mary GrandPré    4.29"
      ]
     },
     "execution_count": 9,
     "metadata": {},
     "output_type": "execute_result"
    }
   ],
   "source": [
    "query = '''\n",
    "SELECT a.author, ROUND((AVG (ra.rating)),2) as rating\n",
    "FROM authors as a\n",
    "JOIN books b ON b.author_id = a.author_id\n",
    "JOIN ratings ra ON ra.book_id = b.book_id\n",
    "JOIN (\n",
    "    SELECT ra.book_id\n",
    "    FROM ratings as ra\n",
    "    GROUP BY ra.book_id\n",
    "    HAVING COUNT (rating_id) >= 50\n",
    ") AS books_with_more_than_50_ratings\n",
    "ON books_with_more_than_50_ratings.book_id = b.book_id\n",
    "GROUP BY a.author_id\n",
    "ORDER BY AVG (ra.rating) DESC\n",
    "LIMIT 1\n",
    "\n",
    "'''\n",
    "df_4 = pd.read_sql_query(query, con=engine) \n",
    "df_4"
   ]
  },
  {
   "cell_type": "markdown",
   "metadata": {},
   "source": [
    "**Вывод:**\n",
    "Автором с самой высокой средней оценкой книг является J.K. Rowling/Mary GrandPré c оценкой 4.29"
   ]
  },
  {
   "cell_type": "markdown",
   "metadata": {},
   "source": [
    "## 7. Задача № 5\n",
    "<a id='7'></a>\n",
    "[Назад к содержанию](#section_id)"
   ]
  },
  {
   "cell_type": "markdown",
   "metadata": {},
   "source": [
    "Необходимо посчитать среднее количество обзоров от пользователей, которые поставили\n",
    "больше 48 оценок."
   ]
  },
  {
   "cell_type": "code",
   "execution_count": 11,
   "metadata": {},
   "outputs": [
    {
     "data": {
      "text/html": [
       "<div>\n",
       "<style scoped>\n",
       "    .dataframe tbody tr th:only-of-type {\n",
       "        vertical-align: middle;\n",
       "    }\n",
       "\n",
       "    .dataframe tbody tr th {\n",
       "        vertical-align: top;\n",
       "    }\n",
       "\n",
       "    .dataframe thead th {\n",
       "        text-align: right;\n",
       "    }\n",
       "</style>\n",
       "<table border=\"1\" class=\"dataframe\">\n",
       "  <thead>\n",
       "    <tr style=\"text-align: right;\">\n",
       "      <th></th>\n",
       "      <th>avg_count</th>\n",
       "    </tr>\n",
       "  </thead>\n",
       "  <tbody>\n",
       "    <tr>\n",
       "      <th>0</th>\n",
       "      <td>24.0</td>\n",
       "    </tr>\n",
       "  </tbody>\n",
       "</table>\n",
       "</div>"
      ],
      "text/plain": [
       "   avg_count\n",
       "0       24.0"
      ]
     },
     "execution_count": 11,
     "metadata": {},
     "output_type": "execute_result"
    }
   ],
   "source": [
    "query = '''\n",
    "WITH\n",
    "    ratings_subquery AS (\n",
    "        SELECT ra.username,\n",
    "               COUNT(ra.rating) AS ratings_quantity\n",
    "        FROM ratings ra\n",
    "        GROUP BY ra.username\n",
    "        HAVING COUNT(ra.rating) > 48),\n",
    "    reviews_subquery AS ( SELECT re.username,\n",
    "                          COUNT(re.text) AS reviews_quantity\n",
    "                          FROM reviews re\n",
    "                          GROUP BY re.username)\n",
    "SELECT ROUND(AVG(reviews_quantity)) avg_count\n",
    "FROM ratings_subquery\n",
    "JOIN reviews_subquery ON reviews_subquery.username = ratings_subquery.username\n",
    "'''\n",
    "df_5 = pd.read_sql_query(query, con=engine) \n",
    "df_5"
   ]
  },
  {
   "cell_type": "markdown",
   "metadata": {},
   "source": [
    "**Вывод**: Пользователи, поставившие более 48 оценок, в среднем оставляют 24 обзора."
   ]
  },
  {
   "cell_type": "markdown",
   "metadata": {},
   "source": [
    "## 8. Общий вывод\n",
    "<a id='8'></a>\n",
    "[Назад к содержанию](#section_id)"
   ]
  },
  {
   "cell_type": "markdown",
   "metadata": {},
   "source": [
    "Было проведено исследование книжной базы данных.\n",
    "На основе поставленных задач были написаны запросы.\n",
    "По результатам запросов сформированы следующие выводы\n",
    "\n",
    "- После 1 января 2000 года вышло 819 книг.\n",
    "- Автором с самой высокой средней оценкой книг является J.K. Rowling/Mary GrandPré c оценкой 4.28 \n",
    "- Пользователи, поставившие более 48 оценок, в среднем оставляют 24 обзора.\n",
    "- Издательство Penguin Books выпустило самое большое количество книг толще 50 страниц - 42\n",
    "- При сортировке по количеству обзоров на книги, топ-5 следующий\n",
    "  1. Twilight (Twilight #1)\n",
    "  2. The Hobbit or There and Back Again\n",
    "  3. The Catcher in the Rye\n",
    "  4. Harry Potter and the Prisoner of Azkaban\n",
    "  5. Harry Potter and the Chamber of Secrets"
   ]
  }
 ],
 "metadata": {
  "ExecuteTimeLog": [
   {
    "duration": 19230,
    "start_time": "2023-11-08T10:05:01.585Z"
   },
   {
    "duration": 420,
    "start_time": "2023-11-08T10:06:16.340Z"
   },
   {
    "duration": 38,
    "start_time": "2023-11-08T10:06:16.762Z"
   },
   {
    "duration": 39,
    "start_time": "2023-11-08T10:06:16.802Z"
   },
   {
    "duration": 77,
    "start_time": "2023-11-08T10:07:02.551Z"
   },
   {
    "duration": 45,
    "start_time": "2023-11-08T10:07:54.706Z"
   },
   {
    "duration": 233,
    "start_time": "2023-11-08T10:08:11.926Z"
   },
   {
    "duration": 42,
    "start_time": "2023-11-08T10:08:23.023Z"
   },
   {
    "duration": 43,
    "start_time": "2023-11-08T10:08:57.434Z"
   },
   {
    "duration": 44,
    "start_time": "2023-11-08T10:09:30.427Z"
   },
   {
    "duration": 472,
    "start_time": "2023-11-08T10:10:05.811Z"
   },
   {
    "duration": 40,
    "start_time": "2023-11-08T10:10:06.287Z"
   },
   {
    "duration": 43,
    "start_time": "2023-11-08T10:10:06.330Z"
   },
   {
    "duration": 57,
    "start_time": "2023-11-08T10:10:06.376Z"
   },
   {
    "duration": 40,
    "start_time": "2023-11-08T10:10:06.435Z"
   },
   {
    "duration": 45,
    "start_time": "2023-11-08T10:10:06.477Z"
   },
   {
    "duration": 42,
    "start_time": "2023-11-08T10:10:06.524Z"
   },
   {
    "duration": 14793,
    "start_time": "2023-11-08T12:40:44.232Z"
   },
   {
    "duration": 34,
    "start_time": "2023-11-08T12:40:59.027Z"
   },
   {
    "duration": 44,
    "start_time": "2023-11-08T12:40:59.063Z"
   },
   {
    "duration": 59,
    "start_time": "2023-11-08T12:40:59.110Z"
   },
   {
    "duration": 53,
    "start_time": "2023-11-08T12:40:59.171Z"
   },
   {
    "duration": 44,
    "start_time": "2023-11-08T12:40:59.225Z"
   },
   {
    "duration": 42,
    "start_time": "2023-11-08T12:40:59.271Z"
   },
   {
    "duration": 21751,
    "start_time": "2023-11-08T12:47:01.236Z"
   },
   {
    "duration": 33,
    "start_time": "2023-11-08T12:47:22.989Z"
   },
   {
    "duration": 40,
    "start_time": "2023-11-08T12:47:23.023Z"
   },
   {
    "duration": 58,
    "start_time": "2023-11-08T12:47:23.064Z"
   },
   {
    "duration": 41,
    "start_time": "2023-11-08T12:47:23.124Z"
   },
   {
    "duration": 46,
    "start_time": "2023-11-08T12:47:23.167Z"
   },
   {
    "duration": 43,
    "start_time": "2023-11-08T12:47:23.214Z"
   },
   {
    "duration": 43,
    "start_time": "2023-11-08T12:53:57.748Z"
   },
   {
    "duration": 353,
    "start_time": "2023-11-08T12:54:45.730Z"
   },
   {
    "duration": 44,
    "start_time": "2023-11-08T12:54:50.242Z"
   },
   {
    "duration": 46,
    "start_time": "2023-11-08T12:55:19.903Z"
   },
   {
    "duration": 44,
    "start_time": "2023-11-08T12:55:54.582Z"
   },
   {
    "duration": 44,
    "start_time": "2023-11-08T12:58:21.750Z"
   },
   {
    "duration": 161,
    "start_time": "2023-11-08T12:58:45.171Z"
   },
   {
    "duration": 179,
    "start_time": "2023-11-08T12:58:56.939Z"
   },
   {
    "duration": 145,
    "start_time": "2023-11-08T12:59:07.132Z"
   },
   {
    "duration": 44,
    "start_time": "2023-11-08T12:59:11.402Z"
   },
   {
    "duration": 45,
    "start_time": "2023-11-08T12:59:35.289Z"
   },
   {
    "duration": 44,
    "start_time": "2023-11-08T13:00:10.839Z"
   },
   {
    "duration": 39,
    "start_time": "2023-11-08T13:09:40.308Z"
   },
   {
    "duration": 66,
    "start_time": "2023-11-08T13:10:15.641Z"
   },
   {
    "duration": 59,
    "start_time": "2023-11-08T13:10:19.194Z"
   },
   {
    "duration": 17544,
    "start_time": "2023-11-08T13:25:11.803Z"
   },
   {
    "duration": 36,
    "start_time": "2023-11-08T13:25:29.349Z"
   },
   {
    "duration": 64,
    "start_time": "2023-11-08T13:25:29.387Z"
   },
   {
    "duration": 57,
    "start_time": "2023-11-08T13:25:29.454Z"
   },
   {
    "duration": 92,
    "start_time": "2023-11-08T13:25:29.513Z"
   },
   {
    "duration": 61,
    "start_time": "2023-11-08T13:25:29.607Z"
   },
   {
    "duration": 41,
    "start_time": "2023-11-08T13:25:29.669Z"
   },
   {
    "duration": 44,
    "start_time": "2023-11-08T13:25:29.712Z"
   },
   {
    "duration": 47,
    "start_time": "2023-11-08T13:25:29.758Z"
   },
   {
    "duration": 42,
    "start_time": "2023-11-08T13:25:29.808Z"
   },
   {
    "duration": 43,
    "start_time": "2023-11-08T13:25:29.851Z"
   },
   {
    "duration": 592,
    "start_time": "2023-11-08T14:58:57.498Z"
   },
   {
    "duration": 63,
    "start_time": "2023-11-08T15:00:33.933Z"
   },
   {
    "duration": 3,
    "start_time": "2023-11-08T15:00:36.564Z"
   },
   {
    "duration": 12102,
    "start_time": "2023-11-08T15:00:36.569Z"
   },
   {
    "duration": 32,
    "start_time": "2023-11-08T15:00:48.673Z"
   },
   {
    "duration": 39,
    "start_time": "2023-11-08T15:00:48.706Z"
   },
   {
    "duration": 131,
    "start_time": "2023-11-08T15:00:48.747Z"
   },
   {
    "duration": 0,
    "start_time": "2023-11-08T15:00:48.880Z"
   },
   {
    "duration": 0,
    "start_time": "2023-11-08T15:00:48.881Z"
   },
   {
    "duration": 0,
    "start_time": "2023-11-08T15:00:48.883Z"
   },
   {
    "duration": 0,
    "start_time": "2023-11-08T15:00:48.884Z"
   },
   {
    "duration": 0,
    "start_time": "2023-11-08T15:00:48.885Z"
   },
   {
    "duration": 0,
    "start_time": "2023-11-08T15:00:48.885Z"
   },
   {
    "duration": 0,
    "start_time": "2023-11-08T15:00:48.886Z"
   },
   {
    "duration": 143,
    "start_time": "2023-11-08T15:01:13.931Z"
   },
   {
    "duration": 76,
    "start_time": "2023-11-08T15:01:33.598Z"
   },
   {
    "duration": 76,
    "start_time": "2023-11-08T15:02:05.788Z"
   },
   {
    "duration": 44,
    "start_time": "2023-11-08T15:06:28.414Z"
   },
   {
    "duration": 85,
    "start_time": "2023-11-08T15:07:22.659Z"
   },
   {
    "duration": 82,
    "start_time": "2023-11-08T15:07:52.970Z"
   },
   {
    "duration": 44,
    "start_time": "2023-11-08T15:08:17.269Z"
   },
   {
    "duration": 98,
    "start_time": "2023-11-08T15:08:53.435Z"
   },
   {
    "duration": 92,
    "start_time": "2023-11-08T15:12:46.442Z"
   },
   {
    "duration": 106,
    "start_time": "2023-11-08T15:13:37.439Z"
   },
   {
    "duration": 421,
    "start_time": "2023-11-08T15:13:50.707Z"
   },
   {
    "duration": 26,
    "start_time": "2023-11-08T15:13:53.426Z"
   },
   {
    "duration": 578,
    "start_time": "2023-11-08T19:00:52.313Z"
   },
   {
    "duration": 15810,
    "start_time": "2023-11-08T19:00:52.893Z"
   },
   {
    "duration": 51,
    "start_time": "2023-11-08T19:01:08.705Z"
   },
   {
    "duration": 29,
    "start_time": "2023-11-08T19:01:08.763Z"
   },
   {
    "duration": 38,
    "start_time": "2023-11-08T19:01:08.794Z"
   },
   {
    "duration": 9,
    "start_time": "2023-11-08T19:01:08.834Z"
   },
   {
    "duration": 42,
    "start_time": "2023-11-08T19:01:08.864Z"
   },
   {
    "duration": 10,
    "start_time": "2023-11-08T19:01:08.908Z"
   },
   {
    "duration": 21,
    "start_time": "2023-11-08T19:01:08.919Z"
   },
   {
    "duration": 53,
    "start_time": "2023-11-08T19:01:08.942Z"
   },
   {
    "duration": 13,
    "start_time": "2023-11-08T19:01:08.997Z"
   },
   {
    "duration": 15,
    "start_time": "2023-11-08T19:01:09.013Z"
   },
   {
    "duration": 328,
    "start_time": "2023-11-08T19:09:52.073Z"
   },
   {
    "duration": 77,
    "start_time": "2023-11-08T19:10:03.457Z"
   },
   {
    "duration": 37,
    "start_time": "2023-11-08T19:10:25.890Z"
   },
   {
    "duration": 55,
    "start_time": "2023-11-08T19:16:26.175Z"
   },
   {
    "duration": 58,
    "start_time": "2023-11-08T19:16:34.382Z"
   },
   {
    "duration": 294,
    "start_time": "2023-11-08T19:16:41.823Z"
   },
   {
    "duration": 34,
    "start_time": "2023-11-08T19:16:56.800Z"
   },
   {
    "duration": 134,
    "start_time": "2023-11-08T19:26:11.365Z"
   },
   {
    "duration": 13,
    "start_time": "2023-11-08T19:26:20.811Z"
   },
   {
    "duration": 64,
    "start_time": "2023-11-08T19:26:27.040Z"
   },
   {
    "duration": 23,
    "start_time": "2023-11-08T19:26:32.692Z"
   },
   {
    "duration": 14,
    "start_time": "2023-11-08T19:27:27.693Z"
   },
   {
    "duration": 16,
    "start_time": "2023-11-08T19:27:46.010Z"
   },
   {
    "duration": 45,
    "start_time": "2023-11-08T19:28:53.639Z"
   },
   {
    "duration": 613,
    "start_time": "2023-11-08T19:35:38.779Z"
   },
   {
    "duration": 15410,
    "start_time": "2023-11-08T19:35:39.397Z"
   },
   {
    "duration": 28,
    "start_time": "2023-11-08T19:35:54.809Z"
   },
   {
    "duration": 61,
    "start_time": "2023-11-08T19:35:54.840Z"
   },
   {
    "duration": 27,
    "start_time": "2023-11-08T19:35:54.903Z"
   },
   {
    "duration": 15,
    "start_time": "2023-11-08T19:35:54.931Z"
   },
   {
    "duration": 66,
    "start_time": "2023-11-08T19:35:54.948Z"
   },
   {
    "duration": 11,
    "start_time": "2023-11-08T19:35:55.016Z"
   },
   {
    "duration": 17,
    "start_time": "2023-11-08T19:35:55.029Z"
   },
   {
    "duration": 38,
    "start_time": "2023-11-08T19:35:55.049Z"
   },
   {
    "duration": 34,
    "start_time": "2023-11-08T19:35:55.092Z"
   },
   {
    "duration": 11,
    "start_time": "2023-11-08T19:35:55.128Z"
   },
   {
    "duration": 613,
    "start_time": "2023-11-08T19:37:01.793Z"
   },
   {
    "duration": 17225,
    "start_time": "2023-11-08T19:37:02.408Z"
   },
   {
    "duration": 63,
    "start_time": "2023-11-08T19:37:19.636Z"
   },
   {
    "duration": 8,
    "start_time": "2023-11-08T19:37:19.701Z"
   },
   {
    "duration": 55,
    "start_time": "2023-11-08T19:37:19.711Z"
   },
   {
    "duration": 43,
    "start_time": "2023-11-08T19:37:19.767Z"
   },
   {
    "duration": 19,
    "start_time": "2023-11-08T19:37:19.812Z"
   },
   {
    "duration": 15,
    "start_time": "2023-11-08T19:37:19.833Z"
   },
   {
    "duration": 54,
    "start_time": "2023-11-08T19:37:19.853Z"
   },
   {
    "duration": 13,
    "start_time": "2023-11-08T19:37:19.909Z"
   },
   {
    "duration": 11,
    "start_time": "2023-11-08T19:37:19.924Z"
   },
   {
    "duration": 67,
    "start_time": "2023-11-08T19:37:19.937Z"
   },
   {
    "duration": 610,
    "start_time": "2023-11-08T19:57:26.758Z"
   },
   {
    "duration": 9396,
    "start_time": "2023-11-08T19:57:27.371Z"
   },
   {
    "duration": 53,
    "start_time": "2023-11-08T19:57:36.770Z"
   },
   {
    "duration": 63,
    "start_time": "2023-11-08T19:57:36.826Z"
   },
   {
    "duration": 112,
    "start_time": "2023-11-08T19:57:36.892Z"
   },
   {
    "duration": 43,
    "start_time": "2023-11-08T19:57:37.007Z"
   },
   {
    "duration": 60,
    "start_time": "2023-11-08T19:57:37.052Z"
   },
   {
    "duration": 40,
    "start_time": "2023-11-08T19:57:37.114Z"
   },
   {
    "duration": 45,
    "start_time": "2023-11-08T19:57:37.155Z"
   },
   {
    "duration": 44,
    "start_time": "2023-11-08T19:57:37.203Z"
   },
   {
    "duration": 45,
    "start_time": "2023-11-08T19:57:37.249Z"
   },
   {
    "duration": 47,
    "start_time": "2023-11-08T19:57:37.297Z"
   },
   {
    "duration": 45,
    "start_time": "2023-11-08T20:07:29.369Z"
   },
   {
    "duration": 46,
    "start_time": "2023-11-08T20:07:42.618Z"
   },
   {
    "duration": 47,
    "start_time": "2023-11-08T20:10:04.704Z"
   },
   {
    "duration": 51,
    "start_time": "2023-11-08T20:10:22.815Z"
   },
   {
    "duration": 46,
    "start_time": "2024-02-09T09:53:13.935Z"
   },
   {
    "duration": 497,
    "start_time": "2024-02-09T09:54:23.037Z"
   },
   {
    "duration": 8674,
    "start_time": "2024-02-09T09:54:25.392Z"
   }
  ],
  "kernelspec": {
   "display_name": "Python 3 (ipykernel)",
   "language": "python",
   "name": "python3"
  },
  "language_info": {
   "codemirror_mode": {
    "name": "ipython",
    "version": 3
   },
   "file_extension": ".py",
   "mimetype": "text/x-python",
   "name": "python",
   "nbconvert_exporter": "python",
   "pygments_lexer": "ipython3",
   "version": "3.9.16"
  },
  "toc": {
   "base_numbering": 1,
   "nav_menu": {},
   "number_sections": true,
   "sideBar": true,
   "skip_h1_title": true,
   "title_cell": "Table of Contents",
   "title_sidebar": "Contents",
   "toc_cell": false,
   "toc_position": {
    "height": "calc(100% - 180px)",
    "left": "10px",
    "top": "150px",
    "width": "251.938px"
   },
   "toc_section_display": true,
   "toc_window_display": true
  }
 },
 "nbformat": 4,
 "nbformat_minor": 2
}
