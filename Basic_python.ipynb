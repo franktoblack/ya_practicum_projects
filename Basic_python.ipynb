{
 "cells": [
  {
   "cell_type": "markdown",
   "metadata": {
    "deletable": false,
    "editable": false,
    "id": "E0vqbgi9ay0H"
   },
   "source": [
    "# Яндекс Музыка"
   ]
  },
  {
   "cell_type": "markdown",
   "metadata": {
    "deletable": false,
    "editable": false,
    "id": "VUC88oWjTJw2"
   },
   "source": [
    "Сравнение Москвы и Петербурга окружено мифами. Например:\n",
    " * Москва — мегаполис, подчинённый жёсткому ритму рабочей недели;\n",
    " * Петербург — культурная столица, со своими вкусами.\n",
    "\n",
    "На данных Яндекс Музыки вы сравните поведение пользователей двух столиц.\n",
    "\n",
    "**Цель исследования** — проверьте три гипотезы:\n",
    "1. Активность пользователей зависит от дня недели. Причём в Москве и Петербурге это проявляется по-разному.\n",
    "2. В понедельник утром в Москве преобладают одни жанры, а в Петербурге — другие. Так же и вечером пятницы преобладают разные жанры — в зависимости от города. \n",
    "3. Москва и Петербург предпочитают разные жанры музыки. В Москве чаще слушают поп-музыку, в Петербурге — русский рэп.\n",
    "\n",
    "**Ход исследования**\n",
    "\n",
    "Данные о поведении пользователей вы получите из файла `yandex_music_project.csv`. О качестве данных ничего не известно. Поэтому перед проверкой гипотез понадобится обзор данных. \n",
    "\n",
    "Вы проверите данные на ошибки и оцените их влияние на исследование. Затем, на этапе предобработки вы поищете возможность исправить самые критичные ошибки данных.\n",
    " \n",
    "Таким образом, исследование пройдёт в три этапа:\n",
    " 1. Обзор данных.\n",
    " 2. Предобработка данных.\n",
    " 3. Проверка гипотез.\n",
    "\n"
   ]
  },
  {
   "cell_type": "markdown",
   "metadata": {
    "deletable": false,
    "editable": false,
    "id": "Ml1hmfXC_Zcs"
   },
   "source": [
    "## Обзор данных\n",
    "\n",
    "Составьте первое представление о данных Яндекс Музыки.\n",
    "\n",
    "\n"
   ]
  },
  {
   "cell_type": "markdown",
   "metadata": {
    "deletable": false,
    "editable": false,
    "id": "57eAOGIz_Zcs",
    "tags": [
     "start_task"
    ]
   },
   "source": [
    "**Задание 1**\n",
    "\n",
    "Основной инструмент аналитика — `pandas`. Импортируйте эту библиотеку."
   ]
  },
  {
   "cell_type": "code",
   "execution_count": 29,
   "metadata": {
    "deletable": false,
    "id": "AXN7PHPN_Zcs"
   },
   "outputs": [],
   "source": [
    "import pandas as pd# импорт библиотеки pandas"
   ]
  },
  {
   "cell_type": "markdown",
   "metadata": {
    "deletable": false,
    "editable": false,
    "id": "SG23P8tt_Zcs",
    "tags": [
     "start_task"
    ]
   },
   "source": [
    "**Задание 2**\n",
    "\n",
    "Прочитайте файл `yandex_music_project.csv` из папки `/datasets` и сохраните его в переменной `df`:"
   ]
  },
  {
   "cell_type": "code",
   "execution_count": 30,
   "metadata": {
    "deletable": false,
    "id": "fFVu7vqh_Zct"
   },
   "outputs": [
    {
     "data": {
      "text/html": [
       "<div>\n",
       "<style scoped>\n",
       "    .dataframe tbody tr th:only-of-type {\n",
       "        vertical-align: middle;\n",
       "    }\n",
       "\n",
       "    .dataframe tbody tr th {\n",
       "        vertical-align: top;\n",
       "    }\n",
       "\n",
       "    .dataframe thead th {\n",
       "        text-align: right;\n",
       "    }\n",
       "</style>\n",
       "<table border=\"1\" class=\"dataframe\">\n",
       "  <thead>\n",
       "    <tr style=\"text-align: right;\">\n",
       "      <th></th>\n",
       "      <th>userID</th>\n",
       "      <th>Track</th>\n",
       "      <th>artist</th>\n",
       "      <th>genre</th>\n",
       "      <th>City</th>\n",
       "      <th>time</th>\n",
       "      <th>Day</th>\n",
       "    </tr>\n",
       "  </thead>\n",
       "  <tbody>\n",
       "    <tr>\n",
       "      <th>0</th>\n",
       "      <td>FFB692EC</td>\n",
       "      <td>Kamigata To Boots</td>\n",
       "      <td>The Mass Missile</td>\n",
       "      <td>rock</td>\n",
       "      <td>Saint-Petersburg</td>\n",
       "      <td>20:28:33</td>\n",
       "      <td>Wednesday</td>\n",
       "    </tr>\n",
       "    <tr>\n",
       "      <th>1</th>\n",
       "      <td>55204538</td>\n",
       "      <td>Delayed Because of Accident</td>\n",
       "      <td>Andreas Rönnberg</td>\n",
       "      <td>rock</td>\n",
       "      <td>Moscow</td>\n",
       "      <td>14:07:09</td>\n",
       "      <td>Friday</td>\n",
       "    </tr>\n",
       "    <tr>\n",
       "      <th>2</th>\n",
       "      <td>20EC38</td>\n",
       "      <td>Funiculì funiculà</td>\n",
       "      <td>Mario Lanza</td>\n",
       "      <td>pop</td>\n",
       "      <td>Saint-Petersburg</td>\n",
       "      <td>20:58:07</td>\n",
       "      <td>Wednesday</td>\n",
       "    </tr>\n",
       "    <tr>\n",
       "      <th>3</th>\n",
       "      <td>A3DD03C9</td>\n",
       "      <td>Dragons in the Sunset</td>\n",
       "      <td>Fire + Ice</td>\n",
       "      <td>folk</td>\n",
       "      <td>Saint-Petersburg</td>\n",
       "      <td>08:37:09</td>\n",
       "      <td>Monday</td>\n",
       "    </tr>\n",
       "    <tr>\n",
       "      <th>4</th>\n",
       "      <td>E2DC1FAE</td>\n",
       "      <td>Soul People</td>\n",
       "      <td>Space Echo</td>\n",
       "      <td>dance</td>\n",
       "      <td>Moscow</td>\n",
       "      <td>08:34:34</td>\n",
       "      <td>Monday</td>\n",
       "    </tr>\n",
       "    <tr>\n",
       "      <th>...</th>\n",
       "      <td>...</td>\n",
       "      <td>...</td>\n",
       "      <td>...</td>\n",
       "      <td>...</td>\n",
       "      <td>...</td>\n",
       "      <td>...</td>\n",
       "      <td>...</td>\n",
       "    </tr>\n",
       "    <tr>\n",
       "      <th>65074</th>\n",
       "      <td>729CBB09</td>\n",
       "      <td>My Name</td>\n",
       "      <td>McLean</td>\n",
       "      <td>rnb</td>\n",
       "      <td>Moscow</td>\n",
       "      <td>13:32:28</td>\n",
       "      <td>Wednesday</td>\n",
       "    </tr>\n",
       "    <tr>\n",
       "      <th>65075</th>\n",
       "      <td>D08D4A55</td>\n",
       "      <td>Maybe One Day (feat. Black Spade)</td>\n",
       "      <td>Blu &amp; Exile</td>\n",
       "      <td>hip</td>\n",
       "      <td>Saint-Petersburg</td>\n",
       "      <td>10:00:00</td>\n",
       "      <td>Monday</td>\n",
       "    </tr>\n",
       "    <tr>\n",
       "      <th>65076</th>\n",
       "      <td>C5E3A0D5</td>\n",
       "      <td>Jalopiina</td>\n",
       "      <td>NaN</td>\n",
       "      <td>industrial</td>\n",
       "      <td>Moscow</td>\n",
       "      <td>20:09:26</td>\n",
       "      <td>Friday</td>\n",
       "    </tr>\n",
       "    <tr>\n",
       "      <th>65077</th>\n",
       "      <td>321D0506</td>\n",
       "      <td>Freight Train</td>\n",
       "      <td>Chas McDevitt</td>\n",
       "      <td>rock</td>\n",
       "      <td>Moscow</td>\n",
       "      <td>21:43:59</td>\n",
       "      <td>Friday</td>\n",
       "    </tr>\n",
       "    <tr>\n",
       "      <th>65078</th>\n",
       "      <td>3A64EF84</td>\n",
       "      <td>Tell Me Sweet Little Lies</td>\n",
       "      <td>Monica Lopez</td>\n",
       "      <td>country</td>\n",
       "      <td>Moscow</td>\n",
       "      <td>21:59:46</td>\n",
       "      <td>Friday</td>\n",
       "    </tr>\n",
       "  </tbody>\n",
       "</table>\n",
       "<p>65079 rows × 7 columns</p>\n",
       "</div>"
      ],
      "text/plain": [
       "         userID                              Track            artist  \\\n",
       "0      FFB692EC                  Kamigata To Boots  The Mass Missile   \n",
       "1      55204538        Delayed Because of Accident  Andreas Rönnberg   \n",
       "2        20EC38                  Funiculì funiculà       Mario Lanza   \n",
       "3      A3DD03C9              Dragons in the Sunset        Fire + Ice   \n",
       "4      E2DC1FAE                        Soul People        Space Echo   \n",
       "...         ...                                ...               ...   \n",
       "65074  729CBB09                            My Name            McLean   \n",
       "65075  D08D4A55  Maybe One Day (feat. Black Spade)       Blu & Exile   \n",
       "65076  C5E3A0D5                          Jalopiina               NaN   \n",
       "65077  321D0506                      Freight Train     Chas McDevitt   \n",
       "65078  3A64EF84          Tell Me Sweet Little Lies      Monica Lopez   \n",
       "\n",
       "            genre            City        time        Day  \n",
       "0            rock  Saint-Petersburg  20:28:33  Wednesday  \n",
       "1            rock            Moscow  14:07:09     Friday  \n",
       "2             pop  Saint-Petersburg  20:58:07  Wednesday  \n",
       "3            folk  Saint-Petersburg  08:37:09     Monday  \n",
       "4           dance            Moscow  08:34:34     Monday  \n",
       "...           ...               ...       ...        ...  \n",
       "65074         rnb            Moscow  13:32:28  Wednesday  \n",
       "65075         hip  Saint-Petersburg  10:00:00     Monday  \n",
       "65076  industrial            Moscow  20:09:26     Friday  \n",
       "65077        rock            Moscow  21:43:59     Friday  \n",
       "65078     country            Moscow  21:59:46     Friday  \n",
       "\n",
       "[65079 rows x 7 columns]"
      ]
     },
     "execution_count": 30,
     "metadata": {},
     "output_type": "execute_result"
    }
   ],
   "source": [
    "import pandas as pd\n",
    "df = pd.read_csv('/datasets/yandex_music_project.csv')\n",
    "df\n"
   ]
  },
  {
   "cell_type": "markdown",
   "metadata": {
    "deletable": false,
    "editable": false,
    "id": "rDoOMd3uTqnZ",
    "tags": [
     "start_task"
    ]
   },
   "source": [
    "**Задание 3**\n",
    "\n",
    "\n",
    "Выведите на экран первые десять строк таблицы:"
   ]
  },
  {
   "cell_type": "code",
   "execution_count": 31,
   "metadata": {
    "deletable": false,
    "id": "oWTVX3gW_Zct"
   },
   "outputs": [
    {
     "data": {
      "text/html": [
       "<div>\n",
       "<style scoped>\n",
       "    .dataframe tbody tr th:only-of-type {\n",
       "        vertical-align: middle;\n",
       "    }\n",
       "\n",
       "    .dataframe tbody tr th {\n",
       "        vertical-align: top;\n",
       "    }\n",
       "\n",
       "    .dataframe thead th {\n",
       "        text-align: right;\n",
       "    }\n",
       "</style>\n",
       "<table border=\"1\" class=\"dataframe\">\n",
       "  <thead>\n",
       "    <tr style=\"text-align: right;\">\n",
       "      <th></th>\n",
       "      <th>userID</th>\n",
       "      <th>Track</th>\n",
       "      <th>artist</th>\n",
       "      <th>genre</th>\n",
       "      <th>City</th>\n",
       "      <th>time</th>\n",
       "      <th>Day</th>\n",
       "    </tr>\n",
       "  </thead>\n",
       "  <tbody>\n",
       "    <tr>\n",
       "      <th>0</th>\n",
       "      <td>FFB692EC</td>\n",
       "      <td>Kamigata To Boots</td>\n",
       "      <td>The Mass Missile</td>\n",
       "      <td>rock</td>\n",
       "      <td>Saint-Petersburg</td>\n",
       "      <td>20:28:33</td>\n",
       "      <td>Wednesday</td>\n",
       "    </tr>\n",
       "    <tr>\n",
       "      <th>1</th>\n",
       "      <td>55204538</td>\n",
       "      <td>Delayed Because of Accident</td>\n",
       "      <td>Andreas Rönnberg</td>\n",
       "      <td>rock</td>\n",
       "      <td>Moscow</td>\n",
       "      <td>14:07:09</td>\n",
       "      <td>Friday</td>\n",
       "    </tr>\n",
       "    <tr>\n",
       "      <th>2</th>\n",
       "      <td>20EC38</td>\n",
       "      <td>Funiculì funiculà</td>\n",
       "      <td>Mario Lanza</td>\n",
       "      <td>pop</td>\n",
       "      <td>Saint-Petersburg</td>\n",
       "      <td>20:58:07</td>\n",
       "      <td>Wednesday</td>\n",
       "    </tr>\n",
       "    <tr>\n",
       "      <th>3</th>\n",
       "      <td>A3DD03C9</td>\n",
       "      <td>Dragons in the Sunset</td>\n",
       "      <td>Fire + Ice</td>\n",
       "      <td>folk</td>\n",
       "      <td>Saint-Petersburg</td>\n",
       "      <td>08:37:09</td>\n",
       "      <td>Monday</td>\n",
       "    </tr>\n",
       "    <tr>\n",
       "      <th>4</th>\n",
       "      <td>E2DC1FAE</td>\n",
       "      <td>Soul People</td>\n",
       "      <td>Space Echo</td>\n",
       "      <td>dance</td>\n",
       "      <td>Moscow</td>\n",
       "      <td>08:34:34</td>\n",
       "      <td>Monday</td>\n",
       "    </tr>\n",
       "    <tr>\n",
       "      <th>5</th>\n",
       "      <td>842029A1</td>\n",
       "      <td>Преданная</td>\n",
       "      <td>IMPERVTOR</td>\n",
       "      <td>rusrap</td>\n",
       "      <td>Saint-Petersburg</td>\n",
       "      <td>13:09:41</td>\n",
       "      <td>Friday</td>\n",
       "    </tr>\n",
       "    <tr>\n",
       "      <th>6</th>\n",
       "      <td>4CB90AA5</td>\n",
       "      <td>True</td>\n",
       "      <td>Roman Messer</td>\n",
       "      <td>dance</td>\n",
       "      <td>Moscow</td>\n",
       "      <td>13:00:07</td>\n",
       "      <td>Wednesday</td>\n",
       "    </tr>\n",
       "    <tr>\n",
       "      <th>7</th>\n",
       "      <td>F03E1C1F</td>\n",
       "      <td>Feeling This Way</td>\n",
       "      <td>Polina Griffith</td>\n",
       "      <td>dance</td>\n",
       "      <td>Moscow</td>\n",
       "      <td>20:47:49</td>\n",
       "      <td>Wednesday</td>\n",
       "    </tr>\n",
       "    <tr>\n",
       "      <th>8</th>\n",
       "      <td>8FA1D3BE</td>\n",
       "      <td>И вновь продолжается бой</td>\n",
       "      <td>NaN</td>\n",
       "      <td>ruspop</td>\n",
       "      <td>Moscow</td>\n",
       "      <td>09:17:40</td>\n",
       "      <td>Friday</td>\n",
       "    </tr>\n",
       "    <tr>\n",
       "      <th>9</th>\n",
       "      <td>E772D5C0</td>\n",
       "      <td>Pessimist</td>\n",
       "      <td>NaN</td>\n",
       "      <td>dance</td>\n",
       "      <td>Saint-Petersburg</td>\n",
       "      <td>21:20:49</td>\n",
       "      <td>Wednesday</td>\n",
       "    </tr>\n",
       "  </tbody>\n",
       "</table>\n",
       "</div>"
      ],
      "text/plain": [
       "     userID                        Track            artist   genre  \\\n",
       "0  FFB692EC            Kamigata To Boots  The Mass Missile    rock   \n",
       "1  55204538  Delayed Because of Accident  Andreas Rönnberg    rock   \n",
       "2    20EC38            Funiculì funiculà       Mario Lanza     pop   \n",
       "3  A3DD03C9        Dragons in the Sunset        Fire + Ice    folk   \n",
       "4  E2DC1FAE                  Soul People        Space Echo   dance   \n",
       "5  842029A1                    Преданная         IMPERVTOR  rusrap   \n",
       "6  4CB90AA5                         True      Roman Messer   dance   \n",
       "7  F03E1C1F             Feeling This Way   Polina Griffith   dance   \n",
       "8  8FA1D3BE     И вновь продолжается бой               NaN  ruspop   \n",
       "9  E772D5C0                    Pessimist               NaN   dance   \n",
       "\n",
       "             City        time        Day  \n",
       "0  Saint-Petersburg  20:28:33  Wednesday  \n",
       "1            Moscow  14:07:09     Friday  \n",
       "2  Saint-Petersburg  20:58:07  Wednesday  \n",
       "3  Saint-Petersburg  08:37:09     Monday  \n",
       "4            Moscow  08:34:34     Monday  \n",
       "5  Saint-Petersburg  13:09:41     Friday  \n",
       "6            Moscow  13:00:07  Wednesday  \n",
       "7            Moscow  20:47:49  Wednesday  \n",
       "8            Moscow  09:17:40     Friday  \n",
       "9  Saint-Petersburg  21:20:49  Wednesday  "
      ]
     },
     "execution_count": 31,
     "metadata": {},
     "output_type": "execute_result"
    }
   ],
   "source": [
    "df.head(10)# получение первых 10 строк таблицы df"
   ]
  },
  {
   "cell_type": "markdown",
   "metadata": {
    "deletable": false,
    "editable": false,
    "id": "EO73Kwic_Zct",
    "tags": [
     "start_task"
    ]
   },
   "source": [
    "**Задание 4**\n",
    "\n",
    "\n",
    "Одной командой получить общую информацию о таблице c помощью метода `info()`:"
   ]
  },
  {
   "cell_type": "code",
   "execution_count": 32,
   "metadata": {
    "deletable": false,
    "id": "DSf2kIb-_Zct"
   },
   "outputs": [
    {
     "name": "stdout",
     "output_type": "stream",
     "text": [
      "<class 'pandas.core.frame.DataFrame'>\n",
      "RangeIndex: 65079 entries, 0 to 65078\n",
      "Data columns (total 7 columns):\n",
      " #   Column    Non-Null Count  Dtype \n",
      "---  ------    --------------  ----- \n",
      " 0     userID  65079 non-null  object\n",
      " 1   Track     63848 non-null  object\n",
      " 2   artist    57876 non-null  object\n",
      " 3   genre     63881 non-null  object\n",
      " 4     City    65079 non-null  object\n",
      " 5   time      65079 non-null  object\n",
      " 6   Day       65079 non-null  object\n",
      "dtypes: object(7)\n",
      "memory usage: 3.5+ MB\n"
     ]
    }
   ],
   "source": [
    "df.info()# получение общей информации о данных в таблице df"
   ]
  },
  {
   "cell_type": "markdown",
   "metadata": {
    "deletable": false,
    "editable": false,
    "id": "TaQ2Iwbr_Zct"
   },
   "source": [
    "Итак, в таблице семь столбцов. Тип данных во всех столбцах — `object`.\n",
    "\n",
    "Согласно документации к данным:\n",
    "* `userID` — идентификатор пользователя;\n",
    "* `Track` — название трека;  \n",
    "* `artist` — имя исполнителя;\n",
    "* `genre` — название жанра;\n",
    "* `City` — город пользователя;\n",
    "* `time` — время начала прослушивания;\n",
    "* `Day` — день недели.\n",
    "\n",
    "Количество значений в столбцах различается. Значит, в данных есть пропущенные значения."
   ]
  },
  {
   "cell_type": "markdown",
   "metadata": {
    "deletable": false,
    "editable": false,
    "id": "rAfziTBDmf2h",
    "tags": [
     "start_task"
    ]
   },
   "source": [
    "**Задание 5**\n",
    "\n",
    "**Вопрос со свободной формой ответа**\n",
    "\n",
    "В названиях колонок видны нарушения стиля:\n",
    "* Строчные буквы сочетаются с прописными.\n",
    "* Встречаются пробелы.\n",
    "\n",
    "Какое третье нарушение?"
   ]
  },
  {
   "cell_type": "code",
   "execution_count": 33,
   "metadata": {
    "id": "jD8EXEIvmf2h"
   },
   "outputs": [],
   "source": [
    "# Saint-Petersberg написано не через змеиный регистр. Не удаляйте символ #. Не меняйте тип этой ячейки на Markdown."
   ]
  },
  {
   "cell_type": "markdown",
   "metadata": {
    "deletable": false,
    "editable": false,
    "id": "MCB6-dXG_Zct"
   },
   "source": [
    "**Выводы**\n",
    "\n",
    "В каждой строке таблицы — данные о прослушанном треке. Часть колонок описывает саму композицию: название, исполнителя и жанр. Остальные данные рассказывают о пользователе: из какого он города, когда он слушал музыку. \n",
    "\n",
    "Предварительно можно утверждать, что данных достаточно для проверки гипотез. Но встречаются пропуски в данных, а в названиях колонок — расхождения с хорошим стилем.\n",
    "\n",
    "Чтобы двигаться дальше, нужно устранить проблемы в данных."
   ]
  },
  {
   "cell_type": "markdown",
   "metadata": {
    "deletable": false,
    "editable": false,
    "id": "SjYF6Ub9_Zct"
   },
   "source": [
    "## Предобработка данных\n",
    "Исправьте стиль в заголовках столбцов, исключите пропуски. Затем проверьте данные на дубликаты."
   ]
  },
  {
   "cell_type": "markdown",
   "metadata": {
    "deletable": false,
    "editable": false,
    "id": "dIaKXr29_Zct",
    "tags": [
     "start_task"
    ]
   },
   "source": [
    "### Стиль заголовков\n",
    "\n",
    "**Задание 6**\n",
    "\n",
    "Выведите на экран названия столбцов:"
   ]
  },
  {
   "cell_type": "code",
   "execution_count": 34,
   "metadata": {
    "deletable": false,
    "id": "oKOTdF_Q_Zct"
   },
   "outputs": [
    {
     "data": {
      "text/plain": [
       "Index(['  userID', 'Track', 'artist', 'genre', '  City  ', 'time', 'Day'], dtype='object')"
      ]
     },
     "execution_count": 34,
     "metadata": {},
     "output_type": "execute_result"
    }
   ],
   "source": [
    "import pandas as pd\n",
    "df = pd.read_csv('/datasets/yandex_music_project.csv')\n",
    "df.columns# перечень названий столбцов таблицы df"
   ]
  },
  {
   "cell_type": "markdown",
   "metadata": {
    "deletable": false,
    "editable": false,
    "id": "zj5534cv_Zct",
    "tags": [
     "start_task"
    ]
   },
   "source": [
    "**Задание 7**\n",
    "\n",
    "\n",
    "Приведите названия в соответствие с хорошим стилем:\n",
    "* несколько слов в названии запишите в «змеином_регистре»,\n",
    "* все символы сделайте строчными,\n",
    "* устраните пробелы.\n",
    "\n",
    "Для этого переименуйте колонки так:\n",
    "* `'  userID'` → `'user_id'`;\n",
    "* `'Track'` → `'track'`;\n",
    "* `'  City  '` → `'city'`;\n",
    "* `'Day'` → `'day'`."
   ]
  },
  {
   "cell_type": "code",
   "execution_count": 35,
   "metadata": {
    "deletable": false,
    "id": "ISlFqs5y_Zct"
   },
   "outputs": [],
   "source": [
    "df = df.rename(columns = {'  userID':'user_id','Track':'track', '  City  ':'city','Day':'day'})# переименование столбцов"
   ]
  },
  {
   "cell_type": "markdown",
   "metadata": {
    "deletable": false,
    "editable": false,
    "id": "1dqbh00J_Zct",
    "tags": [
     "start_task"
    ]
   },
   "source": [
    "**Задание 8**\n",
    "\n",
    "\n",
    "Проверьте результат. Для этого ещё раз выведите на экран названия столбцов:"
   ]
  },
  {
   "cell_type": "code",
   "execution_count": 36,
   "metadata": {
    "deletable": false,
    "id": "d4NOAmTW_Zct"
   },
   "outputs": [
    {
     "data": {
      "text/plain": [
       "Index(['user_id', 'track', 'artist', 'genre', 'city', 'time', 'day'], dtype='object')"
      ]
     },
     "execution_count": 36,
     "metadata": {},
     "output_type": "execute_result"
    }
   ],
   "source": [
    "df.columns# проверка результатов - перечень названий столбцов"
   ]
  },
  {
   "cell_type": "markdown",
   "metadata": {
    "deletable": false,
    "editable": false,
    "id": "5ISfbcfY_Zct",
    "tags": [
     "start_task"
    ]
   },
   "source": [
    "### Пропуски значений\n",
    "\n",
    "**Задание 9**\n",
    "\n",
    "Сначала посчитайте, сколько в таблице пропущенных значений. Для этого достаточно двух методов `pandas`:"
   ]
  },
  {
   "cell_type": "code",
   "execution_count": 37,
   "metadata": {
    "deletable": false,
    "id": "RskX29qr_Zct"
   },
   "outputs": [
    {
     "data": {
      "text/plain": [
       "user_id       0\n",
       "track      1231\n",
       "artist     7203\n",
       "genre      1198\n",
       "city          0\n",
       "time          0\n",
       "day           0\n",
       "dtype: int64"
      ]
     },
     "execution_count": 37,
     "metadata": {},
     "output_type": "execute_result"
    }
   ],
   "source": [
    "df.isna().sum()# подсчёт пропусков"
   ]
  },
  {
   "cell_type": "markdown",
   "metadata": {
    "deletable": false,
    "editable": false,
    "id": "qubhgnlO_Zct"
   },
   "source": [
    "Не все пропущенные значения влияют на исследование. Так в `track` и `artist` пропуски не важны для вашей работы. Достаточно заменить их явными обозначениями.\n",
    "\n",
    "Но пропуски в `genre` могут помешать сравнению музыкальных вкусов в Москве и Санкт-Петербурге. На практике было бы правильно установить причину пропусков и восстановить данные. Такой возможности нет в учебном проекте. Придётся:\n",
    "* заполнить и эти пропуски явными обозначениями;\n",
    "* оценить, насколько они повредят расчётам. "
   ]
  },
  {
   "cell_type": "markdown",
   "metadata": {
    "deletable": false,
    "editable": false,
    "id": "fSv2laPA_Zct",
    "tags": [
     "start_task"
    ]
   },
   "source": [
    "**Задание 10**\n",
    "\n",
    "Замените пропущенные значения в столбцах `track`, `artist` и `genre` на строку `'unknown'`. Для этого создайте список `columns_to_replace`, переберите его элементы циклом `for` и для каждого столбца выполните замену пропущенных значений:"
   ]
  },
  {
   "cell_type": "code",
   "execution_count": 38,
   "metadata": {
    "deletable": false,
    "id": "KplB5qWs_Zct"
   },
   "outputs": [],
   "source": [
    "columns_to_replace = ['track','artist','genre']\n",
    "for column in columns_to_replace:\n",
    "    df[column]=df[column].fillna('unknown')# перебор названий столбцов в цикле и замена пропущенных значений на 'unknown'"
   ]
  },
  {
   "cell_type": "markdown",
   "metadata": {
    "deletable": false,
    "editable": false,
    "id": "Ilsm-MZo_Zct",
    "tags": [
     "start_task"
    ]
   },
   "source": [
    "**Задание 11**\n",
    "\n",
    "Убедитесь, что в таблице не осталось пропусков. Для этого ещё раз посчитайте пропущенные значения."
   ]
  },
  {
   "cell_type": "code",
   "execution_count": 39,
   "metadata": {
    "deletable": false,
    "id": "Tq4nYRX4_Zct"
   },
   "outputs": [
    {
     "data": {
      "text/plain": [
       "user_id    0\n",
       "track      0\n",
       "artist     0\n",
       "genre      0\n",
       "city       0\n",
       "time       0\n",
       "day        0\n",
       "dtype: int64"
      ]
     },
     "execution_count": 39,
     "metadata": {},
     "output_type": "execute_result"
    }
   ],
   "source": [
    "df.isna().sum()# подсчёт пропусков"
   ]
  },
  {
   "cell_type": "markdown",
   "metadata": {
    "deletable": false,
    "editable": false,
    "id": "BWKRtBJ3_Zct",
    "tags": [
     "start_task"
    ]
   },
   "source": [
    "### Дубликаты\n",
    "\n",
    "**Задание 12**\n",
    "\n",
    "Посчитайте явные дубликаты в таблице одной командой:"
   ]
  },
  {
   "cell_type": "code",
   "execution_count": 40,
   "metadata": {
    "deletable": false,
    "id": "36eES_S0_Zct"
   },
   "outputs": [
    {
     "data": {
      "text/plain": [
       "3826"
      ]
     },
     "execution_count": 40,
     "metadata": {},
     "output_type": "execute_result"
    }
   ],
   "source": [
    "df.duplicated().sum()\n",
    "# подсчёт явных дубликатов"
   ]
  },
  {
   "cell_type": "markdown",
   "metadata": {
    "deletable": false,
    "editable": false,
    "id": "Ot25h6XR_Zct",
    "tags": [
     "start_task"
    ]
   },
   "source": [
    "**Задание 13**\n",
    "\n",
    "Вызовите специальный метод `pandas`, чтобы удалить явные дубликаты:"
   ]
  },
  {
   "cell_type": "code",
   "execution_count": 41,
   "metadata": {
    "deletable": false,
    "id": "exFHq6tt_Zct"
   },
   "outputs": [],
   "source": [
    "df.duplicated().sum()\n",
    "df=df.drop_duplicates().reset_index(drop=True)# удаление явных дубликатов"
   ]
  },
  {
   "cell_type": "markdown",
   "metadata": {
    "deletable": false,
    "editable": false,
    "id": "Im2YwBEG_Zct",
    "tags": [
     "start_task"
    ]
   },
   "source": [
    "**Задание 14**\n",
    "\n",
    "Ещё раз посчитайте явные дубликаты в таблице — убедитесь, что полностью от них избавились:"
   ]
  },
  {
   "cell_type": "code",
   "execution_count": 42,
   "metadata": {
    "deletable": false,
    "id": "-8PuNWQ0_Zct"
   },
   "outputs": [
    {
     "data": {
      "text/plain": [
       "0"
      ]
     },
     "execution_count": 42,
     "metadata": {},
     "output_type": "execute_result"
    }
   ],
   "source": [
    "df.duplicated().sum()# проверка на отсутствие дубликатов"
   ]
  },
  {
   "cell_type": "markdown",
   "metadata": {
    "deletable": false,
    "editable": false,
    "id": "QlFBsxAr_Zct"
   },
   "source": [
    "Теперь избавьтесь от неявных дубликатов в колонке `genre`. Например, название одного и того же жанра может быть записано немного по-разному. Такие ошибки тоже повлияют на результат исследования."
   ]
  },
  {
   "cell_type": "markdown",
   "metadata": {
    "deletable": false,
    "editable": false,
    "id": "eSjWwsOh_Zct",
    "tags": [
     "start_task"
    ]
   },
   "source": [
    "**Задание 15**\n",
    "\n",
    "Выведите на экран список уникальных названий жанров, отсортированный в алфавитном порядке. Для этого:\n",
    "1. извлеките нужный столбец датафрейма; \n",
    "2. примените к нему метод сортировки;\n",
    "3. для отсортированного столбца вызовите метод, который вернёт уникальные значения из столбца."
   ]
  },
  {
   "cell_type": "code",
   "execution_count": 43,
   "metadata": {
    "deletable": false,
    "id": "JIUcqzZN_Zct"
   },
   "outputs": [
    {
     "data": {
      "text/plain": [
       "array(['acid', 'acoustic', 'action', 'adult', 'africa', 'afrikaans',\n",
       "       'alternative', 'alternativepunk', 'ambient', 'americana',\n",
       "       'animated', 'anime', 'arabesk', 'arabic', 'arena',\n",
       "       'argentinetango', 'art', 'audiobook', 'author', 'avantgarde',\n",
       "       'axé', 'baile', 'balkan', 'beats', 'bigroom', 'black', 'bluegrass',\n",
       "       'blues', 'bollywood', 'bossa', 'brazilian', 'breakbeat', 'breaks',\n",
       "       'broadway', 'cantautori', 'cantopop', 'canzone', 'caribbean',\n",
       "       'caucasian', 'celtic', 'chamber', 'chanson', 'children', 'chill',\n",
       "       'chinese', 'choral', 'christian', 'christmas', 'classical',\n",
       "       'classicmetal', 'club', 'colombian', 'comedy', 'conjazz',\n",
       "       'contemporary', 'country', 'cuban', 'dance', 'dancehall',\n",
       "       'dancepop', 'dark', 'death', 'deep', 'deutschrock', 'deutschspr',\n",
       "       'dirty', 'disco', 'dnb', 'documentary', 'downbeat', 'downtempo',\n",
       "       'drum', 'dub', 'dubstep', 'eastern', 'easy', 'electronic',\n",
       "       'electropop', 'emo', 'entehno', 'epicmetal', 'estrada', 'ethnic',\n",
       "       'eurofolk', 'european', 'experimental', 'extrememetal', 'fado',\n",
       "       'fairytail', 'film', 'fitness', 'flamenco', 'folk', 'folklore',\n",
       "       'folkmetal', 'folkrock', 'folktronica', 'forró', 'frankreich',\n",
       "       'französisch', 'french', 'funk', 'future', 'gangsta', 'garage',\n",
       "       'german', 'ghazal', 'gitarre', 'glitch', 'gospel', 'gothic',\n",
       "       'grime', 'grunge', 'gypsy', 'handsup', \"hard'n'heavy\", 'hardcore',\n",
       "       'hardstyle', 'hardtechno', 'hip', 'hip-hop', 'hiphop',\n",
       "       'historisch', 'holiday', 'hop', 'horror', 'house', 'hymn', 'idm',\n",
       "       'independent', 'indian', 'indie', 'indipop', 'industrial',\n",
       "       'inspirational', 'instrumental', 'international', 'irish', 'jam',\n",
       "       'japanese', 'jazz', 'jewish', 'jpop', 'jungle', 'k-pop',\n",
       "       'karadeniz', 'karaoke', 'kayokyoku', 'korean', 'laiko', 'latin',\n",
       "       'latino', 'leftfield', 'local', 'lounge', 'loungeelectronic',\n",
       "       'lovers', 'malaysian', 'mandopop', 'marschmusik', 'meditative',\n",
       "       'mediterranean', 'melodic', 'metal', 'metalcore', 'mexican',\n",
       "       'middle', 'minimal', 'miscellaneous', 'modern', 'mood', 'mpb',\n",
       "       'muslim', 'native', 'neoklassik', 'neue', 'new', 'newage',\n",
       "       'newwave', 'nu', 'nujazz', 'numetal', 'oceania', 'old', 'opera',\n",
       "       'orchestral', 'other', 'piano', 'podcasts', 'pop', 'popdance',\n",
       "       'popelectronic', 'popeurodance', 'poprussian', 'post',\n",
       "       'posthardcore', 'postrock', 'power', 'progmetal', 'progressive',\n",
       "       'psychedelic', 'punjabi', 'punk', 'quebecois', 'ragga', 'ram',\n",
       "       'rancheras', 'rap', 'rave', 'reggae', 'reggaeton', 'regional',\n",
       "       'relax', 'religious', 'retro', 'rhythm', 'rnb', 'rnr', 'rock',\n",
       "       'rockabilly', 'rockalternative', 'rockindie', 'rockother',\n",
       "       'romance', 'roots', 'ruspop', 'rusrap', 'rusrock', 'russian',\n",
       "       'salsa', 'samba', 'scenic', 'schlager', 'self', 'sertanejo',\n",
       "       'shanson', 'shoegazing', 'showtunes', 'singer', 'ska', 'skarock',\n",
       "       'slow', 'smooth', 'soft', 'soul', 'soulful', 'sound', 'soundtrack',\n",
       "       'southern', 'specialty', 'speech', 'spiritual', 'sport',\n",
       "       'stonerrock', 'surf', 'swing', 'synthpop', 'synthrock',\n",
       "       'sängerportrait', 'tango', 'tanzorchester', 'taraftar', 'tatar',\n",
       "       'tech', 'techno', 'teen', 'thrash', 'top', 'traditional',\n",
       "       'tradjazz', 'trance', 'tribal', 'trip', 'triphop', 'tropical',\n",
       "       'türk', 'türkçe', 'ukrrock', 'unknown', 'urban', 'uzbek',\n",
       "       'variété', 'vi', 'videogame', 'vocal', 'western', 'world',\n",
       "       'worldbeat', 'ïîï', 'электроника'], dtype=object)"
      ]
     },
     "execution_count": 43,
     "metadata": {},
     "output_type": "execute_result"
    }
   ],
   "source": [
    "df_0 =  df['genre'].sort_values()\n",
    "\n",
    "df_1 = (df_0.unique())\n",
    "df_1"
   ]
  },
  {
   "cell_type": "markdown",
   "metadata": {
    "deletable": false,
    "editable": false,
    "id": "qej-Qmuo_Zct",
    "tags": [
     "start_task"
    ]
   },
   "source": [
    "**Задание 16**\n",
    "\n",
    "Просмотрите список и найдите неявные дубликаты названия `hiphop`. Это могут быть названия с ошибками или альтернативные названия того же жанра.\n",
    "\n",
    "Вы увидите следующие неявные дубликаты:\n",
    "* *hip*,\n",
    "* *hop*,\n",
    "* *hip-hop*.\n",
    "\n",
    "Чтобы очистить от них таблицу используйте метод `replace()` с двумя аргументами: списком строк-дубликатов (включащий *hip*, *hop* и *hip-hop*) и строкой с правильным значением. Вам нужно исправить колонку `genre` в таблице `df`: заменить каждое значение из списка дубликатов на верное. Вместо `hip`, `hop` и `hip-hop` в таблице должно быть значение `hiphop`:"
   ]
  },
  {
   "cell_type": "code",
   "execution_count": 44,
   "metadata": {
    "deletable": false,
    "id": "ErNDkmns_Zct"
   },
   "outputs": [],
   "source": [
    "duplicates = ['hip', 'hop', 'hip-hop']\n",
    "name = 'hiphop'\n",
    "df['genre'] = df['genre'].replace(duplicates, name)"
   ]
  },
  {
   "cell_type": "markdown",
   "metadata": {
    "deletable": false,
    "editable": false,
    "id": "zQKF16_RG15m",
    "tags": [
     "start_task"
    ]
   },
   "source": [
    "**Задание 17**\n",
    "\n",
    "Проверьте, что заменили неправильные названия:\n",
    "\n",
    "*   hip,\n",
    "*   hop,\n",
    "*   hip-hop.\n",
    "\n",
    "Выведите отсортированный список уникальных значений столбца `genre`:"
   ]
  },
  {
   "cell_type": "code",
   "execution_count": 45,
   "metadata": {
    "deletable": false,
    "id": "wvixALnFG15m"
   },
   "outputs": [
    {
     "data": {
      "text/plain": [
       "array(['acid', 'acoustic', 'action', 'adult', 'africa', 'afrikaans',\n",
       "       'alternative', 'alternativepunk', 'ambient', 'americana',\n",
       "       'animated', 'anime', 'arabesk', 'arabic', 'arena',\n",
       "       'argentinetango', 'art', 'audiobook', 'author', 'avantgarde',\n",
       "       'axé', 'baile', 'balkan', 'beats', 'bigroom', 'black', 'bluegrass',\n",
       "       'blues', 'bollywood', 'bossa', 'brazilian', 'breakbeat', 'breaks',\n",
       "       'broadway', 'cantautori', 'cantopop', 'canzone', 'caribbean',\n",
       "       'caucasian', 'celtic', 'chamber', 'chanson', 'children', 'chill',\n",
       "       'chinese', 'choral', 'christian', 'christmas', 'classical',\n",
       "       'classicmetal', 'club', 'colombian', 'comedy', 'conjazz',\n",
       "       'contemporary', 'country', 'cuban', 'dance', 'dancehall',\n",
       "       'dancepop', 'dark', 'death', 'deep', 'deutschrock', 'deutschspr',\n",
       "       'dirty', 'disco', 'dnb', 'documentary', 'downbeat', 'downtempo',\n",
       "       'drum', 'dub', 'dubstep', 'eastern', 'easy', 'electronic',\n",
       "       'electropop', 'emo', 'entehno', 'epicmetal', 'estrada', 'ethnic',\n",
       "       'eurofolk', 'european', 'experimental', 'extrememetal', 'fado',\n",
       "       'fairytail', 'film', 'fitness', 'flamenco', 'folk', 'folklore',\n",
       "       'folkmetal', 'folkrock', 'folktronica', 'forró', 'frankreich',\n",
       "       'französisch', 'french', 'funk', 'future', 'gangsta', 'garage',\n",
       "       'german', 'ghazal', 'gitarre', 'glitch', 'gospel', 'gothic',\n",
       "       'grime', 'grunge', 'gypsy', 'handsup', \"hard'n'heavy\", 'hardcore',\n",
       "       'hardstyle', 'hardtechno', 'hiphop', 'historisch', 'holiday',\n",
       "       'horror', 'house', 'hymn', 'idm', 'independent', 'indian', 'indie',\n",
       "       'indipop', 'industrial', 'inspirational', 'instrumental',\n",
       "       'international', 'irish', 'jam', 'japanese', 'jazz', 'jewish',\n",
       "       'jpop', 'jungle', 'k-pop', 'karadeniz', 'karaoke', 'kayokyoku',\n",
       "       'korean', 'laiko', 'latin', 'latino', 'leftfield', 'local',\n",
       "       'lounge', 'loungeelectronic', 'lovers', 'malaysian', 'mandopop',\n",
       "       'marschmusik', 'meditative', 'mediterranean', 'melodic', 'metal',\n",
       "       'metalcore', 'mexican', 'middle', 'minimal', 'miscellaneous',\n",
       "       'modern', 'mood', 'mpb', 'muslim', 'native', 'neoklassik', 'neue',\n",
       "       'new', 'newage', 'newwave', 'nu', 'nujazz', 'numetal', 'oceania',\n",
       "       'old', 'opera', 'orchestral', 'other', 'piano', 'podcasts', 'pop',\n",
       "       'popdance', 'popelectronic', 'popeurodance', 'poprussian', 'post',\n",
       "       'posthardcore', 'postrock', 'power', 'progmetal', 'progressive',\n",
       "       'psychedelic', 'punjabi', 'punk', 'quebecois', 'ragga', 'ram',\n",
       "       'rancheras', 'rap', 'rave', 'reggae', 'reggaeton', 'regional',\n",
       "       'relax', 'religious', 'retro', 'rhythm', 'rnb', 'rnr', 'rock',\n",
       "       'rockabilly', 'rockalternative', 'rockindie', 'rockother',\n",
       "       'romance', 'roots', 'ruspop', 'rusrap', 'rusrock', 'russian',\n",
       "       'salsa', 'samba', 'scenic', 'schlager', 'self', 'sertanejo',\n",
       "       'shanson', 'shoegazing', 'showtunes', 'singer', 'ska', 'skarock',\n",
       "       'slow', 'smooth', 'soft', 'soul', 'soulful', 'sound', 'soundtrack',\n",
       "       'southern', 'specialty', 'speech', 'spiritual', 'sport',\n",
       "       'stonerrock', 'surf', 'swing', 'synthpop', 'synthrock',\n",
       "       'sängerportrait', 'tango', 'tanzorchester', 'taraftar', 'tatar',\n",
       "       'tech', 'techno', 'teen', 'thrash', 'top', 'traditional',\n",
       "       'tradjazz', 'trance', 'tribal', 'trip', 'triphop', 'tropical',\n",
       "       'türk', 'türkçe', 'ukrrock', 'unknown', 'urban', 'uzbek',\n",
       "       'variété', 'vi', 'videogame', 'vocal', 'western', 'world',\n",
       "       'worldbeat', 'ïîï', 'электроника'], dtype=object)"
      ]
     },
     "execution_count": 45,
     "metadata": {},
     "output_type": "execute_result"
    }
   ],
   "source": [
    "df_0 =  df['genre'].sort_values()\n",
    "\n",
    "df_1 = (df_0.unique())\n",
    "df_1# Проверка на неявные дубликаты"
   ]
  },
  {
   "cell_type": "markdown",
   "metadata": {
    "deletable": false,
    "editable": false,
    "id": "jz6a9-7HQUDd"
   },
   "source": [
    "**Выводы**\n",
    "\n",
    "Предобработка обнаружила три проблемы в данных:\n",
    "\n",
    "- нарушения в стиле заголовков,\n",
    "- пропущенные значения,\n",
    "- дубликаты — явные и неявные.\n",
    "\n",
    "Вы исправили заголовки, чтобы упростить работу с таблицей. Без дубликатов исследование станет более точным.\n",
    "\n",
    "Пропущенные значения вы заменили на `'unknown'`. Ещё предстоит увидеть, не повредят ли исследованию пропуски в колонке `genre`.\n",
    "\n",
    "Теперь можно перейти к проверке гипотез. "
   ]
  },
  {
   "cell_type": "markdown",
   "metadata": {
    "deletable": false,
    "editable": false,
    "id": "WttZHXH0SqKk"
   },
   "source": [
    "## Проверка гипотез"
   ]
  },
  {
   "cell_type": "markdown",
   "metadata": {
    "deletable": false,
    "editable": false,
    "id": "Im936VVi_Zcu"
   },
   "source": [
    "### Сравнение поведения пользователей двух столиц"
   ]
  },
  {
   "cell_type": "markdown",
   "metadata": {
    "deletable": false,
    "editable": false,
    "id": "nwt_MuaL_Zcu"
   },
   "source": [
    "Первая гипотеза утверждает, что пользователи по-разному слушают музыку в Москве и Санкт-Петербурге. Проверьте это предположение по данным о трёх днях недели — понедельнике, среде и пятнице. Для этого:\n",
    "\n",
    "* Разделите пользователей Москвы и Санкт-Петербурга.\n",
    "* Сравните, сколько треков послушала каждая группа пользователей в понедельник, среду и пятницу.\n"
   ]
  },
  {
   "cell_type": "markdown",
   "metadata": {
    "deletable": false,
    "editable": false,
    "id": "8Dw_YMmT_Zcu",
    "tags": [
     "start_task"
    ]
   },
   "source": [
    "**Задание 18**\n",
    "\n",
    "Для тренировки сначала выполните каждый из расчётов по отдельности. \n",
    "\n",
    "Оцените активность пользователей в каждом городе. Сгруппируйте данные по городу и посчитайте прослушивания в каждой группе.\n",
    "\n"
   ]
  },
  {
   "cell_type": "code",
   "execution_count": 46,
   "metadata": {
    "deletable": false,
    "id": "0_Qs96oh_Zcu"
   },
   "outputs": [
    {
     "data": {
      "text/plain": [
       "city\n",
       "Moscow              42741\n",
       "Saint-Petersburg    18512\n",
       "Name: user_id, dtype: int64"
      ]
     },
     "execution_count": 46,
     "metadata": {},
     "output_type": "execute_result"
    }
   ],
   "source": [
    "track_grouping = df.groupby('city')['user_id']\n",
    "track_counting = df.groupby('city')['user_id'].count()\n",
    "\n",
    "track_counting "
   ]
  },
  {
   "cell_type": "code",
   "execution_count": null,
   "metadata": {},
   "outputs": [],
   "source": []
  },
  {
   "cell_type": "markdown",
   "metadata": {
    "deletable": false,
    "editable": false,
    "id": "dzli3w8o_Zcu",
    "tags": [
     "start_task"
    ]
   },
   "source": [
    "В Москве прослушиваний больше, чем в Петербурге. Из этого не следует, что московские пользователи чаще слушают музыку. Просто самих пользователей в Москве больше.\n",
    "\n",
    "**Задание 19**\n",
    "\n",
    "Теперь сгруппируйте данные по дню недели и посчитайте прослушивания в понедельник, среду и пятницу. Учтите, что в данных есть информация о прослушиваниях только за эти дни.\n"
   ]
  },
  {
   "cell_type": "code",
   "execution_count": 47,
   "metadata": {
    "deletable": false,
    "id": "uZMKjiJz_Zcu"
   },
   "outputs": [
    {
     "data": {
      "text/plain": [
       "day\n",
       "Friday       21840\n",
       "Monday       21354\n",
       "Wednesday    18059\n",
       "Name: user_id, dtype: int64"
      ]
     },
     "execution_count": 47,
     "metadata": {},
     "output_type": "execute_result"
    }
   ],
   "source": [
    "track_grouping_0 = df.groupby('day')['user_id']\n",
    "track_counting_0 = df.groupby('day')['user_id'].count()\n",
    "\n",
    "track_counting_0 # Подсчёт прослушиваний в каждый из трёх дней"
   ]
  },
  {
   "cell_type": "markdown",
   "metadata": {
    "deletable": false,
    "editable": false,
    "id": "cC2tNrlL_Zcu"
   },
   "source": [
    "В среднем пользователи из двух городов менее активны по средам. Но картина может измениться, если рассмотреть каждый город в отдельности."
   ]
  },
  {
   "cell_type": "markdown",
   "metadata": {
    "deletable": false,
    "editable": false,
    "id": "POzs8bGa_Zcu",
    "tags": [
     "start_task"
    ]
   },
   "source": [
    "**Задание 20**\n",
    "\n",
    "\n",
    "Вы видели, как работает группировка по городу и по дням недели. Теперь напишите функцию, которая объединит два эти расчёта.\n",
    "\n",
    "Создайте функцию `number_tracks()`, которая посчитает прослушивания для заданного дня и города. Ей понадобятся два параметра:\n",
    "* день недели,\n",
    "* название города.\n",
    "\n",
    "В функции сохраните в переменную строки исходной таблицы, у которых значение:\n",
    "  * в колонке `day` равно параметру `day`,\n",
    "  * в колонке `city` равно параметру `city`.\n",
    "\n",
    "Для этого примените последовательную фильтрацию с логической индексацией (или сложные логические выражения в одну строку, если вы уже знакомы с ними).\n",
    "\n",
    "Затем посчитайте значения в столбце `user_id` получившейся таблицы. Результат сохраните в новую переменную. Верните эту переменную из функции."
   ]
  },
  {
   "cell_type": "code",
   "execution_count": 48,
   "metadata": {
    "deletable": false,
    "id": "Nz3GdQB1_Zcu"
   },
   "outputs": [
    {
     "data": {
      "text/plain": [
       "15740"
      ]
     },
     "execution_count": 48,
     "metadata": {},
     "output_type": "execute_result"
    }
   ],
   "source": [
    "def number_tracks (day,city):\n",
    "    track_list = df[(df['day'] == day) & (df['city'] == city)]\n",
    "    track_list_count = track_list['user_id'].count()\n",
    "    return track_list_count\n",
    "number_tracks('Monday','Moscow')   \n",
    "    \n",
    "# <создание функции number_tracks()>\n",
    "# Объявляется функция с двумя параметрами: day, city.\n",
    "# В переменной track_list сохраняются те строки таблицы df, для которых \n",
    "# значение в столбце 'day' равно параметру day и одновременно значение\n",
    "# в столбце 'city' равно параметру city (используйте последовательную фильтрацию\n",
    "# с помощью логической индексации или сложные логические выражения в одну строку, если вы уже знакомы с ними).\n",
    "# В переменной track_list_count сохраняется число значений столбца 'user_id',\n",
    "# рассчитанное методом count() для таблицы track_list.\n",
    "# Функция возвращает число - значение track_list_count.\n",
    "\n",
    "# Функция для подсчёта прослушиваний для конкретного города и дня.\n",
    "# С помощью последовательной фильтрации с логической индексацией она \n",
    "# сначала получит из исходной таблицы строки с нужным днём,\n",
    "# затем из результата отфильтрует строки с нужным городом,\n",
    "# методом count() посчитает количество значений в колонке user_id. \n",
    "# Это количество функция вернёт в качестве результата"
   ]
  },
  {
   "cell_type": "markdown",
   "metadata": {
    "deletable": false,
    "editable": false,
    "id": "ytf7xFrFJQ2r",
    "tags": [
     "start_task"
    ]
   },
   "source": [
    "**Задание 21**\n",
    "\n",
    "Вызовите `number_tracks()` шесть раз, меняя значение параметров — так, чтобы получить данные для каждого города в каждый из трёх дней."
   ]
  },
  {
   "cell_type": "code",
   "execution_count": 49,
   "metadata": {
    "deletable": false,
    "id": "rJcRATNQ_Zcu"
   },
   "outputs": [
    {
     "data": {
      "text/plain": [
       "15740"
      ]
     },
     "execution_count": 49,
     "metadata": {},
     "output_type": "execute_result"
    }
   ],
   "source": [
    "number_tracks('Monday','Moscow')  # количество прослушиваний в Москве по понедельникам"
   ]
  },
  {
   "cell_type": "code",
   "execution_count": 50,
   "metadata": {
    "deletable": false,
    "id": "hq_ncZ5T_Zcu"
   },
   "outputs": [
    {
     "data": {
      "text/plain": [
       "5614"
      ]
     },
     "execution_count": 50,
     "metadata": {},
     "output_type": "execute_result"
    }
   ],
   "source": [
    "number_tracks('Monday','Saint-Petersburg')  # количество прослушиваний в Санкт-Петербурге по понедельникам"
   ]
  },
  {
   "cell_type": "code",
   "execution_count": 51,
   "metadata": {
    "deletable": false,
    "id": "_NTy2VPU_Zcu"
   },
   "outputs": [
    {
     "data": {
      "text/plain": [
       "11056"
      ]
     },
     "execution_count": 51,
     "metadata": {},
     "output_type": "execute_result"
    }
   ],
   "source": [
    "number_tracks('Wednesday','Moscow')  # количество прослушиваний в Москве по средам"
   ]
  },
  {
   "cell_type": "code",
   "execution_count": 52,
   "metadata": {
    "deletable": false,
    "id": "j2y3TAwo_Zcu"
   },
   "outputs": [
    {
     "data": {
      "text/plain": [
       "7003"
      ]
     },
     "execution_count": 52,
     "metadata": {},
     "output_type": "execute_result"
    }
   ],
   "source": [
    "number_tracks('Wednesday','Saint-Petersburg')  # количество прослушиваний в Санкт-Петербурге по средам"
   ]
  },
  {
   "cell_type": "code",
   "execution_count": 53,
   "metadata": {
    "deletable": false,
    "id": "vYDw5u_K_Zcu"
   },
   "outputs": [
    {
     "data": {
      "text/plain": [
       "15945"
      ]
     },
     "execution_count": 53,
     "metadata": {},
     "output_type": "execute_result"
    }
   ],
   "source": [
    "number_tracks('Friday','Moscow')  # количество прослушиваний в Москве по пятницам"
   ]
  },
  {
   "cell_type": "code",
   "execution_count": 54,
   "metadata": {
    "deletable": false,
    "id": "8_yzFtW3_Zcu"
   },
   "outputs": [
    {
     "data": {
      "text/plain": [
       "5895"
      ]
     },
     "execution_count": 54,
     "metadata": {},
     "output_type": "execute_result"
    }
   ],
   "source": [
    "number_tracks('Friday','Saint-Petersburg')  # количество прослушиваний в Санкт-Петербурге по пятницам"
   ]
  },
  {
   "cell_type": "markdown",
   "metadata": {
    "deletable": false,
    "editable": false,
    "id": "7QXffbO-_Zcu",
    "tags": [
     "start_task"
    ]
   },
   "source": [
    "**Задание 22**\n",
    "\n",
    "Создайте c помощью конструктора `pd.DataFrame` таблицу, где\n",
    "* названия колонок — `['city', 'monday', 'wednesday', 'friday']`;\n",
    "* данные — результаты, которые вы получили с помощью `number_tracks`."
   ]
  },
  {
   "cell_type": "code",
   "execution_count": 62,
   "metadata": {
    "deletable": false,
    "id": "APAcLpOr_Zcu"
   },
   "outputs": [
    {
     "data": {
      "text/html": [
       "<div>\n",
       "<style scoped>\n",
       "    .dataframe tbody tr th:only-of-type {\n",
       "        vertical-align: middle;\n",
       "    }\n",
       "\n",
       "    .dataframe tbody tr th {\n",
       "        vertical-align: top;\n",
       "    }\n",
       "\n",
       "    .dataframe thead th {\n",
       "        text-align: right;\n",
       "    }\n",
       "</style>\n",
       "<table border=\"1\" class=\"dataframe\">\n",
       "  <thead>\n",
       "    <tr style=\"text-align: right;\">\n",
       "      <th></th>\n",
       "      <th>city</th>\n",
       "      <th>monday</th>\n",
       "      <th>wednesday</th>\n",
       "      <th>friday</th>\n",
       "    </tr>\n",
       "  </thead>\n",
       "  <tbody>\n",
       "    <tr>\n",
       "      <th>0</th>\n",
       "      <td>МСК</td>\n",
       "      <td>15740</td>\n",
       "      <td>11056</td>\n",
       "      <td>15945</td>\n",
       "    </tr>\n",
       "    <tr>\n",
       "      <th>1</th>\n",
       "      <td>СПБ</td>\n",
       "      <td>5614</td>\n",
       "      <td>7003</td>\n",
       "      <td>5895</td>\n",
       "    </tr>\n",
       "  </tbody>\n",
       "</table>\n",
       "</div>"
      ],
      "text/plain": [
       "  city monday wednesday friday\n",
       "0  МСК  15740     11056  15945\n",
       "1  СПБ   5614      7003   5895"
      ]
     },
     "execution_count": 62,
     "metadata": {},
     "output_type": "execute_result"
    }
   ],
   "source": [
    "info = pd.DataFrame(data=[['МСК','15740','11056','15945'],['СПБ','5614','7003','5895']], columns=['city', 'monday', 'wednesday', 'friday'])# Таблица с результатами\n",
    "info "
   ]
  },
  {
   "cell_type": "markdown",
   "metadata": {
    "deletable": false,
    "editable": false,
    "id": "-EgPIHYu_Zcu"
   },
   "source": [
    "**Выводы**\n",
    "\n",
    "Данные показывают разницу поведения пользователей:\n",
    "\n",
    "- В Москве пик прослушиваний приходится на понедельник и пятницу, а в среду заметен спад.\n",
    "- В Петербурге, наоборот, больше слушают музыку по средам. Активность в понедельник и пятницу здесь почти в равной мере уступает среде.\n",
    "\n",
    "Значит, данные говорят в пользу первой гипотезы."
   ]
  },
  {
   "cell_type": "markdown",
   "metadata": {
    "deletable": false,
    "editable": false,
    "id": "atZAxtq4_Zcu"
   },
   "source": [
    "### Музыка в начале и в конце недели"
   ]
  },
  {
   "cell_type": "markdown",
   "metadata": {
    "deletable": false,
    "editable": false,
    "id": "eXrQqXFH_Zcu"
   },
   "source": [
    "Согласно второй гипотезе, утром в понедельник в Москве преобладают одни жанры, а в Петербурге — другие. Так же и вечером пятницы преобладают разные жанры — в зависимости от города."
   ]
  },
  {
   "cell_type": "markdown",
   "metadata": {
    "deletable": false,
    "editable": false,
    "id": "S8UcW6Hw_Zcu",
    "tags": [
     "start_task"
    ]
   },
   "source": [
    "**Задание 23**\n",
    "\n",
    "Сохраните таблицы с данными в две переменные:\n",
    "* по Москве — в `moscow_general`;\n",
    "* по Санкт-Петербургу — в `spb_general`."
   ]
  },
  {
   "cell_type": "code",
   "execution_count": 82,
   "metadata": {
    "deletable": false,
    "id": "qeaFfM_P_Zcu"
   },
   "outputs": [],
   "source": [
    "moscow_general = df[df['city'] == 'Moscow']# получение таблицы moscow_general из тех строк таблицы df, \n",
    "# для которых значение в столбце 'city' равно 'Moscow'\n"
   ]
  },
  {
   "cell_type": "code",
   "execution_count": 83,
   "metadata": {
    "deletable": false,
    "id": "ORaVRKto_Zcu"
   },
   "outputs": [],
   "source": [
    "spb_general = df[df['city'] == 'Saint-Petersburg']# получение таблицы spb_general из тех строк таблицы df,\n",
    "# для которых значение в столбце 'city' равно 'Saint-Petersburg'\n"
   ]
  },
  {
   "cell_type": "markdown",
   "metadata": {
    "deletable": false,
    "editable": false,
    "id": "MEJV-CX2_Zcu",
    "tags": [
     "start_task"
    ]
   },
   "source": [
    "**Задание 24**\n",
    "\n",
    "Создайте функцию `genre_weekday()` с четырьмя параметрами:\n",
    "* таблица (датафрейм) с данными,\n",
    "* день недели,\n",
    "* начальная временная метка в формате 'hh:mm', \n",
    "* последняя временная метка в формате 'hh:mm'.\n",
    "\n",
    "Функция должна вернуть информацию о топ-10 жанров тех треков, которые прослушивали в указанный день, в промежутке между двумя отметками времени."
   ]
  },
  {
   "cell_type": "code",
   "execution_count": 67,
   "metadata": {
    "deletable": false,
    "id": "laJT9BYl_Zcu"
   },
   "outputs": [],
   "source": [
    "# Объявление функции genre_weekday() с параметрами table, day, time1, time2,\n",
    "# которая возвращает информацию о самых популярных жанрах в указанный день в\n",
    "# заданное время:\n",
    "# 1) в переменную genre_df сохраняются те строки переданного датафрейма table, для\n",
    "#    которых одновременно:\n",
    "#    - значение в столбце day равно значению аргумента day\n",
    "#    - значение в столбце time больше значения аргумента time1\n",
    "#    - значение в столбце time меньше значения аргумента time2\n",
    "#    Используйте последовательную фильтрацию с помощью логической индексации.\n",
    "# 2) сгруппировать датафрейм genre_df по столбцу genre, взять один из его\n",
    "#    столбцов и посчитать методом count() количество записей для каждого из\n",
    "#    присутствующих жанров, получившийся Series записать в переменную\n",
    "#    genre_df_count\n",
    "# 3) отсортировать genre_df_count по убыванию встречаемости и сохранить\n",
    "#    в переменную genre_df_sorted\n",
    "# 4) вернуть Series из 10 первых значений genre_df_sorted, это будут топ-10\n",
    "#    популярных жанров (в указанный день, в заданное время)\n",
    "\n",
    "def genre_weekday(df, day, time1, time2):\n",
    "    # последовательная фильтрация\n",
    "    # оставляем в genre_df только те строки df, у которых день равен day\n",
    "    genre_df = df[df['day'] == day]# ваш код здесь\n",
    "    # оставляем в genre_df только те строки genre_df, у которых время меньше time2\n",
    "    genre_df = genre_df[genre_df['time'] < time2] #ваш код здесь\n",
    "    # оставляем в genre_df только те строки genre_df, у которых время больше time1\n",
    "    genre_df = genre_df[genre_df['time'] > time1]# ваш код здесь\n",
    "    # сгруппируем отфильтрованный датафрейм по столбцу с названиями жанров, возьмём столбец genre и посчитаем кол-во строк для каждого жанра методом count()\n",
    "    genre_df_grouped = genre_df.groupby('genre')['genre'].count()# ваш код здесь\n",
    "    # отсортируем результат по убыванию (чтобы в начале Series оказались самые популярные жанры)\n",
    "    genre_df_sorted = genre_df_grouped.sort_values(ascending=False) # ваш код здесь\n",
    "    # вернём Series с 10 самыми популярными жанрами в указанный отрезок времени заданного дня\n",
    "    return genre_df_sorted[:10]"
   ]
  },
  {
   "cell_type": "markdown",
   "metadata": {
    "deletable": false,
    "editable": false,
    "id": "la2s2_PF_Zcu",
    "tags": [
     "start_task"
    ]
   },
   "source": [
    "**Задание 25**\n",
    "\n",
    "\n",
    "Cравните результаты функции `genre_weekday()` для Москвы и Санкт-Петербурга в понедельник утром (с 7:00 до 11:00) и в пятницу вечером (с 17:00 до 23:00):"
   ]
  },
  {
   "cell_type": "code",
   "execution_count": 88,
   "metadata": {
    "deletable": false,
    "id": "yz7itPUQ_Zcu"
   },
   "outputs": [
    {
     "data": {
      "text/plain": [
       "genre\n",
       "pop            781\n",
       "dance          549\n",
       "electronic     480\n",
       "rock           474\n",
       "hiphop         286\n",
       "ruspop         186\n",
       "world          181\n",
       "rusrap         175\n",
       "alternative    164\n",
       "unknown        161\n",
       "Name: genre, dtype: int64"
      ]
     },
     "execution_count": 88,
     "metadata": {},
     "output_type": "execute_result"
    }
   ],
   "source": [
    "genre_weekday(moscow_general, 'Monday', '07:00','11:00')\n",
    "# вызов функции для утра понедельника в Москве (вместо df — таблица moscow_general)\n",
    "# объекты, хранящие время, являются строками и сравниваются как строки\n",
    "# пример вызова: genre_weekday(moscow_general, 'Monday', '07:00', '11:00')"
   ]
  },
  {
   "cell_type": "code",
   "execution_count": 80,
   "metadata": {
    "deletable": false,
    "id": "kwUcHPdy_Zcu"
   },
   "outputs": [
    {
     "data": {
      "text/plain": [
       "genre\n",
       "pop            218\n",
       "dance          182\n",
       "rock           162\n",
       "electronic     147\n",
       "hiphop          80\n",
       "ruspop          64\n",
       "alternative     58\n",
       "rusrap          55\n",
       "jazz            44\n",
       "classical       40\n",
       "Name: genre, dtype: int64"
      ]
     },
     "execution_count": 80,
     "metadata": {},
     "output_type": "execute_result"
    }
   ],
   "source": [
    "genre_weekday(spb_general, 'Monday', '07:00','11:00')# вызов функции для утра понедельника в Петербурге (вместо df — таблица spb_general)"
   ]
  },
  {
   "cell_type": "code",
   "execution_count": 87,
   "metadata": {
    "deletable": false,
    "id": "EzXVRE1o_Zcu"
   },
   "outputs": [
    {
     "data": {
      "text/plain": [
       "genre\n",
       "pop            713\n",
       "rock           517\n",
       "dance          495\n",
       "electronic     482\n",
       "hiphop         273\n",
       "world          208\n",
       "ruspop         170\n",
       "alternative    163\n",
       "classical      163\n",
       "rusrap         142\n",
       "Name: genre, dtype: int64"
      ]
     },
     "execution_count": 87,
     "metadata": {},
     "output_type": "execute_result"
    }
   ],
   "source": [
    "genre_weekday(moscow_general, 'Friday', '17:00','23:00')# вызов функции для вечера пятницы в Москве"
   ]
  },
  {
   "cell_type": "code",
   "execution_count": 85,
   "metadata": {
    "deletable": false,
    "id": "JZaEKu5v_Zcu"
   },
   "outputs": [
    {
     "data": {
      "text/plain": [
       "genre\n",
       "pop            256\n",
       "electronic     216\n",
       "rock           216\n",
       "dance          210\n",
       "hiphop          97\n",
       "alternative     63\n",
       "jazz            61\n",
       "classical       60\n",
       "rusrap          59\n",
       "world           54\n",
       "Name: genre, dtype: int64"
      ]
     },
     "execution_count": 85,
     "metadata": {},
     "output_type": "execute_result"
    }
   ],
   "source": [
    "genre_weekday(spb_general, 'Friday', '17:00','23:00')# вызов функции для вечера пятницы в Петербурге"
   ]
  },
  {
   "cell_type": "markdown",
   "metadata": {
    "deletable": false,
    "editable": false,
    "id": "wrCe4MNX_Zcu"
   },
   "source": [
    "**Выводы**\n",
    "\n",
    "Если сравнить топ-10 жанров в понедельник утром, можно сделать такие выводы:\n",
    "\n",
    "1. В Москве и Петербурге слушают похожую музыку. Единственное отличие — в московский рейтинг вошёл жанр “world”, а в петербургский — джаз и классика.\n",
    "\n",
    "2. В Москве пропущенных значений оказалось так много, что значение `'unknown'` заняло десятое место среди самых популярных жанров. Значит, пропущенные значения занимают существенную долю в данных и угрожают достоверности исследования.\n",
    "\n",
    "Вечер пятницы не меняет эту картину. Некоторые жанры поднимаются немного выше, другие спускаются, но в целом топ-10 остаётся тем же самым.\n",
    "\n",
    "Таким образом, вторая гипотеза подтвердилась лишь частично:\n",
    "* Пользователи слушают похожую музыку в начале недели и в конце.\n",
    "* Разница между Москвой и Петербургом не слишком выражена. В Москве чаще слушают русскую популярную музыку, в Петербурге — джаз.\n",
    "\n",
    "Однако пропуски в данных ставят под сомнение этот результат. В Москве их так много, что рейтинг топ-10 мог бы выглядеть иначе, если бы не утерянные  данные о жанрах."
   ]
  },
  {
   "cell_type": "markdown",
   "metadata": {
    "deletable": false,
    "editable": false,
    "id": "JolODAqr_Zcu"
   },
   "source": [
    "### Жанровые предпочтения в Москве и Петербурге\n",
    "\n",
    "Гипотеза: Петербург — столица рэпа, музыку этого жанра там слушают чаще, чем в Москве.  А Москва — город контрастов, в котором, тем не менее, преобладает поп-музыка."
   ]
  },
  {
   "cell_type": "markdown",
   "metadata": {
    "deletable": false,
    "editable": false,
    "id": "DlegSvaT_Zcu",
    "tags": [
     "start_task"
    ]
   },
   "source": [
    "**Задание 26**\n",
    "\n",
    "Сгруппируйте таблицу `moscow_general` по жанру и посчитайте прослушивания треков каждого жанра методом `count()`. Затем отсортируйте результат в порядке убывания и сохраните его в таблице `moscow_genres`."
   ]
  },
  {
   "cell_type": "code",
   "execution_count": 67,
   "metadata": {
    "deletable": false,
    "id": "r19lIPke_Zcu"
   },
   "outputs": [
    {
     "data": {
      "text/plain": [
       "genre\n",
       "pop            5892\n",
       "dance          4435\n",
       "rock           3965\n",
       "electronic     3786\n",
       "hiphop         2096\n",
       "               ... \n",
       "neoklassik        1\n",
       "mood              1\n",
       "metalcore         1\n",
       "marschmusik       1\n",
       "ïîï               1\n",
       "Name: genre, Length: 267, dtype: int64"
      ]
     },
     "execution_count": 67,
     "metadata": {},
     "output_type": "execute_result"
    }
   ],
   "source": [
    "\n",
    "moscow_genres = moscow_general.groupby('genre')['genre']\n",
    "moscow_genres = moscow_general.groupby('genre')['genre'].count()\n",
    "moscow_genres =  moscow_genres.sort_values(ascending=False)\n",
    "moscow_genres\n",
    "# одной строкой: группировка таблицы moscow_general по столбцу 'genre', \n",
    "# подсчёт числа значений 'genre' в этой группировке методом count(), \n",
    "# сортировка получившегося Series в порядке убывания и сохранение в moscow_genres"
   ]
  },
  {
   "cell_type": "markdown",
   "metadata": {
    "deletable": false,
    "editable": false,
    "id": "6kMuomxTiIr8",
    "tags": [
     "start_task"
    ]
   },
   "source": [
    "**Задание 27**\n",
    "\n",
    "Выведите на экран первые десять строк `moscow_genres`:"
   ]
  },
  {
   "cell_type": "code",
   "execution_count": 68,
   "metadata": {
    "deletable": false,
    "id": "WhCSooF8_Zcv"
   },
   "outputs": [
    {
     "data": {
      "text/plain": [
       "genre\n",
       "pop            5892\n",
       "dance          4435\n",
       "rock           3965\n",
       "electronic     3786\n",
       "hiphop         2096\n",
       "classical      1616\n",
       "world          1432\n",
       "alternative    1379\n",
       "ruspop         1372\n",
       "rusrap         1161\n",
       "Name: genre, dtype: int64"
      ]
     },
     "execution_count": 68,
     "metadata": {},
     "output_type": "execute_result"
    }
   ],
   "source": [
    "moscow_genres.head(10)# просмотр первых 10 строк moscow_genres"
   ]
  },
  {
   "cell_type": "markdown",
   "metadata": {
    "deletable": false,
    "editable": false,
    "id": "cnPG2vnN_Zcv",
    "tags": [
     "start_task"
    ]
   },
   "source": [
    "**Задание 28**\n",
    "\n",
    "\n",
    "Теперь повторите то же и для Петербурга.\n",
    "\n",
    "Сгруппируйте таблицу `spb_general` по жанру. Посчитайте прослушивания треков каждого жанра. Результат отсортируйте в порядке убывания и сохраните в таблице `spb_genres`:\n"
   ]
  },
  {
   "cell_type": "code",
   "execution_count": 69,
   "metadata": {
    "deletable": false,
    "id": "gluLIpE7_Zcv"
   },
   "outputs": [
    {
     "data": {
      "text/plain": [
       "genre\n",
       "pop              2431\n",
       "dance            1932\n",
       "rock             1879\n",
       "electronic       1736\n",
       "hiphop            960\n",
       "                 ... \n",
       "international       1\n",
       "independent         1\n",
       "idm                 1\n",
       "gypsy               1\n",
       "электроника         1\n",
       "Name: genre, Length: 211, dtype: int64"
      ]
     },
     "execution_count": 69,
     "metadata": {},
     "output_type": "execute_result"
    }
   ],
   "source": [
    "spb_genres = spb_general.groupby('genre')['genre']\n",
    "spb_genres = spb_general.groupby('genre')['genre'].count()\n",
    "spb_genres = spb_genres.sort_values(ascending=False)\n",
    "spb_genres\n",
    "\n",
    "# одной строкой: группировка таблицы spb_general по столбцу 'genre', \n",
    "# подсчёт числа значений 'genre' в этой группировке методом count(), \n",
    "# сортировка получившегося Series в порядке убывания и сохранение в spb_genres"
   ]
  },
  {
   "cell_type": "markdown",
   "metadata": {
    "deletable": false,
    "editable": false,
    "id": "5Doha_ODgyQ8",
    "tags": [
     "start_task"
    ]
   },
   "source": [
    "**Задание 29**\n",
    "\n",
    "Выведите на экран первые десять строк `spb_genres`:"
   ]
  },
  {
   "cell_type": "code",
   "execution_count": 70,
   "metadata": {
    "deletable": false,
    "id": "uaGJHjVU_Zcv"
   },
   "outputs": [
    {
     "data": {
      "text/plain": [
       "genre\n",
       "pop            2431\n",
       "dance          1932\n",
       "rock           1879\n",
       "electronic     1736\n",
       "hiphop          960\n",
       "alternative     649\n",
       "classical       646\n",
       "rusrap          564\n",
       "ruspop          538\n",
       "world           515\n",
       "Name: genre, dtype: int64"
      ]
     },
     "execution_count": 70,
     "metadata": {},
     "output_type": "execute_result"
    }
   ],
   "source": [
    "spb_genres.head(10)# просмотр первых 10 строк spb_genres"
   ]
  },
  {
   "cell_type": "markdown",
   "metadata": {
    "deletable": false,
    "editable": false,
    "id": "RY51YJYu_Zcv"
   },
   "source": [
    "**Выводы**"
   ]
  },
  {
   "cell_type": "markdown",
   "metadata": {
    "deletable": false,
    "editable": false,
    "id": "nVhnJEm__Zcv"
   },
   "source": [
    "Гипотеза частично подтвердилась:\n",
    "* Поп-музыка — самый популярный жанр в Москве, как и предполагала гипотеза. Более того, в топ-10 жанров встречается близкий жанр — русская популярная музыка.\n",
    "* Вопреки ожиданиям, рэп одинаково популярен в Москве и Петербурге. \n"
   ]
  },
  {
   "cell_type": "markdown",
   "metadata": {
    "deletable": false,
    "editable": false,
    "id": "ykKQ0N65_Zcv"
   },
   "source": [
    "## Итоги исследования"
   ]
  },
  {
   "cell_type": "markdown",
   "metadata": {
    "deletable": false,
    "editable": false,
    "id": "tjUwbHb3_Zcv"
   },
   "source": [
    "Вы проверили три гипотезы и установили:\n",
    "\n",
    "1. День недели по-разному влияет на активность пользователей в Москве и Петербурге. \n",
    "\n",
    "Первая гипотеза полностью подтвердилась.\n",
    "\n",
    "2. Музыкальные предпочтения не сильно меняются в течение недели — будь то Москва или Петербург. Небольшие различия заметны в начале недели, по понедельникам:\n",
    "* в Москве слушают музыку жанра “world”,\n",
    "* в Петербурге — джаз и классику.\n",
    "\n",
    "Таким образом, вторая гипотеза подтвердилась лишь отчасти. Этот результат мог оказаться иным, если бы не пропуски в данных.\n",
    "\n",
    "3. Во вкусах пользователей Москвы и Петербурга больше общего чем различий. Вопреки ожиданиям, предпочтения жанров в Петербурге напоминают московские.\n",
    "\n",
    "Третья гипотеза не подтвердилась. Если различия в предпочтениях и существуют, на основной массе пользователей они незаметны.\n",
    "\n",
    "**На практике исследования содержат проверки статистических гипотез.**\n",
    "Из данных одного сервиса не всегда можно сделать вывод о всех жителях города.\n",
    "Проверки статистических гипотез покажут, насколько они достоверны, исходя из имеющихся данных. \n",
    "С методами проверок гипотез вы ещё познакомитесь в следующих темах."
   ]
  },
  {
   "cell_type": "code",
   "execution_count": null,
   "metadata": {},
   "outputs": [],
   "source": []
  }
 ],
 "metadata": {
  "ExecuteTimeLog": [
   {
    "duration": 52,
    "start_time": "2022-11-13T17:08:07.627Z"
   },
   {
    "duration": 8,
    "start_time": "2022-11-13T17:08:45.500Z"
   },
   {
    "duration": 9,
    "start_time": "2022-11-13T17:08:50.962Z"
   },
   {
    "duration": 636,
    "start_time": "2022-11-13T17:09:07.905Z"
   },
   {
    "duration": 206,
    "start_time": "2022-11-13T17:09:15.411Z"
   },
   {
    "duration": 17,
    "start_time": "2022-11-13T17:10:04.959Z"
   },
   {
    "duration": 12,
    "start_time": "2022-11-13T17:10:33.320Z"
   },
   {
    "duration": 53,
    "start_time": "2022-11-14T05:29:56.541Z"
   },
   {
    "duration": 6,
    "start_time": "2022-11-14T05:30:25.862Z"
   },
   {
    "duration": 7,
    "start_time": "2022-11-14T05:32:11.705Z"
   },
   {
    "duration": 918,
    "start_time": "2022-11-14T05:32:24.130Z"
   },
   {
    "duration": 14,
    "start_time": "2022-11-14T06:11:01.340Z"
   },
   {
    "duration": 40,
    "start_time": "2022-11-14T06:11:15.480Z"
   },
   {
    "duration": 13,
    "start_time": "2022-11-14T06:11:22.216Z"
   },
   {
    "duration": 5,
    "start_time": "2022-11-14T06:11:56.596Z"
   },
   {
    "duration": 28,
    "start_time": "2022-11-14T06:17:40.054Z"
   },
   {
    "duration": 701,
    "start_time": "2022-11-14T06:22:45.618Z"
   },
   {
    "duration": 22,
    "start_time": "2022-11-14T06:24:48.345Z"
   },
   {
    "duration": 18,
    "start_time": "2022-11-14T06:24:55.777Z"
   },
   {
    "duration": 26,
    "start_time": "2022-11-14T06:25:22.313Z"
   },
   {
    "duration": 143,
    "start_time": "2022-11-14T06:27:51.863Z"
   },
   {
    "duration": 60,
    "start_time": "2022-11-14T06:28:11.921Z"
   },
   {
    "duration": 111,
    "start_time": "2022-11-14T06:28:34.929Z"
   },
   {
    "duration": 56,
    "start_time": "2022-11-14T06:28:56.289Z"
   },
   {
    "duration": 52,
    "start_time": "2022-11-14T07:34:38.511Z"
   },
   {
    "duration": 3,
    "start_time": "2022-11-14T07:34:54.926Z"
   },
   {
    "duration": 51,
    "start_time": "2022-11-14T07:35:27.449Z"
   },
   {
    "duration": 45,
    "start_time": "2022-11-14T07:39:19.610Z"
   },
   {
    "duration": 41,
    "start_time": "2022-11-14T07:39:42.290Z"
   },
   {
    "duration": 63,
    "start_time": "2022-11-14T07:41:04.963Z"
   },
   {
    "duration": 43,
    "start_time": "2022-11-14T07:41:55.884Z"
   },
   {
    "duration": 56,
    "start_time": "2022-11-14T07:45:14.201Z"
   },
   {
    "duration": 81,
    "start_time": "2022-11-14T07:51:33.545Z"
   },
   {
    "duration": 51,
    "start_time": "2022-11-14T07:51:53.104Z"
   },
   {
    "duration": 72,
    "start_time": "2022-11-14T07:52:10.640Z"
   },
   {
    "duration": 91,
    "start_time": "2022-11-14T07:52:42.380Z"
   },
   {
    "duration": 69,
    "start_time": "2022-11-14T07:53:06.258Z"
   },
   {
    "duration": 57,
    "start_time": "2022-11-14T07:54:20.299Z"
   },
   {
    "duration": 74,
    "start_time": "2022-11-14T07:54:48.675Z"
   },
   {
    "duration": 61,
    "start_time": "2022-11-14T07:57:04.939Z"
   },
   {
    "duration": 40,
    "start_time": "2022-11-14T07:57:11.628Z"
   },
   {
    "duration": 49,
    "start_time": "2022-11-14T09:31:53.821Z"
   },
   {
    "duration": 7,
    "start_time": "2022-11-14T09:33:25.989Z"
   },
   {
    "duration": 6,
    "start_time": "2022-11-14T09:35:09.486Z"
   },
   {
    "duration": 60,
    "start_time": "2022-11-14T09:35:24.962Z"
   },
   {
    "duration": 48,
    "start_time": "2022-11-14T09:36:09.891Z"
   },
   {
    "duration": 5,
    "start_time": "2022-11-14T09:36:16.689Z"
   },
   {
    "duration": 6,
    "start_time": "2022-11-14T09:36:29.380Z"
   },
   {
    "duration": 7,
    "start_time": "2022-11-14T09:36:55.645Z"
   },
   {
    "duration": 6,
    "start_time": "2022-11-14T09:37:03.691Z"
   },
   {
    "duration": 7,
    "start_time": "2022-11-14T09:38:58.293Z"
   },
   {
    "duration": 6,
    "start_time": "2022-11-14T09:39:09.384Z"
   },
   {
    "duration": 880,
    "start_time": "2022-11-14T09:39:34.531Z"
   },
   {
    "duration": 11,
    "start_time": "2022-11-14T09:39:42.897Z"
   },
   {
    "duration": 10,
    "start_time": "2022-11-14T09:39:45.401Z"
   },
   {
    "duration": 13,
    "start_time": "2022-11-14T09:40:05.964Z"
   },
   {
    "duration": 11,
    "start_time": "2022-11-14T09:41:23.282Z"
   },
   {
    "duration": 10,
    "start_time": "2022-11-14T09:41:27.914Z"
   },
   {
    "duration": 11,
    "start_time": "2022-11-14T09:41:55.941Z"
   },
   {
    "duration": 44,
    "start_time": "2022-11-14T09:42:18.415Z"
   },
   {
    "duration": 33,
    "start_time": "2022-11-14T09:48:05.558Z"
   },
   {
    "duration": 11,
    "start_time": "2022-11-14T09:48:45.665Z"
   },
   {
    "duration": 10,
    "start_time": "2022-11-14T09:49:05.793Z"
   },
   {
    "duration": 10,
    "start_time": "2022-11-14T09:50:03.485Z"
   },
   {
    "duration": 9,
    "start_time": "2022-11-14T09:51:27.923Z"
   },
   {
    "duration": 9,
    "start_time": "2022-11-14T09:51:44.516Z"
   },
   {
    "duration": 14,
    "start_time": "2022-11-14T09:52:26.261Z"
   },
   {
    "duration": 9,
    "start_time": "2022-11-14T09:55:59.609Z"
   },
   {
    "duration": 2,
    "start_time": "2022-11-14T09:56:42.165Z"
   },
   {
    "duration": 177,
    "start_time": "2022-11-14T09:56:42.171Z"
   },
   {
    "duration": 10,
    "start_time": "2022-11-14T09:56:42.349Z"
   },
   {
    "duration": 37,
    "start_time": "2022-11-14T09:56:42.361Z"
   },
   {
    "duration": 3,
    "start_time": "2022-11-14T09:56:42.401Z"
   },
   {
    "duration": 163,
    "start_time": "2022-11-14T09:56:42.405Z"
   },
   {
    "duration": 13,
    "start_time": "2022-11-14T09:56:42.570Z"
   },
   {
    "duration": 6,
    "start_time": "2022-11-14T09:56:42.585Z"
   },
   {
    "duration": 44,
    "start_time": "2022-11-14T09:56:42.593Z"
   },
   {
    "duration": 21,
    "start_time": "2022-11-14T09:56:42.639Z"
   },
   {
    "duration": 32,
    "start_time": "2022-11-14T09:56:42.662Z"
   },
   {
    "duration": 86,
    "start_time": "2022-11-14T09:56:42.696Z"
   },
   {
    "duration": 154,
    "start_time": "2022-11-14T09:56:42.784Z"
   },
   {
    "duration": 57,
    "start_time": "2022-11-14T09:56:42.940Z"
   },
   {
    "duration": 54,
    "start_time": "2022-11-14T09:56:42.998Z"
   },
   {
    "duration": 11,
    "start_time": "2022-11-14T09:56:43.053Z"
   },
   {
    "duration": 45,
    "start_time": "2022-11-14T09:56:43.066Z"
   },
   {
    "duration": 24,
    "start_time": "2022-11-14T09:56:43.112Z"
   },
   {
    "duration": 0,
    "start_time": "2022-11-14T09:56:43.138Z"
   },
   {
    "duration": 0,
    "start_time": "2022-11-14T09:56:43.139Z"
   },
   {
    "duration": 0,
    "start_time": "2022-11-14T09:56:43.140Z"
   },
   {
    "duration": 0,
    "start_time": "2022-11-14T09:56:43.141Z"
   },
   {
    "duration": 0,
    "start_time": "2022-11-14T09:56:43.142Z"
   },
   {
    "duration": 0,
    "start_time": "2022-11-14T09:56:43.143Z"
   },
   {
    "duration": 0,
    "start_time": "2022-11-14T09:56:43.144Z"
   },
   {
    "duration": 0,
    "start_time": "2022-11-14T09:56:43.145Z"
   },
   {
    "duration": 0,
    "start_time": "2022-11-14T09:56:43.146Z"
   },
   {
    "duration": 0,
    "start_time": "2022-11-14T09:56:43.147Z"
   },
   {
    "duration": 0,
    "start_time": "2022-11-14T09:56:43.148Z"
   },
   {
    "duration": 0,
    "start_time": "2022-11-14T09:56:43.149Z"
   },
   {
    "duration": 0,
    "start_time": "2022-11-14T09:56:43.150Z"
   },
   {
    "duration": 0,
    "start_time": "2022-11-14T09:56:43.150Z"
   },
   {
    "duration": 0,
    "start_time": "2022-11-14T09:56:43.151Z"
   },
   {
    "duration": 0,
    "start_time": "2022-11-14T09:56:43.153Z"
   },
   {
    "duration": 0,
    "start_time": "2022-11-14T09:56:43.153Z"
   },
   {
    "duration": 0,
    "start_time": "2022-11-14T09:56:43.154Z"
   },
   {
    "duration": 0,
    "start_time": "2022-11-14T09:56:43.156Z"
   },
   {
    "duration": 0,
    "start_time": "2022-11-14T09:56:43.156Z"
   },
   {
    "duration": 10,
    "start_time": "2022-11-14T09:56:51.161Z"
   },
   {
    "duration": 46,
    "start_time": "2022-11-14T09:57:00.480Z"
   },
   {
    "duration": 45,
    "start_time": "2022-11-14T09:57:07.893Z"
   },
   {
    "duration": 16,
    "start_time": "2022-11-14T09:58:33.908Z"
   },
   {
    "duration": 12,
    "start_time": "2022-11-14T09:59:28.561Z"
   },
   {
    "duration": 12,
    "start_time": "2022-11-14T10:02:08.064Z"
   },
   {
    "duration": 13,
    "start_time": "2022-11-14T10:06:31.316Z"
   },
   {
    "duration": 12,
    "start_time": "2022-11-14T10:06:55.864Z"
   },
   {
    "duration": 11,
    "start_time": "2022-11-14T10:07:07.544Z"
   },
   {
    "duration": 13,
    "start_time": "2022-11-14T10:07:29.618Z"
   },
   {
    "duration": 12,
    "start_time": "2022-11-14T10:08:11.966Z"
   },
   {
    "duration": 4,
    "start_time": "2022-11-14T12:31:03.895Z"
   },
   {
    "duration": 4,
    "start_time": "2022-11-14T12:32:59.042Z"
   },
   {
    "duration": 8,
    "start_time": "2022-11-14T12:38:46.740Z"
   },
   {
    "duration": 820,
    "start_time": "2022-11-14T12:39:02.326Z"
   },
   {
    "duration": 18,
    "start_time": "2022-11-14T12:39:45.248Z"
   },
   {
    "duration": 16,
    "start_time": "2022-11-14T12:43:56.326Z"
   },
   {
    "duration": 14,
    "start_time": "2022-11-14T12:44:02.987Z"
   },
   {
    "duration": 19,
    "start_time": "2022-11-14T12:45:54.662Z"
   },
   {
    "duration": 15,
    "start_time": "2022-11-14T12:45:58.076Z"
   },
   {
    "duration": 15,
    "start_time": "2022-11-14T12:45:59.670Z"
   },
   {
    "duration": 16,
    "start_time": "2022-11-14T12:46:01.578Z"
   },
   {
    "duration": 17,
    "start_time": "2022-11-14T12:46:03.550Z"
   },
   {
    "duration": 617,
    "start_time": "2022-11-14T12:49:51.460Z"
   },
   {
    "duration": 19,
    "start_time": "2022-11-14T12:51:46.240Z"
   },
   {
    "duration": 19,
    "start_time": "2022-11-14T12:52:09.954Z"
   },
   {
    "duration": 19,
    "start_time": "2022-11-14T12:52:13.626Z"
   },
   {
    "duration": 18,
    "start_time": "2022-11-14T12:52:18.050Z"
   },
   {
    "duration": 19,
    "start_time": "2022-11-14T12:52:21.818Z"
   },
   {
    "duration": 19,
    "start_time": "2022-11-14T12:52:23.643Z"
   },
   {
    "duration": 18,
    "start_time": "2022-11-14T12:52:28.356Z"
   },
   {
    "duration": 22,
    "start_time": "2022-11-14T12:53:05.062Z"
   },
   {
    "duration": 20,
    "start_time": "2022-11-14T12:53:09.577Z"
   },
   {
    "duration": 565,
    "start_time": "2022-11-14T12:56:07.925Z"
   },
   {
    "duration": 3,
    "start_time": "2022-11-14T12:56:33.928Z"
   },
   {
    "duration": 172,
    "start_time": "2022-11-14T12:56:33.949Z"
   },
   {
    "duration": 10,
    "start_time": "2022-11-14T12:56:34.123Z"
   },
   {
    "duration": 34,
    "start_time": "2022-11-14T12:56:34.135Z"
   },
   {
    "duration": 14,
    "start_time": "2022-11-14T12:56:34.171Z"
   },
   {
    "duration": 146,
    "start_time": "2022-11-14T12:56:34.187Z"
   },
   {
    "duration": 8,
    "start_time": "2022-11-14T12:56:34.335Z"
   },
   {
    "duration": 5,
    "start_time": "2022-11-14T12:56:34.345Z"
   },
   {
    "duration": 26,
    "start_time": "2022-11-14T12:56:34.352Z"
   },
   {
    "duration": 17,
    "start_time": "2022-11-14T12:56:34.380Z"
   },
   {
    "duration": 49,
    "start_time": "2022-11-14T12:56:34.399Z"
   },
   {
    "duration": 59,
    "start_time": "2022-11-14T12:56:34.450Z"
   },
   {
    "duration": 135,
    "start_time": "2022-11-14T12:56:34.511Z"
   },
   {
    "duration": 61,
    "start_time": "2022-11-14T12:56:34.648Z"
   },
   {
    "duration": 53,
    "start_time": "2022-11-14T12:56:34.713Z"
   },
   {
    "duration": 11,
    "start_time": "2022-11-14T12:56:34.768Z"
   },
   {
    "duration": 53,
    "start_time": "2022-11-14T12:56:34.781Z"
   },
   {
    "duration": 12,
    "start_time": "2022-11-14T12:56:34.835Z"
   },
   {
    "duration": 11,
    "start_time": "2022-11-14T12:56:34.849Z"
   },
   {
    "duration": 589,
    "start_time": "2022-11-14T12:56:34.862Z"
   },
   {
    "duration": 0,
    "start_time": "2022-11-14T12:56:35.454Z"
   },
   {
    "duration": 0,
    "start_time": "2022-11-14T12:56:35.455Z"
   },
   {
    "duration": 0,
    "start_time": "2022-11-14T12:56:35.457Z"
   },
   {
    "duration": 0,
    "start_time": "2022-11-14T12:56:35.458Z"
   },
   {
    "duration": 0,
    "start_time": "2022-11-14T12:56:35.460Z"
   },
   {
    "duration": 0,
    "start_time": "2022-11-14T12:56:35.461Z"
   },
   {
    "duration": 0,
    "start_time": "2022-11-14T12:56:35.463Z"
   },
   {
    "duration": 0,
    "start_time": "2022-11-14T12:56:35.464Z"
   },
   {
    "duration": 0,
    "start_time": "2022-11-14T12:56:35.465Z"
   },
   {
    "duration": 0,
    "start_time": "2022-11-14T12:56:35.467Z"
   },
   {
    "duration": 0,
    "start_time": "2022-11-14T12:56:35.469Z"
   },
   {
    "duration": 0,
    "start_time": "2022-11-14T12:56:35.471Z"
   },
   {
    "duration": 0,
    "start_time": "2022-11-14T12:56:35.472Z"
   },
   {
    "duration": 0,
    "start_time": "2022-11-14T12:56:35.474Z"
   },
   {
    "duration": 0,
    "start_time": "2022-11-14T12:56:35.475Z"
   },
   {
    "duration": 0,
    "start_time": "2022-11-14T12:56:35.477Z"
   },
   {
    "duration": 0,
    "start_time": "2022-11-14T12:56:35.478Z"
   },
   {
    "duration": 0,
    "start_time": "2022-11-14T12:56:35.479Z"
   },
   {
    "duration": 585,
    "start_time": "2022-11-14T12:56:45.200Z"
   },
   {
    "duration": 565,
    "start_time": "2022-11-14T12:57:08.588Z"
   },
   {
    "duration": 18,
    "start_time": "2022-11-14T12:57:41.818Z"
   },
   {
    "duration": 21,
    "start_time": "2022-11-14T12:58:21.790Z"
   },
   {
    "duration": 17,
    "start_time": "2022-11-14T12:58:21.821Z"
   },
   {
    "duration": 21,
    "start_time": "2022-11-14T12:58:21.840Z"
   },
   {
    "duration": 20,
    "start_time": "2022-11-14T12:58:21.863Z"
   },
   {
    "duration": 28,
    "start_time": "2022-11-14T12:58:21.885Z"
   },
   {
    "duration": 23,
    "start_time": "2022-11-14T12:58:21.914Z"
   },
   {
    "duration": 7,
    "start_time": "2022-11-14T13:02:50.582Z"
   },
   {
    "duration": 12,
    "start_time": "2022-11-14T13:02:56.696Z"
   },
   {
    "duration": 3,
    "start_time": "2022-11-14T13:03:02.411Z"
   },
   {
    "duration": 233,
    "start_time": "2022-11-14T13:03:02.420Z"
   },
   {
    "duration": 11,
    "start_time": "2022-11-14T13:03:02.655Z"
   },
   {
    "duration": 37,
    "start_time": "2022-11-14T13:03:02.668Z"
   },
   {
    "duration": 26,
    "start_time": "2022-11-14T13:03:02.707Z"
   },
   {
    "duration": 147,
    "start_time": "2022-11-14T13:03:02.735Z"
   },
   {
    "duration": 10,
    "start_time": "2022-11-14T13:03:02.884Z"
   },
   {
    "duration": 6,
    "start_time": "2022-11-14T13:03:02.896Z"
   },
   {
    "duration": 57,
    "start_time": "2022-11-14T13:03:02.903Z"
   },
   {
    "duration": 18,
    "start_time": "2022-11-14T13:03:02.962Z"
   },
   {
    "duration": 37,
    "start_time": "2022-11-14T13:03:02.982Z"
   },
   {
    "duration": 73,
    "start_time": "2022-11-14T13:03:03.021Z"
   },
   {
    "duration": 133,
    "start_time": "2022-11-14T13:03:03.096Z"
   },
   {
    "duration": 55,
    "start_time": "2022-11-14T13:03:03.231Z"
   },
   {
    "duration": 52,
    "start_time": "2022-11-14T13:03:03.288Z"
   },
   {
    "duration": 11,
    "start_time": "2022-11-14T13:03:03.342Z"
   },
   {
    "duration": 52,
    "start_time": "2022-11-14T13:03:03.354Z"
   },
   {
    "duration": 26,
    "start_time": "2022-11-14T13:03:03.409Z"
   },
   {
    "duration": 19,
    "start_time": "2022-11-14T13:03:03.449Z"
   },
   {
    "duration": 17,
    "start_time": "2022-11-14T13:03:03.470Z"
   },
   {
    "duration": 17,
    "start_time": "2022-11-14T13:03:03.489Z"
   },
   {
    "duration": 31,
    "start_time": "2022-11-14T13:03:03.507Z"
   },
   {
    "duration": 19,
    "start_time": "2022-11-14T13:03:03.540Z"
   },
   {
    "duration": 12,
    "start_time": "2022-11-14T13:03:03.561Z"
   },
   {
    "duration": 26,
    "start_time": "2022-11-14T13:03:03.575Z"
   },
   {
    "duration": 13,
    "start_time": "2022-11-14T13:03:03.602Z"
   },
   {
    "duration": 7,
    "start_time": "2022-11-14T13:03:03.633Z"
   },
   {
    "duration": 0,
    "start_time": "2022-11-14T13:03:03.643Z"
   },
   {
    "duration": 0,
    "start_time": "2022-11-14T13:03:03.644Z"
   },
   {
    "duration": 0,
    "start_time": "2022-11-14T13:03:03.645Z"
   },
   {
    "duration": 0,
    "start_time": "2022-11-14T13:03:03.646Z"
   },
   {
    "duration": 0,
    "start_time": "2022-11-14T13:03:03.647Z"
   },
   {
    "duration": 0,
    "start_time": "2022-11-14T13:03:03.648Z"
   },
   {
    "duration": 0,
    "start_time": "2022-11-14T13:03:03.649Z"
   },
   {
    "duration": 0,
    "start_time": "2022-11-14T13:03:03.650Z"
   },
   {
    "duration": 0,
    "start_time": "2022-11-14T13:03:03.651Z"
   },
   {
    "duration": 0,
    "start_time": "2022-11-14T13:03:03.652Z"
   },
   {
    "duration": 0,
    "start_time": "2022-11-14T13:03:03.653Z"
   },
   {
    "duration": 7,
    "start_time": "2022-11-14T13:03:09.582Z"
   },
   {
    "duration": 8,
    "start_time": "2022-11-14T13:03:17.630Z"
   },
   {
    "duration": 10,
    "start_time": "2022-11-14T13:03:27.697Z"
   },
   {
    "duration": 9,
    "start_time": "2022-11-14T13:06:48.666Z"
   },
   {
    "duration": 341,
    "start_time": "2022-11-14T15:19:41.769Z"
   },
   {
    "duration": 241,
    "start_time": "2022-11-14T15:19:42.114Z"
   },
   {
    "duration": 10,
    "start_time": "2022-11-14T15:19:42.356Z"
   },
   {
    "duration": 27,
    "start_time": "2022-11-14T15:19:42.368Z"
   },
   {
    "duration": 2,
    "start_time": "2022-11-14T15:19:42.397Z"
   },
   {
    "duration": 141,
    "start_time": "2022-11-14T15:19:42.401Z"
   },
   {
    "duration": 10,
    "start_time": "2022-11-14T15:19:42.544Z"
   },
   {
    "duration": 6,
    "start_time": "2022-11-14T15:19:42.556Z"
   },
   {
    "duration": 23,
    "start_time": "2022-11-14T15:19:42.564Z"
   },
   {
    "duration": 36,
    "start_time": "2022-11-14T15:19:42.589Z"
   },
   {
    "duration": 19,
    "start_time": "2022-11-14T15:19:42.626Z"
   },
   {
    "duration": 67,
    "start_time": "2022-11-14T15:19:42.647Z"
   },
   {
    "duration": 129,
    "start_time": "2022-11-14T15:19:42.716Z"
   },
   {
    "duration": 64,
    "start_time": "2022-11-14T15:19:42.848Z"
   },
   {
    "duration": 40,
    "start_time": "2022-11-14T15:19:42.914Z"
   },
   {
    "duration": 9,
    "start_time": "2022-11-14T15:19:42.955Z"
   },
   {
    "duration": 60,
    "start_time": "2022-11-14T15:19:42.965Z"
   },
   {
    "duration": 11,
    "start_time": "2022-11-14T15:19:43.026Z"
   },
   {
    "duration": 10,
    "start_time": "2022-11-14T15:19:43.039Z"
   },
   {
    "duration": 14,
    "start_time": "2022-11-14T15:19:43.051Z"
   },
   {
    "duration": 13,
    "start_time": "2022-11-14T15:19:43.066Z"
   },
   {
    "duration": 14,
    "start_time": "2022-11-14T15:19:43.081Z"
   },
   {
    "duration": 30,
    "start_time": "2022-11-14T15:19:43.096Z"
   },
   {
    "duration": 18,
    "start_time": "2022-11-14T15:19:43.128Z"
   },
   {
    "duration": 26,
    "start_time": "2022-11-14T15:19:43.147Z"
   },
   {
    "duration": 13,
    "start_time": "2022-11-14T15:19:43.174Z"
   },
   {
    "duration": 79,
    "start_time": "2022-11-14T15:19:43.188Z"
   },
   {
    "duration": 0,
    "start_time": "2022-11-14T15:19:43.268Z"
   },
   {
    "duration": 0,
    "start_time": "2022-11-14T15:19:43.269Z"
   },
   {
    "duration": 0,
    "start_time": "2022-11-14T15:19:43.271Z"
   },
   {
    "duration": 0,
    "start_time": "2022-11-14T15:19:43.272Z"
   },
   {
    "duration": 0,
    "start_time": "2022-11-14T15:19:43.273Z"
   },
   {
    "duration": 0,
    "start_time": "2022-11-14T15:19:43.273Z"
   },
   {
    "duration": 0,
    "start_time": "2022-11-14T15:19:43.274Z"
   },
   {
    "duration": 0,
    "start_time": "2022-11-14T15:19:43.275Z"
   },
   {
    "duration": 0,
    "start_time": "2022-11-14T15:19:43.276Z"
   },
   {
    "duration": 0,
    "start_time": "2022-11-14T15:19:43.277Z"
   },
   {
    "duration": 0,
    "start_time": "2022-11-14T15:19:43.278Z"
   },
   {
    "duration": 7,
    "start_time": "2022-11-14T15:23:44.267Z"
   },
   {
    "duration": 2,
    "start_time": "2022-11-14T15:23:55.944Z"
   },
   {
    "duration": 171,
    "start_time": "2022-11-14T15:23:55.949Z"
   },
   {
    "duration": 11,
    "start_time": "2022-11-14T15:23:56.123Z"
   },
   {
    "duration": 24,
    "start_time": "2022-11-14T15:23:56.135Z"
   },
   {
    "duration": 2,
    "start_time": "2022-11-14T15:23:56.161Z"
   },
   {
    "duration": 173,
    "start_time": "2022-11-14T15:23:56.165Z"
   },
   {
    "duration": 14,
    "start_time": "2022-11-14T15:23:56.340Z"
   },
   {
    "duration": 6,
    "start_time": "2022-11-14T15:23:56.356Z"
   },
   {
    "duration": 29,
    "start_time": "2022-11-14T15:23:56.363Z"
   },
   {
    "duration": 30,
    "start_time": "2022-11-14T15:23:56.394Z"
   },
   {
    "duration": 24,
    "start_time": "2022-11-14T15:23:56.427Z"
   },
   {
    "duration": 75,
    "start_time": "2022-11-14T15:23:56.452Z"
   },
   {
    "duration": 128,
    "start_time": "2022-11-14T15:23:56.529Z"
   },
   {
    "duration": 59,
    "start_time": "2022-11-14T15:23:56.660Z"
   },
   {
    "duration": 40,
    "start_time": "2022-11-14T15:23:56.721Z"
   },
   {
    "duration": 9,
    "start_time": "2022-11-14T15:23:56.762Z"
   },
   {
    "duration": 53,
    "start_time": "2022-11-14T15:23:56.781Z"
   },
   {
    "duration": 10,
    "start_time": "2022-11-14T15:23:56.836Z"
   },
   {
    "duration": 15,
    "start_time": "2022-11-14T15:23:56.848Z"
   },
   {
    "duration": 14,
    "start_time": "2022-11-14T15:23:56.865Z"
   },
   {
    "duration": 46,
    "start_time": "2022-11-14T15:23:56.881Z"
   },
   {
    "duration": 14,
    "start_time": "2022-11-14T15:23:56.929Z"
   },
   {
    "duration": 15,
    "start_time": "2022-11-14T15:23:56.946Z"
   },
   {
    "duration": 14,
    "start_time": "2022-11-14T15:23:56.962Z"
   },
   {
    "duration": 39,
    "start_time": "2022-11-14T15:23:56.978Z"
   },
   {
    "duration": 13,
    "start_time": "2022-11-14T15:23:57.018Z"
   },
   {
    "duration": 6,
    "start_time": "2022-11-14T15:23:57.033Z"
   },
   {
    "duration": 0,
    "start_time": "2022-11-14T15:23:57.041Z"
   },
   {
    "duration": 0,
    "start_time": "2022-11-14T15:23:57.043Z"
   },
   {
    "duration": 0,
    "start_time": "2022-11-14T15:23:57.044Z"
   },
   {
    "duration": 0,
    "start_time": "2022-11-14T15:23:57.045Z"
   },
   {
    "duration": 0,
    "start_time": "2022-11-14T15:23:57.046Z"
   },
   {
    "duration": 0,
    "start_time": "2022-11-14T15:23:57.047Z"
   },
   {
    "duration": 0,
    "start_time": "2022-11-14T15:23:57.048Z"
   },
   {
    "duration": 0,
    "start_time": "2022-11-14T15:23:57.049Z"
   },
   {
    "duration": 0,
    "start_time": "2022-11-14T15:23:57.050Z"
   },
   {
    "duration": 0,
    "start_time": "2022-11-14T15:23:57.051Z"
   },
   {
    "duration": 0,
    "start_time": "2022-11-14T15:23:57.052Z"
   },
   {
    "duration": 8,
    "start_time": "2022-11-14T15:24:19.469Z"
   },
   {
    "duration": 13,
    "start_time": "2022-11-14T15:25:04.391Z"
   },
   {
    "duration": 4,
    "start_time": "2022-11-14T15:26:46.628Z"
   },
   {
    "duration": 4,
    "start_time": "2022-11-14T15:26:53.257Z"
   },
   {
    "duration": 9,
    "start_time": "2022-11-14T15:27:22.790Z"
   },
   {
    "duration": 8,
    "start_time": "2022-11-14T15:28:46.040Z"
   },
   {
    "duration": 9,
    "start_time": "2022-11-14T15:31:08.713Z"
   },
   {
    "duration": 7,
    "start_time": "2022-11-14T15:33:00.404Z"
   },
   {
    "duration": 6,
    "start_time": "2022-11-14T15:33:04.404Z"
   },
   {
    "duration": 12,
    "start_time": "2022-11-14T15:45:37.562Z"
   },
   {
    "duration": 285,
    "start_time": "2022-11-14T15:51:02.687Z"
   },
   {
    "duration": 4,
    "start_time": "2022-11-14T15:51:11.993Z"
   },
   {
    "duration": 72,
    "start_time": "2022-11-14T15:56:07.412Z"
   },
   {
    "duration": 6,
    "start_time": "2022-11-14T15:58:14.466Z"
   },
   {
    "duration": 7,
    "start_time": "2022-11-14T15:58:21.308Z"
   },
   {
    "duration": 7,
    "start_time": "2022-11-14T15:58:38.838Z"
   },
   {
    "duration": 10,
    "start_time": "2022-11-14T15:58:48.588Z"
   },
   {
    "duration": 6,
    "start_time": "2022-11-14T15:59:43.985Z"
   },
   {
    "duration": 8,
    "start_time": "2022-11-14T16:06:44.946Z"
   },
   {
    "duration": 9,
    "start_time": "2022-11-14T16:07:12.701Z"
   },
   {
    "duration": 8,
    "start_time": "2022-11-14T16:07:21.407Z"
   },
   {
    "duration": 13,
    "start_time": "2022-11-14T16:07:24.431Z"
   },
   {
    "duration": 7,
    "start_time": "2022-11-14T16:59:45.132Z"
   },
   {
    "duration": 7,
    "start_time": "2022-11-14T17:00:10.998Z"
   },
   {
    "duration": 10,
    "start_time": "2022-11-14T17:00:45.003Z"
   },
   {
    "duration": 6,
    "start_time": "2022-11-14T17:01:24.140Z"
   },
   {
    "duration": 10,
    "start_time": "2022-11-14T17:03:24.855Z"
   },
   {
    "duration": 13,
    "start_time": "2022-11-14T17:03:27.512Z"
   },
   {
    "duration": 17,
    "start_time": "2022-11-14T17:05:00.876Z"
   },
   {
    "duration": 14,
    "start_time": "2022-11-14T17:05:10.608Z"
   },
   {
    "duration": 11,
    "start_time": "2022-11-14T17:05:37.710Z"
   },
   {
    "duration": 18,
    "start_time": "2022-11-14T17:05:47.897Z"
   },
   {
    "duration": 19,
    "start_time": "2022-11-14T17:06:11.094Z"
   },
   {
    "duration": 1190,
    "start_time": "2022-11-14T17:14:12.182Z"
   },
   {
    "duration": 1110,
    "start_time": "2022-11-14T17:14:38.128Z"
   },
   {
    "duration": 15,
    "start_time": "2022-11-14T17:15:05.529Z"
   },
   {
    "duration": 22,
    "start_time": "2022-11-14T17:15:09.107Z"
   },
   {
    "duration": 4,
    "start_time": "2022-11-14T17:15:25.877Z"
   },
   {
    "duration": 12,
    "start_time": "2022-11-14T17:15:37.726Z"
   },
   {
    "duration": 12,
    "start_time": "2022-11-14T17:16:07.654Z"
   },
   {
    "duration": 8,
    "start_time": "2022-11-14T17:16:18.726Z"
   },
   {
    "duration": 11,
    "start_time": "2022-11-14T17:16:34.096Z"
   },
   {
    "duration": 34,
    "start_time": "2022-11-14T17:18:07.870Z"
   },
   {
    "duration": 34,
    "start_time": "2022-11-14T17:18:38.731Z"
   },
   {
    "duration": 49,
    "start_time": "2022-11-14T17:18:49.100Z"
   },
   {
    "duration": 39,
    "start_time": "2022-11-14T17:19:17.079Z"
   },
   {
    "duration": 61,
    "start_time": "2022-11-14T17:21:38.530Z"
   },
   {
    "duration": 1238,
    "start_time": "2022-11-14T17:21:50.625Z"
   },
   {
    "duration": 41,
    "start_time": "2022-11-14T17:22:15.975Z"
   },
   {
    "duration": 39,
    "start_time": "2022-11-14T17:25:24.576Z"
   },
   {
    "duration": 10,
    "start_time": "2022-11-14T17:25:45.504Z"
   },
   {
    "duration": 12,
    "start_time": "2022-11-14T17:26:41.522Z"
   },
   {
    "duration": 24,
    "start_time": "2022-11-14T17:27:52.147Z"
   },
   {
    "duration": 13,
    "start_time": "2022-11-14T17:27:58.841Z"
   },
   {
    "duration": 11,
    "start_time": "2022-11-14T17:28:27.578Z"
   },
   {
    "duration": 23,
    "start_time": "2022-11-14T17:28:40.665Z"
   },
   {
    "duration": 15,
    "start_time": "2022-11-14T17:28:53.446Z"
   },
   {
    "duration": 10,
    "start_time": "2022-11-14T17:30:26.058Z"
   },
   {
    "duration": 36,
    "start_time": "2022-11-14T17:31:11.250Z"
   },
   {
    "duration": 10,
    "start_time": "2022-11-14T17:31:41.185Z"
   },
   {
    "duration": 16,
    "start_time": "2022-11-14T17:31:59.909Z"
   },
   {
    "duration": 14,
    "start_time": "2022-11-14T17:32:35.139Z"
   },
   {
    "duration": 14,
    "start_time": "2022-11-14T17:32:49.034Z"
   },
   {
    "duration": 13,
    "start_time": "2022-11-14T17:33:03.330Z"
   },
   {
    "duration": 18,
    "start_time": "2022-11-14T17:33:42.924Z"
   },
   {
    "duration": 12,
    "start_time": "2022-11-14T17:33:53.300Z"
   },
   {
    "duration": 10,
    "start_time": "2022-11-15T05:09:28.410Z"
   },
   {
    "duration": 5,
    "start_time": "2022-11-15T05:09:45.764Z"
   },
   {
    "duration": 16,
    "start_time": "2022-11-15T05:10:05.859Z"
   },
   {
    "duration": 6,
    "start_time": "2022-11-15T05:10:29.679Z"
   },
   {
    "duration": 12,
    "start_time": "2022-11-15T05:10:59.474Z"
   },
   {
    "duration": 5,
    "start_time": "2022-11-15T05:11:05.388Z"
   },
   {
    "duration": 16,
    "start_time": "2022-11-15T05:11:31.460Z"
   },
   {
    "duration": 7,
    "start_time": "2022-11-15T05:11:37.298Z"
   },
   {
    "duration": 13,
    "start_time": "2022-11-15T05:12:20.511Z"
   },
   {
    "duration": 16,
    "start_time": "2022-11-15T05:16:44.855Z"
   },
   {
    "duration": 5,
    "start_time": "2022-11-15T05:16:48.587Z"
   },
   {
    "duration": 12,
    "start_time": "2022-11-15T05:25:42.336Z"
   },
   {
    "duration": 5,
    "start_time": "2022-11-15T05:25:48.749Z"
   },
   {
    "duration": 16,
    "start_time": "2022-11-15T05:26:02.983Z"
   },
   {
    "duration": 14,
    "start_time": "2022-11-15T05:26:08.001Z"
   },
   {
    "duration": 5,
    "start_time": "2022-11-15T05:26:12.722Z"
   },
   {
    "duration": 12,
    "start_time": "2022-11-15T05:30:08.424Z"
   },
   {
    "duration": 6,
    "start_time": "2022-11-15T05:30:32.996Z"
   }
  ],
  "colab": {
   "collapsed_sections": [
    "E0vqbgi9ay0H",
    "VUC88oWjTJw2"
   ],
   "name": "automatization_template_upd4.ipynb",
   "provenance": []
  },
  "kernelspec": {
   "display_name": "Python 3 (ipykernel)",
   "language": "python",
   "name": "python3"
  },
  "language_info": {
   "codemirror_mode": {
    "name": "ipython",
    "version": 3
   },
   "file_extension": ".py",
   "mimetype": "text/x-python",
   "name": "python",
   "nbconvert_exporter": "python",
   "pygments_lexer": "ipython3",
   "version": "3.9.5"
  },
  "toc": {
   "base_numbering": 1,
   "nav_menu": {
    "height": "215px",
    "width": "403px"
   },
   "number_sections": true,
   "sideBar": true,
   "skip_h1_title": true,
   "title_cell": "Table of Contents",
   "title_sidebar": "Contents",
   "toc_cell": false,
   "toc_position": {
    "height": "calc(100% - 180px)",
    "left": "10px",
    "top": "150px",
    "width": "285.825px"
   },
   "toc_section_display": true,
   "toc_window_display": false
  }
 },
 "nbformat": 4,
 "nbformat_minor": 1
}
